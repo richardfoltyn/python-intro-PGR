{
 "cells": [
  {
   "cell_type": "markdown",
   "metadata": {
    "collapsed": true
   },
   "source": [
    "# Language and NumPy basics\n",
    "\n",
    "In this unit we start exploring the Python language,\n",
    "covering the following topics:\n",
    "\n",
    "1. Basic syntax\n",
    "2. Built-in data types\n",
    "3. NumPy arrays\n",
    "\n",
    "***\n",
    "## Basic syntax\n",
    "\n",
    "-   Everything after a # character (until the end of the line) is a comment and will be ignored.\n",
    "-   Variable names are case sensitive.\n",
    "-   Whitespace characters matter (unlike in most languages)!\n",
    "-   Python uses indentation (usually 4 spaces) to group statements,\n",
    "    for example loop bodies, functions, etc.\n",
    "-   You don't need to add a character to terminate a line, unlike in some languages.\n",
    "-   You can use the `print()` function to inspect almost any object."
   ]
  },
  {
   "cell_type": "markdown",
   "metadata": {
    "pycharm": {
     "name": "#%% md\n"
    }
   },
   "source": [
    "***\n",
    "## Built-in data types\n",
    "\n",
    "Pythons is a dynamically-typed language:\n",
    "\n",
    "-   Unlike in C or Fortran, you don't need to declare a variable or its type.\n",
    "-   You can inspect a variable's type using the built-in `type()` function,\n",
    "    but you rarely need to do this."
   ]
  },
  {
   "cell_type": "markdown",
   "metadata": {
    "pycharm": {
     "name": "#%% md\n"
    }
   },
   "source": [
    "### Integers, floats and booleans\n",
    "\n",
    "- integers (`int`)\n",
    "- floating-point numbers (`float`): (subset of) real numbers\n",
    "- boolean (`bool`): `True` or `False`"
   ]
  },
  {
   "cell_type": "markdown",
   "metadata": {
    "collapsed": false,
    "pycharm": {
     "name": "#%% md\n"
    }
   },
   "source": [
    "### Strings\n",
    "\n",
    "- object of type `str`\n",
    "- stores sequence of characters\n",
    "- use single quotes `'` or double quotes `\"` to define strings\n",
    "- convert data to strings using string *formatting*"
   ]
  },
  {
   "cell_type": "markdown",
   "metadata": {
    "pycharm": {
     "name": "#%% md\n"
    }
   },
   "source": [
    "### Tuples\n",
    "\n",
    "- object of type `tuple`\n",
    "- immutable collection of values\n",
    "- once created, elements cannot be changed\n",
    "- elements can be retrieved using brackets `[]`\n",
    "- indexing: retrieve single elements or slices\n",
    "    - **IMPORTANT**: Python indices are 0-based"
   ]
  },
  {
   "cell_type": "markdown",
   "metadata": {
    "pycharm": {
     "name": "#%% md\n"
    }
   },
   "source": [
    "### Lists\n",
    "\n",
    "- object of type `list`\n",
    "- *mutable* collection of values\n",
    "- elements can be retrieved using brackets `[]`\n",
    "- indexing is identical to tuples\n",
    "- has methods such as `insert()` or `append()`\n",
    "- use `del` statement to delete elements"
   ]
  },
  {
   "cell_type": "markdown",
   "metadata": {
    "pycharm": {
     "name": "#%% md\n"
    }
   },
   "source": [
    "### Dictionaries\n",
    "\n",
    "- object of type `dict`\n",
    "- maps keys to values\n",
    "- keys and values can be (almost any) Python objects\n",
    "- elements can be retrieved using brackets `[]` or `get()` method"
   ]
  },
  {
   "cell_type": "markdown",
   "metadata": {
    "pycharm": {
     "name": "#%% md\n"
    }
   },
   "source": [
    "***\n",
    "## NumPy arrays\n",
    "\n",
    "NumPy is a library that allows us to efficiently store and access\n",
    "(mainly) numerical data and apply numerical operations\n",
    "similar to those available in Matlab.\n",
    "\n",
    "-   NumPy is not part of the core Python project.\n",
    "-   Python itself has an array type, but there is really no\n",
    "    reason to use it. Use NumPy!\n",
    "-   NumPy types and functions are not built-in, we must\n",
    "    first import them to make them visible.\n",
    "    We do this using the `import` statement."
   ]
  },
  {
   "cell_type": "markdown",
   "metadata": {
    "pycharm": {
     "name": "#%% md\n"
    }
   },
   "source": [
    "### Creating arrays\n",
    "\n",
    "- create arrays using functions `zeros()`, `ones()`, `arange()`, `linspace()`, etc.\n",
    "- create arrays from existing Python collections using `np.array()`"
   ]
  },
  {
   "cell_type": "markdown",
   "metadata": {
    "pycharm": {
     "name": "#%% md\n"
    }
   },
   "source": [
    "### Reshaping arrays\n",
    "\n",
    "- arrays can be reshaped using the `reshape()` method\n",
    "- use `flatten()` to reshape to a 1-dimensional array\n",
    "- reshaped array must have *identical* number of elements"
   ]
  },
  {
   "cell_type": "markdown",
   "metadata": {
    "pycharm": {
     "name": "#%% md\n"
    }
   },
   "source": [
    "### Indexing\n",
    "\n",
    "- retrieve single element at given index\n",
    "- retrieve multiple elements using *slices*\n",
    "- **IMPORTANT**: Python indices are 0-based\n"
   ]
  },
  {
   "cell_type": "markdown",
   "metadata": {
    "pycharm": {
     "name": "#%% md\n"
    }
   },
   "source": [
    "### Numerical data types (advanced)\n",
    "\n",
    "- many array creation routines support `dtype` argument\n",
    "- most common data types: 64-bit floating point, 64-bit integer\n",
    "- data types often derived from arguments"
   ]
  }
 ],
 "metadata": {
  "kernelspec": {
   "display_name": "Python 3.10.4 ('py3-default')",
   "language": "python",
   "name": "python3"
  },
  "language_info": {
   "codemirror_mode": {
    "name": "ipython",
    "version": 3
   },
   "file_extension": ".py",
   "mimetype": "text/x-python",
   "name": "python",
   "nbconvert_exporter": "python",
   "pygments_lexer": "ipython3",
   "version": "3.10.4"
  },
  "vscode": {
   "interpreter": {
    "hash": "89692ee4bd8d7a7842eb7c7050f10ae8c4113955275de7625334d5364ea86119"
   }
  }
 },
 "nbformat": 4,
 "nbformat_minor": 1
}
