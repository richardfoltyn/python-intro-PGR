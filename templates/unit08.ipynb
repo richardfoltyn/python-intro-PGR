{
 "cells": [
  {
   "cell_type": "markdown",
   "metadata": {
    "collapsed": true,
    "pycharm": {
     "name": "#%% md\n"
    }
   },
   "source": [
    "# Random number generation and statistics\n",
    "\n",
    "## Random number generators\n",
    "\n",
    "1.  The **new** programming interface implemented in NumPy\n",
    "2.  The **legacy** programming interface implemented in NumPy\n",
    "3.  The Python standard library (don't use this)"
   ]
  },
  {
   "cell_type": "markdown",
   "metadata": {},
   "source": [
    "***\n",
    "### Simple random data generation with NumPy\n",
    "\n",
    "- Get PRNG instance with `default_rng()`\n",
    "- Set `seed` for reproducibility\n",
    "- [`random()`](https://numpy.org/doc/stable/reference/random/generated/numpy.random.Generator.random.html): random numbers on interval `[0,1)` \n",
    "- [`integers()`](https://numpy.org/doc/stable/reference/random/generated/numpy.random.Generator.integers.html): random integers\n",
    "- Use `size` argument to control shape of output"
   ]
  },
  {
   "cell_type": "markdown",
   "metadata": {
    "pycharm": {
     "name": "#%% md\n"
    }
   },
   "source": [
    "***\n",
    "### Legacy interface in NumPy\n",
    "\n",
    "- `seed()`\n",
    "- `random_sample()`: random numbers on interval  `[0,1)`\n",
    "- `randint()`: random integers"
   ]
  },
  {
   "cell_type": "markdown",
   "metadata": {
    "pycharm": {
     "name": "#%% md\n"
    }
   },
   "source": [
    "***\n",
    "### Drawing random numbers from distributions\n",
    "\n",
    "[`numpy.random`](https://numpy.org/doc/stable/reference/random/generator.html#distributions)\n",
    "supports numerous distributions, e.g.:\n",
    "\n",
    "-   [`binomial()`](https://numpy.org/doc/stable/reference/random/generated/numpy.random.RandomState.binomial.html)\n",
    "-   [`exponential()`](https://numpy.org/doc/stable/reference/random/generated/numpy.random.RandomState.exponential.html)\n",
    "-   [`normal()`](https://numpy.org/doc/stable/reference/random/generated/numpy.random.RandomState.normal.html)\n",
    "-   [`lognormal()`](https://numpy.org/doc/stable/reference/random/generated/numpy.random.RandomState.lognormal.html)\n",
    "-   [`multivariate_normal()`](https://numpy.org/doc/stable/reference/random/generated/numpy.random.RandomState.multivariate_normal.html)\n",
    "-   [`uniform()`](https://numpy.org/doc/stable/reference/random/generated/numpy.random.RandomState.uniform.html)\n",
    "-   Many others, see [official documentation](https://numpy.org/doc/stable/reference/random/generator.html#distributions)"
   ]
  },
  {
   "cell_type": "markdown",
   "metadata": {},
   "source": [
    "#### Example: Drawing from a normal distribution\n",
    "\n",
    "- Use `loc` and `scale` arguments to set mean and standard deviation"
   ]
  },
  {
   "cell_type": "markdown",
   "metadata": {
    "pycharm": {
     "name": "#%% md\n"
    }
   },
   "source": [
    "#### Example: Drawing from a bivariate normal distribution\n",
    "\n",
    "$$\n",
    "\\mu = \\begin{bmatrix} \\mu_1 \\\\ \\mu_2 \\end{bmatrix}, \\qquad \n",
    "\\Sigma=\\begin{bmatrix} \\sigma_1^2 & \\rho \\sigma_1\\sigma_2 \\\\ \\rho\\sigma_1\\sigma_2 & \\sigma_2^2\\end{bmatrix}\n",
    "$$"
   ]
  },
  {
   "cell_type": "markdown",
   "metadata": {
    "pycharm": {
     "name": "#%% md\n"
    }
   },
   "source": [
    "***\n",
    "## SciPy functions for probability distributions\n",
    "\n",
    "[`scipy.stats`](https://docs.scipy.org/doc/scipy/reference/stats.html) \n",
    "contains numerous distributions. Useful functions include:\n",
    "\n",
    "-   `pdf()`: probability density function\n",
    "-   `cdf()`: cumulative distribution function\n",
    "-   `ppf()`: percent point function (inverse of `cdf`)\n",
    "-   `moment()`: non-central moment of some order $n$\n",
    "-   `expect()`: expected value of a function (of one argument) with\n",
    "    respect to the distribution"
   ]
  },
  {
   "cell_type": "markdown",
   "metadata": {},
   "source": [
    "#### Example: Plotting a normal probability density function (PDF)\n",
    "\n",
    "1. Generate draws from normal distribution\n",
    "2. Create histogram using [`plt.hist()`](https://matplotlib.org/stable/api/_as_gen/matplotlib.pyplot.hist.html) \n",
    "3. Add PDF of normal distribution"
   ]
  },
  {
   "cell_type": "markdown",
   "metadata": {
    "pycharm": {
     "name": "#%% md\n"
    }
   },
   "source": [
    "***\n",
    "## Statistics functions in NumPy and SciPy\n",
    "\n",
    "In NumPy, the most useful routines include:\n",
    "\n",
    "-   [`np.mean()`](https://numpy.org/doc/stable/reference/generated/numpy.mean.html),\n",
    "    [`np.average()`](https://numpy.org/doc/stable/reference/generated/numpy.average.html): sample mean;\n",
    "    the latter variant can also compute weighted means.\n",
    "-   [`np.std()`](https://numpy.org/doc/stable/reference/generated/numpy.std), \n",
    "    [`np.var()`](https://numpy.org/doc/stable/reference/generated/numpy.var.html): \n",
    "    sample standard deviation and variance\n",
    "-   [`np.percentile()`](https://numpy.org/doc/stable/reference/generated/numpy.percentile.html), \n",
    "    [`np.quantile()`](https://numpy.org/doc/stable/reference/generated/numpy.quantile.html): \n",
    "    percentiles or quantiles of a given array\n",
    "-   [`np.corrcoef()`](https://numpy.org/doc/stable/reference/generated/numpy.corrcoef.html): \n",
    "    Pearson correlation coefficient\n",
    "-   [`np.cov()`](https://numpy.org/doc/stable/reference/generated/numpy.cov.html): \n",
    "    sample variance-covariance matrix\n",
    "-   [`np.histogram()`](https://numpy.org/doc/stable/reference/generated/numpy.histogram.html): \n",
    "    histogram of data. This only bins the data,\n",
    "    as opposed to Matplotlib's `hist()` which plots it.\n",
    "\n",
    "In addition, there are the variants \n",
    "[`np.nanmean()`](https://numpy.org/doc/stable/reference/generated/numpy.nanmean.html), \n",
    "[`np.nanstd()`](https://numpy.org/doc/stable/reference/generated/numpy.nanstd.html), \n",
    "[`np.nanvar()`](https://numpy.org/doc/stable/reference/generated/numpy.nanvar.html) \n",
    "[`np.nanpercentile()`](https://numpy.org/doc/stable/reference/generated/numpy.nanpercentile.html) and \n",
    "[`np.nanquantile()`](https://numpy.org/doc/stable/reference/generated/numpy.nanquantile.html)\n",
    "which ignore `NaN` values."
   ]
  },
  {
   "cell_type": "markdown",
   "metadata": {},
   "source": [
    "#### Example: Pairwise correlations"
   ]
  },
  {
   "cell_type": "markdown",
   "metadata": {},
   "source": [
    "#### Example: Descriptive statistics\n",
    "\n",
    "- Use [`scipy.stats.describe()`](https://docs.scipy.org/doc/scipy/reference/generated/scipy.stats.describe.html) "
   ]
  }
 ],
 "metadata": {
  "kernelspec": {
   "display_name": "Python 3.10.4 ('py3-default')",
   "language": "python",
   "name": "python3"
  },
  "language_info": {
   "codemirror_mode": {
    "name": "ipython",
    "version": 3
   },
   "file_extension": ".py",
   "mimetype": "text/x-python",
   "name": "python",
   "nbconvert_exporter": "python",
   "pygments_lexer": "ipython3",
   "version": "3.10.4"
  },
  "vscode": {
   "interpreter": {
    "hash": "89692ee4bd8d7a7842eb7c7050f10ae8c4113955275de7625334d5364ea86119"
   }
  }
 },
 "nbformat": 4,
 "nbformat_minor": 1
}
