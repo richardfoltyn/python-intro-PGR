{
 "cells": [
  {
   "attachments": {},
   "cell_type": "markdown",
   "metadata": {
    "collapsed": true,
    "pycharm": {
     "name": "#%% md\n"
    }
   },
   "source": [
    "# Handling data with pandas\n",
    "\n",
    "\n",
    "## Motivation\n",
    "\n",
    "| Name | Date of birth | Income |\n",
    "| ---- | ------------- | ------ |\n",
    "| Alice | 1985-01-01   | 30,000 |\n",
    "| Bob  | 1997-05-12    | -      |"
   ]
  },
  {
   "attachments": {},
   "cell_type": "markdown",
   "metadata": {
    "collapsed": false,
    "pycharm": {
     "name": "#%% md\n"
    }
   },
   "source": [
    "***\n",
    "## Creating pandas data structures\n",
    "\n",
    "Pandas has two main data structures:\n",
    "\n",
    "1.  [`Series`](https://pandas.pydata.org/docs/reference/series.html) \n",
    "2.  [`DataFrame`](https://pandas.pydata.org/docs/reference/frame.html) "
   ]
  },
  {
   "attachments": {},
   "cell_type": "markdown",
   "metadata": {
    "collapsed": false,
    "pycharm": {
     "name": "#%% md\n"
    }
   },
   "source": [
    "***\n",
    "## Viewing data\n",
    "\n",
    "We use a data set of 23 UK universities that contains\n",
    "the following variables:\n",
    "\n",
    "-   `Instititution`: Name of the institution\n",
    "-   `Country`: Country/nation within the UK (England, Scotland, ...)\n",
    "-   `Founded`: Year in which university (or a predecessor institution)\n",
    "    was founded\n",
    "-   `Students`: Total number of students\n",
    "-   `Staff`: Number of academic staff\n",
    "-   `Admin`: Number of administrative staff\n",
    "-   `Budget`: Budget in million pounds\n",
    "-   `Russell`: Binary indicator whether university is a member of the\n",
    "    [Russell Group](https://en.wikipedia.org/wiki/Russell_Group),\n",
    "    an association of the UK's top research universities.\n",
    "\n",
    "Methods to inspect data:\n",
    "\n",
    "- `head()`, `tail()`\n",
    "- `describe()`\n",
    "- `value_counts()`\n",
    "- `info()`"
   ]
  },
  {
   "cell_type": "code",
   "execution_count": 6,
   "metadata": {},
   "outputs": [],
   "source": [
    "# Uncomment this to use files in the local data/ directory\n",
    "DATA_PATH = '../data'\n",
    "\n",
    "# Uncomment this to load data directly from GitHub\n",
    "# DATA_PATH = 'https://raw.githubusercontent.com/richardfoltyn/python-intro-PGR/main/data'"
   ]
  },
  {
   "attachments": {},
   "cell_type": "markdown",
   "metadata": {
    "collapsed": false,
    "pycharm": {
     "name": "#%% md\n"
    }
   },
   "source": [
    "***\n",
    "## Indexing\n",
    "\n",
    "1. Indexing by position (just like NumPy)\n",
    "2. Indexing by label (no equivalent in NumPy)\n",
    "\n",
    "Ways to select elements\n",
    "\n",
    "1. Select columns with `[]` (also works with rows but confusing)\n",
    "2. Select by label with `.loc[]`\n",
    "3. Select by position with `.iloc[]`"
   ]
  },
  {
   "attachments": {},
   "cell_type": "markdown",
   "metadata": {
    "collapsed": false,
    "pycharm": {
     "name": "#%% md\n"
    }
   },
   "source": [
    "### Creating and manipulating indices\n",
    "\n",
    "- Create custom index by passing `index=...` argument\n",
    "- Use `set_index()` to use given column(s) as index\n",
    "- Use `reset_index()` to restore default index\n",
    "- Index manipulations return a *copy*, use `inplace=True` to modify original object."
   ]
  },
  {
   "attachments": {},
   "cell_type": "markdown",
   "metadata": {
    "collapsed": false,
    "pycharm": {
     "name": "#%% md\n"
    }
   },
   "source": [
    "### Selecting elements\n",
    "\n",
    "To more clearly distinguish between selection by label and by position,\n",
    "pandas provides the [`.loc[]`](https://pandas.pydata.org/docs/reference/api/pandas.DataFrame.loc.html) and \n",
    "[`.iloc[]`](https://pandas.pydata.org/docs/reference/api/pandas.DataFrame.iloc.html) methods of indexing.\n",
    "To make your intention obvious, you should therefore adhere to the following\n",
    "rules:\n",
    "\n",
    "1.  Use `df['name']` only to select *columns* and nothing else.\n",
    "2.  Use `.loc[]` to select by label.\n",
    "3.  Use `.iloc[]` to select by position."
   ]
  },
  {
   "attachments": {},
   "cell_type": "markdown",
   "metadata": {},
   "source": [
    "#### Selection by label\n",
    "\n",
    "- `.loc[]` accepts labels, *not* positional indices\n",
    "- Also works with boolean masks"
   ]
  },
  {
   "attachments": {},
   "cell_type": "markdown",
   "metadata": {
    "collapsed": false,
    "pycharm": {
     "name": "#%% md\n"
    }
   },
   "source": [
    "#### Selection by position\n",
    "\n",
    "- `.iloc[]` accepts positional indices, *not* labels\n",
    "- Also works with boolean masks"
   ]
  },
  {
   "attachments": {},
   "cell_type": "markdown",
   "metadata": {},
   "source": [
    "#### Boolean indexing"
   ]
  },
  {
   "attachments": {},
   "cell_type": "markdown",
   "metadata": {
    "collapsed": false,
    "pycharm": {
     "name": "#%% md\n"
    }
   },
   "source": [
    "***\n",
    "## Aggregation, reduction and transformation\n",
    "\n",
    "- Aggregation / reduction: reduce data to lower-dimensional statistics (e.g., averages)\n",
    "- Transformation: apply to each observation, keep data dimension unchanged\n",
    "\n",
    "**Common aggregation functions:**\n",
    "\n",
    "- [`mean()`](https://pandas.pydata.org/docs/reference/api/pandas.core.groupby.GroupBy.mean.html):\n",
    "    averages within each group\n",
    "- [`sum()`](https://pandas.pydata.org/docs/reference/api/pandas.core.groupby.GroupBy.sum.html):\n",
    "    sum values within each group\n",
    "- [`std()`](https://pandas.pydata.org/docs/reference/api/pandas.core.groupby.GroupBy.std.html), \n",
    "    [`var()`](https://pandas.pydata.org/docs/reference/api/pandas.core.groupby.GroupBy.var.html): \n",
    "    within-group standard deviation and variances\n",
    "- [`size()`](https://pandas.pydata.org/docs/reference/api/pandas.core.groupby.GroupBy.size.html): \n",
    "    number of observations in each group\n",
    "- [`first()`](https://pandas.pydata.org/docs/reference/api/pandas.core.groupby.GroupBy.first.html), \n",
    "    [`last()`](https://pandas.pydata.org/docs/reference/api/pandas.core.groupby.GroupBy.last.html): \n",
    "    first and last elements in each group\n",
    "-   [`min()`](https://pandas.pydata.org/docs/reference/api/pandas.core.groupby.GroupBy.min.html), \n",
    "    [`max()`](https://pandas.pydata.org/docs/reference/api/pandas.core.groupby.GroupBy.max.html): \n",
    "    minimum and maximum elements within a group\n",
    "-   [`agg()`](https://pandas.pydata.org/docs/reference/api/pandas.core.groupby.GroupBy.agg.html): apply custom functions"
   ]
  },
  {
   "attachments": {},
   "cell_type": "markdown",
   "metadata": {},
   "source": [
    "### Working with entire DataFrames\n",
    "\n",
    "- Similar to NumPy, but automatically handles missing observations\n",
    "- Operation is applied to *all* observations\n",
    "- Operation is applied to each column separately"
   ]
  },
  {
   "attachments": {},
   "cell_type": "markdown",
   "metadata": {
    "collapsed": false,
    "pycharm": {
     "name": "#%% md\n"
    }
   },
   "source": [
    "### Splitting and grouping\n",
    "\n",
    "- Split data into groups, perform aggregation/reduction/transformation by group"
   ]
  },
  {
   "attachments": {},
   "cell_type": "markdown",
   "metadata": {},
   "source": [
    "### Transformations\n",
    "\n",
    "- Combine observation-level and aggregated data"
   ]
  },
  {
   "attachments": {},
   "cell_type": "markdown",
   "metadata": {},
   "source": [
    "***\n",
    "## Working with time series data\n",
    "\n",
    "- Data points associated with time stamps or time periods"
   ]
  },
  {
   "attachments": {},
   "cell_type": "markdown",
   "metadata": {},
   "source": [
    "### Create date/time index\n",
    "\n",
    "- `pd.date_range()` function"
   ]
  },
  {
   "attachments": {},
   "cell_type": "markdown",
   "metadata": {},
   "source": [
    "### Indexing with date/time indices\n",
    "\n",
    "- Similar to indexing by label"
   ]
  },
  {
   "attachments": {},
   "cell_type": "markdown",
   "metadata": {},
   "source": [
    "### Lags, differences, and other useful transformations\n",
    "\n",
    "Useful functions:\n",
    "\n",
    "- `shift()`\n",
    "- `diff()`\n",
    "- `pct_change()`"
   ]
  },
  {
   "attachments": {},
   "cell_type": "markdown",
   "metadata": {},
   "source": [
    "### Resampling and aggregation\n",
    "\n",
    "- Group by frequency using `resample()` and perform aggregation"
   ]
  },
  {
   "attachments": {},
   "cell_type": "markdown",
   "metadata": {
    "collapsed": false,
    "pycharm": {
     "name": "#%% md\n"
    }
   },
   "source": [
    "***\n",
    "## Visualisation\n",
    "\n",
    "- pandas supports direct plotting of data:\n",
    "    - Bar charts\n",
    "    - Lines\n",
    "    - Box plots\n",
    "    - Scatter plots"
   ]
  },
  {
   "attachments": {},
   "cell_type": "markdown",
   "metadata": {},
   "source": []
  },
  {
   "cell_type": "code",
   "execution_count": 2,
   "metadata": {
    "collapsed": false,
    "pycharm": {
     "name": "#%%\n"
    }
   },
   "outputs": [],
   "source": [
    "import pandas as pd\n",
    "\n",
    "# Uncomment this to use files in the local data/ directory\n",
    "DATA_PATH = '../data'\n",
    "\n",
    "# Uncomment this to load data directly from GitHub\n",
    "# DATA_PATH = 'https://raw.githubusercontent.com/richardfoltyn/python-intro-PGR/main/data'\n",
    "\n",
    "# Read universities data from CSV\n",
    "df = pd.read_csv(f'{DATA_PATH}/universities.csv', sep=';') "
   ]
  },
  {
   "attachments": {},
   "cell_type": "markdown",
   "metadata": {},
   "source": [
    "### Bar charts"
   ]
  },
  {
   "attachments": {},
   "cell_type": "markdown",
   "metadata": {},
   "source": [
    "### Plot time series data"
   ]
  },
  {
   "cell_type": "code",
   "execution_count": null,
   "metadata": {
    "collapsed": false,
    "pycharm": {
     "name": "#%%\n"
    }
   },
   "outputs": [],
   "source": [
    "import numpy as np\n",
    "import pandas as pd\n",
    "\n",
    "# Path to FRED.csv; DATA_PATH variable was defined above!\n",
    "filepath = f'{DATA_PATH}/FRED.csv'\n",
    "\n",
    "# Read CSV data\n",
    "df = pd.read_csv(filepath, sep=',')"
   ]
  },
  {
   "attachments": {},
   "cell_type": "markdown",
   "metadata": {},
   "source": [
    "### Box plots"
   ]
  },
  {
   "attachments": {},
   "cell_type": "markdown",
   "metadata": {},
   "source": [
    "### Scatter plots\n",
    "\n",
    "- `plot.scatter()` method\n",
    "- `scatter_matrix()` function"
   ]
  }
 ],
 "metadata": {
  "kernelspec": {
   "display_name": "Python 3.10.4 ('py3-default')",
   "language": "python",
   "name": "python3"
  },
  "language_info": {
   "codemirror_mode": {
    "name": "ipython",
    "version": 3
   },
   "file_extension": ".py",
   "mimetype": "text/x-python",
   "name": "python",
   "nbconvert_exporter": "python",
   "pygments_lexer": "ipython3",
   "version": "3.10.4"
  },
  "vscode": {
   "interpreter": {
    "hash": "89692ee4bd8d7a7842eb7c7050f10ae8c4113955275de7625334d5364ea86119"
   }
  }
 },
 "nbformat": 4,
 "nbformat_minor": 0
}
