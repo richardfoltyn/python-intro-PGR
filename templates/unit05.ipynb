{
 "cells": [
  {
   "cell_type": "markdown",
   "metadata": {
    "collapsed": true,
    "pycharm": {
     "name": "#%% md\n"
    }
   },
   "source": [
    "# Advanced NumPy"
   ]
  },
  {
   "cell_type": "markdown",
   "metadata": {},
   "source": [
    "***\n",
    "## Why NumPy arrays?\n",
    "\n",
    "- Python's native `list` and `tuple` do not store data efficiently.\n",
    "- `list` and `tuple` do not support mathematical operations.\n",
    "- NumPy arrays are vectorised, `list` and `tuple` are not."
   ]
  },
  {
   "cell_type": "markdown",
   "metadata": {
    "pycharm": {
     "name": "#%% md\n"
    }
   },
   "source": [
    "***\n",
    "\n",
    "## Creating arrays\n",
    "\n",
    "We have already encountered some of the most frequently\n",
    "used array creation routines:\n",
    "\n",
    "-   [`np.array()`](https://numpy.org/doc/stable/reference/generated/numpy.array.html) \n",
    "    creates an array from a given argument, which can be\n",
    "    -   a scalar;\n",
    "    -   a collection such as a list or tuple;\n",
    "    -   some other iterable object, e.g. something created by `range()`.\n",
    "-   [`np.empty()`](https://numpy.org/doc/stable/reference/generated/numpy.empty.html) \n",
    "    allocates memory for a given array shape, but does not\n",
    "    overwrite it with initial values.\n",
    "-   [`np.zeros()`](https://numpy.org/doc/stable/reference/generated/numpy.zeros.html) \n",
    "    creates an array of a given shape and initializes it\n",
    "    to zeros.\n",
    "-   [`np.ones()`](https://numpy.org/doc/stable/reference/generated/numpy.ones.html) \n",
    "    creates an array of a given shape and initializes it\n",
    "    to ones.\n",
    "-   [`np.arange(start,stop,step)`](https://numpy.org/doc/stable/reference/generated/numpy.arange.html) \n",
    "    creates an array with evenly spaced\n",
    "    elements over the range $[start,stop)$.\n",
    "    -   `start` and `step` can be omitted and then default to `start=0` and `step=1`.\n",
    "    -   Note that the number `stop` is never included in\n",
    "        the resulting array!\n",
    "-   [`np.linspace(start,stop,num)`](https://numpy.org/doc/stable/reference/generated/numpy.linspace.html) \n",
    "    returns a vector of `num` elements\n",
    "    which are evenly spaced over the interval $[start,stop]$.\n",
    "-   [`np.identity(n)`](https://numpy.org/doc/stable/reference/generated/numpy.identity.html) \n",
    "    returns the identity matrix of a size $n \\times n$.\n",
    "-   [`np.eye()`](https://numpy.org/doc/stable/reference/generated/numpy.eye.html) \n",
    "    is a more flexible variant of `identity()` that can,\n",
    "    for example, also create non-squared matrices.\n",
    "\n",
    "There are many more array creation functions for more exotic use-cases,\n",
    "see the NumPy  [documentation](https://numpy.org/doc/stable/reference/routines.array-creation.html)\n",
    "for details."
   ]
  },
  {
   "cell_type": "markdown",
   "metadata": {
    "pycharm": {
     "name": "#%% md\n"
    }
   },
   "source": [
    "***\n",
    "## Array shape\n",
    "\n",
    "- Can be passed as argument to many array creation function:\n",
    "    - Shape for 1d arrays (vectors): `(n, )`\n",
    "    - Shape for 2d arrays (matrices): `(m, n)`\n",
    "    - Shape for higher-dimensional arrays: `(k, l, m, n, ...)`\n",
    "    - Shape of scalar arrays: `()`\n",
    "- Shape can be retrieved using `shape` attribute\n",
    "- Array dimension is stored in `ndim` attribute\n"
   ]
  },
  {
   "cell_type": "markdown",
   "metadata": {
    "pycharm": {
     "name": "#%% md\n"
    }
   },
   "source": [
    "***\n",
    "## Advanced indexing\n",
    "\n",
    "- Works only with NumPy arrays, not with `list` or `tuple`\n",
    "\n",
    "### Boolean indexing\n",
    "\n",
    "- Index is an array containing `True` or `False` values\n",
    "- Has same shape as array which is being indexed"
   ]
  },
  {
   "cell_type": "markdown",
   "metadata": {},
   "source": [
    "### Integer array indexing\n",
    "\n",
    "- Select elements using list or array of element indices (but **not** tuples!)"
   ]
  },
  {
   "cell_type": "markdown",
   "metadata": {
    "pycharm": {
     "name": "#%% md\n"
    }
   },
   "source": [
    "***\n",
    "## Numerical operations\n",
    "\n",
    "### Element-wise operations\n",
    "\n",
    "1.  Array-scalar operations\n",
    "2.  Array-array operations\n",
    "3.  Element-wise functions"
   ]
  },
  {
   "cell_type": "markdown",
   "metadata": {},
   "source": [
    "#### Array-scalar operations"
   ]
  },
  {
   "cell_type": "code",
   "execution_count": 29,
   "metadata": {
    "pycharm": {
     "name": "#%%\n"
    }
   },
   "outputs": [],
   "source": [
    "import numpy as np\n",
    "\n",
    "x = np.arange(10)\n",
    "scalar = 1\n",
    "\n",
    "# The resulting array y has the same shape as x:\n",
    "y = x + scalar      # addition\n",
    "y = x - scalar      # subtraction\n",
    "y = x * scalar      # multiplication\n",
    "y = x / scalar      # division\n",
    "y = x // scalar     # division with integer truncation\n",
    "y = x % scalar      # modulo operator\n",
    "y = x ** scalar     # power function\n",
    "y = x == scalar     # comparison: also >, >=, <=, <"
   ]
  },
  {
   "cell_type": "markdown",
   "metadata": {},
   "source": [
    "#### Array-array operations"
   ]
  },
  {
   "cell_type": "markdown",
   "metadata": {
    "pycharm": {
     "name": "#%% md\n"
    }
   },
   "source": [
    "#### Element-wise functions\n",
    "\n",
    "-   [`np.sqrt()`](https://numpy.org/doc/stable/reference/generated/numpy.sqrt.html): square root\n",
    "-   [`np.exp()`](https://numpy.org/doc/stable/reference/generated/numpy.exp.html), \n",
    "    [`np.log()`](https://numpy.org/doc/stable/reference/generated/numpy.log.html), \n",
    "    [`np.log10()`](https://numpy.org/doc/stable/reference/generated/numpy.log10.html): exponential and logarithmic functions\n",
    "-   [`np.sin()`](https://numpy.org/doc/stable/reference/generated/numpy.sin.html), \n",
    "    [`np.cos()`](https://numpy.org/doc/stable/reference/generated/numpy.cos.html), etc.: trigonometric functions"
   ]
  },
  {
   "cell_type": "markdown",
   "metadata": {
    "pycharm": {
     "name": "#%% md\n"
    }
   },
   "source": [
    "### Matrix operations\n",
    "\n",
    "- Transpose\n",
    "- Matrix multiplication"
   ]
  },
  {
   "cell_type": "markdown",
   "metadata": {
    "pycharm": {
     "name": "#%% md\n"
    }
   },
   "source": [
    "### Reductions\n",
    "\n",
    "#### Basic reductions\n",
    "\n",
    "-   [`np.sum()`](https://numpy.org/doc/stable/reference/generated/numpy.sum.html): sum of array elements\n",
    "-   [`np.prod()`](https://numpy.org/doc/stable/reference/generated/numpy.prod.html): product of array elements"
   ]
  },
  {
   "cell_type": "markdown",
   "metadata": {},
   "source": [
    "#### Minima / maxima\n",
    "\n",
    "-   [`np.amin()`](https://numpy.org/doc/stable/reference/generated/numpy.amin.html), \n",
    "    [`np.amax()`](https://numpy.org/doc/stable/reference/generated/numpy.amax.html): minimum and maximum element\n",
    "-   [`np.argmin()`](https://numpy.org/doc/stable/reference/generated/numpy.argmin.html), \n",
    "    [`np.argmax()`](https://numpy.org/doc/stable/reference/generated/numpy.argmax.html): location of minimum and maximum element"
   ]
  },
  {
   "cell_type": "markdown",
   "metadata": {},
   "source": [
    "#### Statistical functions\n",
    "\n",
    "-   [`np.mean()`](https://numpy.org/doc/stable/reference/generated/numpy.mean.html), \n",
    "    [`np.average()`](https://numpy.org/doc/stable/reference/generated/numpy.average.html): mean of array elements\n",
    "-   [`np.median()`](https://numpy.org/doc/stable/reference/generated/numpy.median.html): median of array elements\n",
    "-   [`np.std()`](https://numpy.org/doc/stable/reference/generated/numpy.std.html), \n",
    "    [`np.var()`](https://numpy.org/doc/stable/reference/generated/numpy.var.html): standard deviation and variance of array elements\n",
    "-   [`np.percentile()`](https://numpy.org/doc/stable/reference/generated/numpy.percentile.html): percentiles of array elements"
   ]
  },
  {
   "cell_type": "markdown",
   "metadata": {
    "pycharm": {
     "name": "#%% md\n"
    }
   },
   "source": [
    "***\n",
    "## Broadcasting\n",
    "\n",
    "- Apply element-wise operations to arrays of different shape\n",
    "- For arrays of different dimensions, NumPy automatically inserts *leading* axis until dimensions match."
   ]
  },
  {
   "cell_type": "markdown",
   "metadata": {
    "pycharm": {
     "name": "#%% md\n"
    }
   },
   "source": [
    "***\n",
    "\n",
    "## Vectorisation\n",
    "\n",
    "- Allows us to avoid loops when working with NumPy arrays\n",
    "- Allows for more \"natural\" syntax\n",
    "- Speeds up computations considerably"
   ]
  },
  {
   "cell_type": "markdown",
   "metadata": {},
   "source": [
    "***\n",
    "\n",
    "## Copies and views (advanced)\n",
    "\n",
    "- NumPy tries hard to avoid copies\n",
    "- Array slicing often creates \"views\" onto original data, **not** copies\n",
    "- Boolean and integer array indexing creates copies\n",
    "- Create copies explicitly using `np.copy()` or `copy()` method"
   ]
  }
 ],
 "metadata": {
  "kernelspec": {
   "display_name": "Python 3.10.4 ('py3-default')",
   "language": "python",
   "name": "python3"
  },
  "language_info": {
   "codemirror_mode": {
    "name": "ipython",
    "version": 3
   },
   "file_extension": ".py",
   "mimetype": "text/x-python",
   "name": "python",
   "nbconvert_exporter": "python",
   "pygments_lexer": "ipython3",
   "version": "3.10.4"
  },
  "vscode": {
   "interpreter": {
    "hash": "89692ee4bd8d7a7842eb7c7050f10ae8c4113955275de7625334d5364ea86119"
   }
  }
 },
 "nbformat": 4,
 "nbformat_minor": 1
}
