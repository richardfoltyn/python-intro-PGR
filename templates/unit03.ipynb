{
 "cells": [
  {
   "cell_type": "markdown",
   "metadata": {
    "collapsed": true,
    "pycharm": {
     "name": "#%% md\n"
    }
   },
   "source": [
    "# Reusing code: Functions, modules and packages\n",
    "\n",
    "***\n",
    "## Functions\n",
    "\n",
    "- write reusable code *once*\n",
    "- shield code within a local scope\n",
    "- allow us to implement clean interfaces\n",
    "- defined using the `def` keyword"
   ]
  },
  {
   "cell_type": "markdown",
   "metadata": {
    "pycharm": {
     "name": "#%% md\n"
    }
   },
   "source": [
    "### Arguments\n",
    "\n",
    "- arbitrary number of arguments (including none)"
   ]
  },
  {
   "cell_type": "markdown",
   "metadata": {
    "pycharm": {
     "name": "#%% md\n"
    }
   },
   "source": [
    "### Return values\n",
    "\n",
    "- values are passed back to caller using `return` statement\n",
    "- can be single object or tuple of objects\n",
    "- multiple return values can be unpacked automatically\n",
    "- empty `return` statement exits function, returns `None`"
   ]
  },
  {
   "cell_type": "markdown",
   "metadata": {
    "pycharm": {
     "name": "#%% md\n"
    }
   },
   "source": [
    "### More on arguments\n",
    "\n",
    "- functions can be defined with *default* arguments which are *optional*\n",
    "- use `*args` to support arbitrary number of *positional* arguments \n",
    "- use `**kwargs` to support arbitrary *keyword (or named)* arguments"
   ]
  },
  {
   "cell_type": "markdown",
   "metadata": {
    "pycharm": {
     "name": "#%% md\n"
    }
   },
   "source": [
    "### Accessing data from the outer scope\n",
    "\n",
    "- read-only access to \"outer\" variables works as expected\n",
    "- variables in outer scope can affect function execution (this is generally bad)"
   ]
  },
  {
   "cell_type": "markdown",
   "metadata": {},
   "source": [
    "### Modifying data in the outer scope\n",
    "\n",
    "- possible but should be avoided\n",
    "- variables from outer scope need to be defined as `global` or `nonlocal`"
   ]
  },
  {
   "cell_type": "markdown",
   "metadata": {
    "pycharm": {
     "name": "#%% md\n"
    }
   },
   "source": [
    "### Pass by value or pass by reference?\n",
    "\n",
    "- Python arguments are passed as references\n",
    "- References can be used to modify *mutable* objects in outer scope"
   ]
  },
  {
   "cell_type": "markdown",
   "metadata": {
    "pycharm": {
     "name": "#%% md\n"
    }
   },
   "source": [
    "### Methods\n",
    "\n",
    "- feature of object-oriented programming\n",
    "- special functions that are \"bound\" to objects"
   ]
  },
  {
   "cell_type": "markdown",
   "metadata": {
    "pycharm": {
     "name": "#%% md\n"
    }
   },
   "source": [
    "### Functions as objects\n",
    "\n",
    "- functions are objects in their own right\n",
    "- can be added to collections, passed as arguments, etc."
   ]
  },
  {
   "cell_type": "markdown",
   "metadata": {
    "pycharm": {
     "name": "#%% md\n"
    }
   },
   "source": [
    "### lambda expressions\n",
    "\n",
    "- lightweight functions that can be used as expressions\n",
    "- usually passed as arguments to other functions"
   ]
  },
  {
   "cell_type": "markdown",
   "metadata": {
    "pycharm": {
     "name": "#%% md\n"
    }
   },
   "source": [
    "***\n",
    "## Modules and packages\n",
    "\n",
    "- each Python file automatically constitutes a module\n",
    "- references from modules need to be `import`'ed\n",
    "- modules help encapsulate code\n",
    "- Python looks for modules only in specific directories (module search path)"
   ]
  }
 ],
 "metadata": {
  "kernelspec": {
   "display_name": "Python 3.10.4 ('py3-default')",
   "language": "python",
   "name": "python3"
  },
  "language_info": {
   "codemirror_mode": {
    "name": "ipython",
    "version": 3
   },
   "file_extension": ".py",
   "mimetype": "text/x-python",
   "name": "python",
   "nbconvert_exporter": "python",
   "pygments_lexer": "ipython3",
   "version": "3.10.4"
  },
  "vscode": {
   "interpreter": {
    "hash": "89692ee4bd8d7a7842eb7c7050f10ae8c4113955275de7625334d5364ea86119"
   }
  }
 },
 "nbformat": 4,
 "nbformat_minor": 1
}
