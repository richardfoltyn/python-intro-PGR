{
 "cells": [
  {
   "attachments": {},
   "cell_type": "markdown",
   "metadata": {
    "collapsed": true,
    "pycharm": {
     "name": "#%% md\n"
    }
   },
   "source": [
    "# Introduction to Python Programming for Economics & Finance\n",
    "\n",
    "Author: Richard Foltyn, University of Glasgow\n",
    "\n",
    "### Templates for lectures\n",
    "\n",
    "Notebooks used as starting point for lectures:\n",
    "\n",
    "1.  [Language and NumPy basics](unit01.ipynb)\n",
    "2.  [Control flow and list comprehensions](unit02.ipynb)\n",
    "3.  [Reusing code - Functions, modules and packages](unit03.ipynb)\n",
    "4.  [Plotting](unit04.ipynb)\n",
    "5.  [Advanced NumPy](unit05.ipynb)\n",
    "6.  [Handling data with pandas](unit06.ipynb)\n",
    "7.  [Data input and output](unit07.ipynb)\n",
    "8.  [Random number generation and statistics](unit08.ipynb)\n",
    "9.  [Introduction to unsupervised learning](unit09.ipynb)\n",
    "10. [Introduction to supervised learning](unit10.ipynb)\n",
    "11. [Solving models for macroeconomics and household finance]() [TBA]"
   ]
  }
 ],
 "metadata": {
  "kernelspec": {
   "display_name": "Python 3 (ipykernel)",
   "language": "python",
   "name": "python3"
  },
  "language_info": {
   "codemirror_mode": {
    "name": "ipython",
    "version": 3
   },
   "file_extension": ".py",
   "mimetype": "text/x-python",
   "name": "python",
   "nbconvert_exporter": "python",
   "pygments_lexer": "ipython3",
   "version": "3.10.4"
  },
  "vscode": {
   "interpreter": {
    "hash": "89692ee4bd8d7a7842eb7c7050f10ae8c4113955275de7625334d5364ea86119"
   }
  }
 },
 "nbformat": 4,
 "nbformat_minor": 2
}
