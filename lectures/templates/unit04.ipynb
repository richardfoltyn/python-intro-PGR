{
 "cells": [
  {
   "cell_type": "markdown",
   "metadata": {
    "collapsed": true,
    "pycharm": {
     "name": "#%% md\n"
    }
   },
   "source": [
    "# Plotting\n",
    "\n",
    "Plotting in Python is usually performed using a library called **Matplotlib**. It needs to be imported like this:"
   ]
  },
  {
   "cell_type": "markdown",
   "metadata": {
    "pycharm": {
     "name": "#%%\n"
    }
   },
   "source": [
    "```python\n",
    "import matplotlib.pyplot as plt\n",
    "```"
   ]
  },
  {
   "cell_type": "markdown",
   "metadata": {
    "pycharm": {
     "name": "#%% md\n"
    }
   },
   "source": [
    "***\n",
    "## Line plots\n",
    "\n",
    "Line plots are created using the `plot()` function.\n"
   ]
  },
  {
   "cell_type": "markdown",
   "metadata": {},
   "source": [
    "### Plot single line"
   ]
  },
  {
   "cell_type": "markdown",
   "metadata": {},
   "source": [
    "### Plot multiple lines in a single call"
   ]
  },
  {
   "cell_type": "markdown",
   "metadata": {},
   "source": [
    "### Plot multiple lines using multiple calls"
   ]
  },
  {
   "cell_type": "markdown",
   "metadata": {},
   "source": [
    "***\n",
    "## Scatter plots\n",
    "\n",
    "Scatter plots are created using the `scatter()` function."
   ]
  },
  {
   "cell_type": "markdown",
   "metadata": {
    "pycharm": {
     "name": "#%% md\n"
    }
   },
   "source": [
    "***\n",
    "## Plotting categorical data\n",
    "\n",
    "Bar plots can be used to visualise categorical data using `bar()` or `barh()`."
   ]
  },
  {
   "cell_type": "markdown",
   "metadata": {
    "pycharm": {
     "name": "#%% md\n"
    }
   },
   "source": [
    "***\n",
    "## Adding labels and annotations\n",
    "\n",
    "Matplotlib has numerous functions to add labels and annotations:\n",
    "\n",
    "-   Use [`title()`](https://matplotlib.org/stable/api/_as_gen/matplotlib.pyplot.title.html) \n",
    "    and [`suptitle()`](https://matplotlib.org/stable/api/_as_gen/matplotlib.pyplot.suptitle.html) \n",
    "    to add titles to your graphs.\n",
    "-   We can add axis labels by calling \n",
    "    [`xlabel()`](https://matplotlib.org/stable/api/_as_gen/matplotlib.pyplot.xlabel.html) \n",
    "    and [`ylabel()`](https://matplotlib.org/stable/api/_as_gen/matplotlib.pyplot.ylabel.html).\n",
    "-   To add a legend, call \n",
    "    [`legend()`](https://matplotlib.org/stable/api/_as_gen/matplotlib.pyplot.legend.html), which in its most simple\n",
    "    form takes a list of labels which are in the same order\n",
    "    as the plotted data.\n",
    "-   Use [`text()`]((https://matplotlib.org/stable/api/_as_gen/matplotlib.pyplot.text.html)) \n",
    "    to add additional text at arbitrary locations.\n",
    "-   Use [`annotate()`]((https://matplotlib.org/stable/api/_as_gen/matplotlib.pyplot.annotate.html)) \n",
    "    to display text next to some data point;\n",
    "    it's easier to position correctly than `text()` and you\n",
    "    can add arrows!"
   ]
  },
  {
   "cell_type": "markdown",
   "metadata": {
    "pycharm": {
     "name": "#%% md\n"
    }
   },
   "source": [
    "***\n",
    "## Plot limits, ticks and tick labels\n",
    "\n",
    "We adjust the plot limits, ticks and tick labels as follows:\n",
    "\n",
    "-   Plotting limits are set using the \n",
    "    [`xlim()`](https://matplotlib.org/stable/api/_as_gen/matplotlib.pyplot.xlim.html) and \n",
    "    [`ylim()`](https://matplotlib.org/stable/api/_as_gen/matplotlib.pyplot.ylim.html) functions.\n",
    "    Each accepts a tuple `(min,max)` to set the desired range.\n",
    "-   Ticks and tick labels can be set by calling \n",
    "    [`xticks()`](https://matplotlib.org/stable/api/_as_gen/matplotlib.pyplot.xticks.html) \n",
    "    or [`yticks()`](https://matplotlib.org/stable/api/_as_gen/matplotlib.pyplot.yticks.html).\n"
   ]
  },
  {
   "cell_type": "markdown",
   "metadata": {},
   "source": [
    "***\n",
    "\n",
    "## Adding straight lines\n",
    "\n",
    "- [`axhline()`](https://matplotlib.org/stable/api/_as_gen/matplotlib.pyplot.axhline.html): add **horizontal** line\n",
    "- [`axvline()`](https://matplotlib.org/stable/api/_as_gen/matplotlib.pyplot.axvline.html) to add **vertical** line\n",
    "- [`axline()`](https://matplotlib.org/stable/api/_as_gen/matplotlib.pyplot.axline.html#matplotlib.pyplot.axline) to add a line defined by two points or by a single point and a slope"
   ]
  },
  {
   "cell_type": "markdown",
   "metadata": {},
   "source": [
    "***\n",
    "## Object-oriented interface\n",
    "\n",
    "\n",
    "- Instead of using `matplotlib.pyplot`, we can create graphs using the\n",
    "    [`Figure`](https://matplotlib.org/stable/api/figure_api.html) and \n",
    "    [`Axes`](https://matplotlib.org/stable/api/axes_api.html) objects.\n",
    "-   To use the object-oriented interface, we need to get figure and\n",
    "    axes objects:\n",
    "    ```python\n",
    "    fig, ax = plt.subplots()\n",
    "    ```"
   ]
  },
  {
   "cell_type": "markdown",
   "metadata": {
    "pycharm": {
     "name": "#%% md\n"
    }
   },
   "source": [
    "***\n",
    "## Working with multiple plots (axes)\n",
    "\n",
    "- A figure with multiple panels arranged in `m` rows and `n` columns can be created using `subplots(m, n)`.\n",
    "- We can use the `sharex` and `sharey` arguments to enforce identical axes for each panel.\n",
    "- `suptitle()` can be used to set title for entire figure."
   ]
  }
 ],
 "metadata": {
  "kernelspec": {
   "display_name": "Python 3.10.4 ('py3-default')",
   "language": "python",
   "name": "python3"
  },
  "language_info": {
   "codemirror_mode": {
    "name": "ipython",
    "version": 3
   },
   "file_extension": ".py",
   "mimetype": "text/x-python",
   "name": "python",
   "nbconvert_exporter": "python",
   "pygments_lexer": "ipython3",
   "version": "3.10.4"
  },
  "vscode": {
   "interpreter": {
    "hash": "89692ee4bd8d7a7842eb7c7050f10ae8c4113955275de7625334d5364ea86119"
   }
  }
 },
 "nbformat": 4,
 "nbformat_minor": 1
}
