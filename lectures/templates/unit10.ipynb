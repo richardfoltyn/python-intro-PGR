{
 "cells": [
  {
   "cell_type": "markdown",
   "metadata": {},
   "source": [
    "# Unit 10: Introduction to supervised learning "
   ]
  },
  {
   "cell_type": "markdown",
   "metadata": {},
   "source": [
    "***\n",
    "## Simple (univariate) linear regression\n",
    "\n",
    "Simple linear model with single independent variable $x$:\n",
    "$$\n",
    "\\begin{aligned}\n",
    "\\text{Econometrics:} \\qquad y_i &= \\alpha + \\beta x_i + \\epsilon_i \\\\\n",
    "\\text{ML:} \\qquad y_i &= b + w x_i + \\epsilon_i\n",
    "\\end{aligned}\n",
    "$$\n",
    "\n",
    "#### Terminology\n",
    "\n",
    "- $y$: dependent variable, response variable, outcome, target\n",
    "- $x$: independent variables, features, covariates, predictors\n",
    "- $\\epsilon$: error term\n",
    "- $\\alpha$, $b$: intercept or bias (ML)\n",
    "- $\\beta$, $w$: slope coefficient or weight (ML)"
   ]
  },
  {
   "cell_type": "markdown",
   "metadata": {},
   "source": [
    "#### Linearity assumption\n",
    "\n",
    "- Model is assumed to be linear **in coefficients**, not in $x$\n",
    "- Linear models include the following:\n",
    "    $$\n",
    "    \\begin{aligned}\n",
    "     y_i &= \\alpha + \\beta_1 x_i + \\beta_2 x_i^2 + \\epsilon_i \\\\\n",
    "     \\log y_i &= \\alpha + \\beta \\log x_i + \\epsilon_i\n",
    "    \\end{aligned}\n",
    "    $$"
   ]
  },
  {
   "cell_type": "markdown",
   "metadata": {},
   "source": [
    "***\n",
    "### Estimation\n",
    "\n",
    "- Goal: Minimize loss function is given by **sum of squared residuals**:\n",
    "    $$\n",
    "    L(\\alpha, \\beta) = \\frac{1}{N}\n",
    "        \\sum_i^N \\Bigl(y_i - \\alpha - \\beta x_i \\Bigr)^2\n",
    "    $$\n",
    "- **Estimates:** Parameters that minimise $L$ are often denoted $\\widehat{\\alpha}$, $\\widehat{\\beta}$\n",
    "- **Predicted values** for given $x_i$:\n",
    "    $$\n",
    "    \\widehat{y}_i = \\widehat{\\alpha} + \\widehat{\\beta} x_i\n",
    "    $$\n",
    "- **Prediction error** for given $y_i$, $x_i$:\n",
    "    $$\n",
    "    \\begin{aligned}\n",
    "    \\widehat{\\epsilon}_i &= y_i - \\widehat{y_i} \\\\\n",
    "        &= y_i - \\widehat{\\alpha} - \\widehat{\\beta} x_i\n",
    "    \\end{aligned}\n",
    "    $$"
   ]
  },
  {
   "cell_type": "markdown",
   "metadata": {},
   "source": [
    "***\n",
    "### Example: Univariate linear regression with scikit-learn\n",
    "\n",
    "Assume true model is given as follows:\n",
    "$$\n",
    "\\begin{aligned}\n",
    "y_i &= 1 + \\frac{1}{2} x_i + \\epsilon_i \\\\\n",
    "\\epsilon &\\stackrel{\\text{iid}}{\\sim} N(0, 0.7^2)\n",
    "\\end{aligned}\n",
    "$$\n",
    "![Simple model](images/unit10_simple.png)"
   ]
  },
  {
   "cell_type": "markdown",
   "metadata": {},
   "source": [
    "#### Simulate data\n",
    "\n",
    "- Create random sample of $N=30$ observations\n",
    "- $x$ uniformly spaced on $[0, 10]$\n",
    "- Use `seed=123`"
   ]
  },
  {
   "cell_type": "markdown",
   "metadata": {},
   "source": [
    "#### Estimate linear regression\n",
    "\n",
    "- Estimate linear model with [`LinearRegression`](https://scikit-learn.org/stable/modules/generated/sklearn.linear_model.LinearRegression.html):\n",
    "    1. Create model instance\n",
    "    2. Fit model with `fit()` method\n",
    "        - Estimated intercept stored in `intercept_` attribute\n",
    "        - Estimated coefficients stored in `coef_` attribute\n",
    "    3. Compute predicted values with `predict()`"
   ]
  },
  {
   "cell_type": "markdown",
   "metadata": {},
   "source": [
    "#### Plot sample, true and estimated model"
   ]
  },
  {
   "cell_type": "markdown",
   "metadata": {},
   "source": [
    "***\n",
    "## Training and test samples\n",
    "\n",
    "- ML mostly deals with prediction\n",
    "- Estimate model on **training sample**\n",
    "- Evaluate prediction on **test sample**\n",
    "- Avoids **overfitting** on training sample"
   ]
  },
  {
   "cell_type": "markdown",
   "metadata": {},
   "source": [
    "### Example: Ames housing data\n",
    "\n",
    "- Target variable `SalePrice` (in USD)\n",
    "- Explanatory variable `LivingArea` (in m²)\n",
    "- Simple linear model:\n",
    "    $$\n",
    "    SalePrice_i = \\alpha + \\beta \\cdot LivingArea_i + \\epsilon_i\n",
    "    $$"
   ]
  },
  {
   "cell_type": "code",
   "execution_count": 4,
   "metadata": {},
   "outputs": [],
   "source": [
    "# Uncomment this to use files in the local data/ directory\n",
    "DATA_PATH = '../../data'\n",
    "\n",
    "# Load data directly from GitHub (for Google Colab)\n",
    "# DATA_PATH = 'https://raw.githubusercontent.com/richardfoltyn/MLFP-ECON5130/main/data'"
   ]
  },
  {
   "cell_type": "markdown",
   "metadata": {},
   "source": [
    "#### Manually creating training and test samples\n",
    "\n",
    "1. Randomly assign 90% of data to training sample\n",
    "2. Rest assigned to test sample"
   ]
  },
  {
   "cell_type": "markdown",
   "metadata": {},
   "source": [
    "#### Estimate univariate model\n",
    "\n",
    "- Estimation performed on training sample\n",
    "- Interpretation of coefficients?"
   ]
  },
  {
   "cell_type": "markdown",
   "metadata": {},
   "source": [
    "#### Prediction errors\n",
    "\n",
    "- Predicted sale price:\n",
    "    $$\n",
    "    \\widehat{SalePrice}_i = \\widehat{\\alpha} + \\widehat{\\beta} \\cdot LivingArea_i\n",
    "    $$\n",
    "- Prediction error:\n",
    "    $$\n",
    "    \\widehat{\\epsilon}_i = SalePrice_i - \\widehat{SalePrice}_i\n",
    "    $$\n",
    "- Plot prediction error against dependent or independent variable"
   ]
  },
  {
   "cell_type": "markdown",
   "metadata": {},
   "source": [
    "#### Automatically creating training and test samples\n",
    "\n",
    "- Use [`train_test_split()`](https://scikit-learn.org/stable/modules/generated/sklearn.model_selection.train_test_split.html)\n",
    "    - Specify `test_size` or `train_size`\n",
    "    - Set `random_state` for reproducibility"
   ]
  },
  {
   "cell_type": "markdown",
   "metadata": {},
   "source": [
    "***\n",
    "## Evaluating the model fit\n",
    "\n",
    "- Need metric (score) to evaluate model fit!\n",
    "- **Mean squared error (MSE):**\n",
    "    $$\n",
    "    MSE = \\frac{1}{N} \\sum_{i=1}^N \\bigl(y_i - \\widehat{y}_i\\bigr)^2\n",
    "    $$\n",
    "- **Root mean squared error (RMSE)**:\n",
    "    $$\n",
    "    RMSE = \\sqrt{MSE} = \\left(\\frac{1}{N} \\sum_{i=1}^N \\bigl(y_i - \\widehat{y}_i\\bigr)^2 \\right)^{\\frac{1}{2}}\n",
    "    $$\n",
    "- **Coefficients of determination ($R^2$)**: bounded within $[0,1]$ on training sample\n",
    "    $$\n",
    "    R^2 = 1 - \\frac{MSE}{\\widehat{Var}(y)}\n",
    "    $$\n",
    "\n",
    "Convenience functions in `scikit-learn`:\n",
    "\n",
    "- [`mean_squared_error()`](https://scikit-learn.org/stable/modules/generated/sklearn.metrics.mean_squared_error.html#sklearn.metrics.mean_squared_error)\n",
    "- [`r2_score()`](https://scikit-learn.org/stable/modules/generated/sklearn.metrics.r2_score.html#sklearn.metrics.r2_score)"
   ]
  },
  {
   "cell_type": "markdown",
   "metadata": {},
   "source": [
    "***\n",
    "## Multivariate linear regression\n",
    "\n",
    "### Data with several explanatory variables\n",
    "\n",
    "$$\n",
    "y_i = \\mathbf{x}_i'\\mathbf{\\beta} + \\epsilon_i\n",
    "$$\n",
    "\n",
    "- Regressors are now given as **vector** $\\mathbf{x}$\n",
    "- Coefficient **vector** $\\beta$ to be estimated"
   ]
  },
  {
   "cell_type": "markdown",
   "metadata": {},
   "source": [
    "***\n",
    "### Example: Ames housing data\n",
    "\n",
    "- Target variable `SalePrice` (in USD)\n",
    "- Explanatory variables `LivingArea` (in m²), `LotArea` (in m²)\n",
    "$$\n",
    "SalePrice_i = \\alpha + \\beta_0 LivingArea_i + \\beta_1 LotArea_i + \\epsilon_i\n",
    "$$"
   ]
  },
  {
   "cell_type": "markdown",
   "metadata": {},
   "source": [
    "#### Create train/test sample split\n",
    "\n",
    "- [`train_test_split()`](https://scikit-learn.org/stable/modules/generated/sklearn.model_selection.train_test_split.html) with `test_size=123`, `random_state=123`"
   ]
  },
  {
   "cell_type": "markdown",
   "metadata": {},
   "source": [
    "#### Estimate multivariate model\n",
    "\n",
    "- Interpretation of coefficients?"
   ]
  },
  {
   "cell_type": "markdown",
   "metadata": {},
   "source": [
    "#### Plot prediction errors\n",
    "\n",
    "- Plot against response variable"
   ]
  },
  {
   "cell_type": "markdown",
   "metadata": {},
   "source": [
    "***\n",
    "### Polynomial features\n",
    "\n",
    "- Example: Linear model with cubic polynomial in $x$ as explanatory variable:\n",
    "    $$\n",
    "    y_i = \\alpha + \\beta_0 x_i + \\beta_1 x_i^2 + \\beta_2 x_i^3 + \\epsilon_i\n",
    "    $$"
   ]
  },
  {
   "cell_type": "markdown",
   "metadata": {},
   "source": [
    "#### Example: Ames housing data with interactions\n",
    "\n",
    "- Polynomials with interactions of $x$ and $z$:\n",
    "    $$\n",
    "    p(x,z) = \\beta_0 + \\beta_1 x + \\beta_2 z + \\beta_3 x^2 + \\beta_4 x \\cdot z + \\beta_5 z^2\n",
    "    $$\n",
    "    - $x$: `LivingArea`\n",
    "    - $z$: `LotArea`\n",
    "- Model given by\n",
    "    $$\n",
    "    SalePrice_i = p(LivingArea_i, LotArea_i) + \\epsilon_i\n",
    "    $$"
   ]
  },
  {
   "cell_type": "markdown",
   "metadata": {},
   "source": [
    "##### Create polynomial features\n",
    "\n",
    "- Create with [`PolynomialFeatures`](https://scikit-learn.org/stable/modules/generated/sklearn.preprocessing.PolynomialFeatures.html)\n",
    "- Pass `include_bias=True` to include intercept (constant)\n",
    "- If polynomial has constant, fit linear model with `fit_intercept=False`\n",
    "- Exponents stored in `powers_` attribute"
   ]
  },
  {
   "cell_type": "markdown",
   "metadata": {},
   "source": [
    "##### Estimate model"
   ]
  },
  {
   "cell_type": "markdown",
   "metadata": {},
   "source": [
    "##### Plot prediction errors"
   ]
  },
  {
   "cell_type": "markdown",
   "metadata": {},
   "source": [
    "***\n",
    "### Using scikit-learn pipelines\n",
    "\n",
    "- Manually preprocessing variables is error prone \n",
    "- Can be automated using **pipelines**:\n",
    "    1. Create an instance of the \n",
    "        [`Pipeline`](https://scikit-learn.org/stable/modules/generated/sklearn.pipeline.Pipeline.html#sklearn.pipeline.Pipeline) class\n",
    "    2. Use the \n",
    "        [`make_pipeline()`](https://scikit-learn.org/stable/modules/generated/sklearn.pipeline.make_pipeline.html) convenience function\n",
    "\n",
    "    Pipeline names can be accessed using `named_steps` attribute"
   ]
  },
  {
   "cell_type": "markdown",
   "metadata": {},
   "source": [
    "#### Estimate polynomial model using pipelines"
   ]
  },
  {
   "cell_type": "markdown",
   "metadata": {},
   "source": [
    "***\n",
    "## Optimising hyperparameters with cross-validation\n",
    "\n",
    "- Hyperparameter: additional parameters that are **not** estimated, e.g., polynomial degree from earlier\n",
    "- How do we find optimal values for such parameters?\n",
    "    1. Estimate model for different values of hyperparameters\n",
    "    2. Pick best-performing model"
   ]
  },
  {
   "cell_type": "markdown",
   "metadata": {},
   "source": [
    "### Illustration of cross-validation\n",
    "\n",
    "![CV split](../../lectures/images/cv_split.svg)"
   ]
  },
  {
   "cell_type": "markdown",
   "metadata": {},
   "source": [
    "***\n",
    "### Example: Tuning of the polynomial degree with manual cross-validation\n",
    "\n",
    "- Same setting as earlier:\n",
    "    $$\n",
    "    p(x,z) = \\beta_0 + \\beta_1 x + \\beta_2 z + \\beta_3 x^2 + \\beta_4 x \\cdot z + \\beta_5 z^2\n",
    "    $$\n",
    "    - $x$: `LivingArea`\n",
    "    - $z$: `LotArea`\n",
    "- Find best polynomial degree $d = 0,\\dots,4$ using K-fold CV with 10 folds\n",
    "- Use [`KFold`](https://scikit-learn.org/stable/modules/generated/sklearn.model_selection.KFold.html#sklearn.model_selection.KFold) to split sample\n"
   ]
  },
  {
   "cell_type": "markdown",
   "metadata": {},
   "source": [
    "#### Cross-validation"
   ]
  },
  {
   "cell_type": "markdown",
   "metadata": {},
   "source": [
    "#### Plot RMSE against polynomial degree"
   ]
  },
  {
   "cell_type": "markdown",
   "metadata": {},
   "source": [
    "***\n",
    "### Automating cross-validation\n",
    "\n",
    "- Helper function [`cross_val_score()`](https://scikit-learn.org/stable/modules/generated/sklearn.model_selection.cross_val_score.html):\n",
    "    - Select number of folds: `cv=10`\n",
    "    - Select metric: `scoring='neg_root_mean_squared_error'`\n",
    "    - List of available metrics (scores): `sklearn.metrics.get_scorer_names()`"
   ]
  },
  {
   "cell_type": "markdown",
   "metadata": {},
   "source": [
    "***\n",
    "## Linear models with regularisation: Ridge regression\n",
    "\n",
    "- Additional penalty term in loss function:\n",
    "$$\n",
    "L(\\mu, \\mathbf{\\beta}) = \n",
    "    \\underbrace{\\sum_{i=1}^N \\Bigl(\n",
    "    y_i - \\mu - \\mathbf{x}_i'\\mathbf{\\beta}\\Bigr)^2}_{\\text{Sum of squared errors}}\n",
    "    + \n",
    "    \\underbrace{\\alpha \\sum_{k=1}^K\\beta_k^2}_{\\text{L2 penalty}}\n",
    "$$"
   ]
  },
  {
   "cell_type": "markdown",
   "metadata": {},
   "source": [
    "### Example: Polynomial approximation\n",
    "\n",
    "- True model: trigonometric function\n",
    "    $$\n",
    "    \\begin{aligned}\n",
    "    y_i &= \\cos\\left( \\frac{3}{2}\\pi x_i \\right) + \\epsilon_i \\\\\n",
    "        \\epsilon &\\stackrel{\\text{iid}}{\\sim} N(0, 0.25)\n",
    "    \\end{aligned}\n",
    "    $$\n",
    "- Goal: Approximate with polynomial:\n",
    "    $$\n",
    "    y_i \\approx \\mu + \\beta_1 x_i + \\beta_2 x_i^2 + \\cdots + \\beta_K x_i^K \n",
    "    $$\n",
    "    $K$ is a hyperparameter, but let's fix it at $K=15$"
   ]
  },
  {
   "cell_type": "markdown",
   "metadata": {},
   "source": [
    "#### Plot true relationship\n",
    "\n",
    "- Sample of $N=100$ created with `seed=1234`"
   ]
  },
  {
   "cell_type": "markdown",
   "metadata": {},
   "source": [
    "#### Estimating linear regression model\n",
    "\n",
    "Steps:\n",
    "\n",
    "1. Create the polynomial in $x$ with\n",
    "[`PolynomialFeatures`](https://scikit-learn.org/stable/modules/generated/sklearn.preprocessing.PolynomialFeatures.html)\n",
    "2. (Optional) Demean and normalise features with [`StandardScaler`](https://scikit-learn.org/stable/modules/generated/sklearn.preprocessing.StandardScaler.html)\n",
    "3. Estimate with [`LinearRegression`](https://scikit-learn.org/stable/modules/generated/sklearn.linear_model.LinearRegression.html)\n",
    "3. Combine steps in [`Pipeline`](https://scikit-learn.org/stable/modules/generated/sklearn.pipeline.Pipeline.html)\n"
   ]
  },
  {
   "cell_type": "markdown",
   "metadata": {},
   "source": [
    "#### Estimating the Ridge model\n",
    "\n",
    "Steps:\n",
    "\n",
    "1. Create the polynomial in $x$ with\n",
    "[`PolynomialFeatures`](https://scikit-learn.org/stable/modules/generated/sklearn.preprocessing.PolynomialFeatures.html)\n",
    "2. Demean and normalise features with [`StandardScaler`](https://scikit-learn.org/stable/modules/generated/sklearn.preprocessing.StandardScaler.html)\n",
    "3. Estimate with [`Ridge`](https://scikit-learn.org/stable/modules/generated/sklearn.linear_model.Ridge.html) with $\\alpha=3$ (will be cross-validated later)\n",
    "3. Combine steps in [`Pipeline`](https://scikit-learn.org/stable/modules/generated/sklearn.pipeline.Pipeline.html)\n"
   ]
  },
  {
   "cell_type": "markdown",
   "metadata": {},
   "source": [
    "#### Compare linear regression vs. Ridge"
   ]
  },
  {
   "cell_type": "markdown",
   "metadata": {},
   "source": [
    "***\n",
    "### Tuning the regularisation parameter via cross-validation\n",
    "\n",
    "- Can be automated with [`RidgeCV`](https://scikit-learn.org/stable/modules/generated/sklearn.linear_model.RidgeCV.html)\n",
    "- Takes grid of candidate $\\alpha$ as argument\n",
    "    - Use `logspace()` to put more alphas at lower end of grid\n",
    "    - Argument `store_cv_values=True` stores scores for all alphas and all folds\n",
    "- **Important:** `RidgeCV` does **not** support pipelines, need to apply transformation manually"
   ]
  },
  {
   "cell_type": "markdown",
   "metadata": {},
   "source": [
    "#### Perform cross-validation\n",
    "\n",
    "- Optimal $\\alpha$ stored in `alpha_` attribute\n",
    "- Best score stored in `best_score_` attribute\n",
    "- All scores are stored in `cv_values_` attribute (only if `store_cv_values=True`)"
   ]
  },
  {
   "cell_type": "markdown",
   "metadata": {},
   "source": [
    "#### Plot MSE against alphas"
   ]
  },
  {
   "cell_type": "markdown",
   "metadata": {},
   "source": [
    "#### Re-estimate with optimal alpha"
   ]
  },
  {
   "cell_type": "markdown",
   "metadata": {},
   "source": [
    "***\n",
    "## Linear models with regularisation: Lasso\n",
    "\n",
    "- Additional penalty term in loss function (but different from Ridge!):\n",
    "$$\n",
    "L(\\mu, \\mathbf{\\beta}) = \n",
    "    \\underbrace{\\sum_{i=1}^N \\Bigl(\n",
    "    y_i - \\mu - \\mathbf{x}_i'\\mathbf{\\beta}\\Bigr)^2}_{\\text{Sum of squared errors}}\n",
    "    + \n",
    "    \\underbrace{\\alpha \\sum_{k=1}^K |\\beta_k|}_{\\text{L1 penalty}}\n",
    "$$"
   ]
  },
  {
   "cell_type": "markdown",
   "metadata": {},
   "source": [
    "### Example: Polynomial approximation\n",
    "\n",
    "- Exact same setting as for Ridge"
   ]
  },
  {
   "cell_type": "markdown",
   "metadata": {},
   "source": [
    "#### Estimating the Lasso\n",
    "\n",
    "Steps:\n",
    "\n",
    "1. Create the polynomial in $x$ with\n",
    "[`PolynomialFeatures`](https://scikit-learn.org/stable/modules/generated/sklearn.preprocessing.PolynomialFeatures.html)\n",
    "2. Demean and normalise features with [`StandardScaler`](https://scikit-learn.org/stable/modules/generated/sklearn.preprocessing.StandardScaler.html)\n",
    "3. Estimate with [`Lasso`](https://scikit-learn.org/stable/modules/generated/sklearn.linear_model.Lasso.html) with $\\alpha=0.015$ (will be cross-validated later)\n",
    "    - Might need to increasing the `max_iter` parameter (from the default of 1,000).\n",
    "4. Combine steps in [`Pipeline`](https://scikit-learn.org/stable/modules/generated/sklearn.pipeline.Pipeline.html)"
   ]
  },
  {
   "cell_type": "markdown",
   "metadata": {},
   "source": [
    "#### Number of non-zero coefficients "
   ]
  },
  {
   "cell_type": "markdown",
   "metadata": {},
   "source": [
    "- Lasso creates **sparse** models: only a few coefficients are non-zero\n",
    "- Example: fit models for $\\alpha$ on the interval $[5 \\times 10^{-3}, 1]$"
   ]
  },
  {
   "cell_type": "markdown",
   "metadata": {},
   "source": [
    "### Tuning the regularisation parameter via cross-validation\n",
    "\n",
    "#### Perform cross-validation\n",
    "\n",
    "- Performed via [`LassoCV`](https://scikit-learn.org/stable/modules/generated/sklearn.linear_model.LassoCV.html)\n",
    "- Need to specify either of the following:\n",
    "    - Grid of candidate $\\alpha$ (similar to `RidgeCV`)\n",
    "    - Fraction $\\epsilon = \\frac{\\alpha_{min}}{\\alpha_{max}}$ (default: $10^{-3}$) and the grid size (default: 100)\n",
    "\n",
    "        Resulting grid of $\\alpha$ is stored in `alphas_` attribute.\n",
    "- Might need to increasing the `max_iter` parameter (from the default of 1,000).\n",
    "- Results stored in attributes `alpha_` and `mse_path_`"
   ]
  },
  {
   "cell_type": "markdown",
   "metadata": {},
   "source": [
    "#### Plot MSE against alpha"
   ]
  },
  {
   "cell_type": "markdown",
   "metadata": {},
   "source": [
    "#### Re-estimate with optimal alpha"
   ]
  }
 ],
 "metadata": {
  "kernelspec": {
   "display_name": "Python 3.10.4 ('py3-default')",
   "language": "python",
   "name": "python3"
  },
  "language_info": {
   "codemirror_mode": {
    "name": "ipython",
    "version": 3
   },
   "file_extension": ".py",
   "mimetype": "text/x-python",
   "name": "python",
   "nbconvert_exporter": "python",
   "pygments_lexer": "ipython3",
   "version": "3.10.4"
  },
  "orig_nbformat": 4,
  "vscode": {
   "interpreter": {
    "hash": "89692ee4bd8d7a7842eb7c7050f10ae8c4113955275de7625334d5364ea86119"
   }
  }
 },
 "nbformat": 4,
 "nbformat_minor": 2
}
