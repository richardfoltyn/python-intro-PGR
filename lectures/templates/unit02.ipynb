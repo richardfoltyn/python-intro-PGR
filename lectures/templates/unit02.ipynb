{
 "cells": [
  {
   "cell_type": "markdown",
   "metadata": {
    "collapsed": true,
    "pycharm": {
     "name": "#%% md\n"
    }
   },
   "source": [
    "# Control flow and list comprehensions"
   ]
  },
  {
   "cell_type": "markdown",
   "metadata": {
    "collapsed": false,
    "pycharm": {
     "name": "#%% md\n"
    }
   },
   "source": [
    "***\n",
    "## Conditional execution\n",
    "\n",
    "- use `if`/`elif`/`else` statements to conditionally execute blocks of code\n",
    "- conditional blocks need to be indented"
   ]
  },
  {
   "cell_type": "markdown",
   "metadata": {
    "collapsed": false,
    "pycharm": {
     "name": "#%% md\n"
    }
   },
   "source": [
    "***\n",
    "### Truth value testing\n",
    "We already encountered `==` to test whether two values\n",
    "are equal.\n",
    "Python offers many more operators that return\n",
    "either `True` or `False` and can be used to control conditional execution.\n",
    "\n",
    "| Expression    | Description |\n",
    "| ------------- | ----------- |\n",
    "| `==`          | Equal. Works for numerical values, strings, etc. |\n",
    "| `!=`          | Not equal. Works on numerical values, strings, etc. |\n",
    "| `>`, `>=`, `<`,`<=` | Usual comparison of numerical values |\n",
    "|  `a is b`, `a is not b`   | Test identity. `a is b` is `True` if `a` and `b` are the same object |\n",
    "| `a in b`, `a not in b`    | Test whether `a` is or is not included in `b` where `b` is a collection |\n",
    "| `if obj`, `if not obj`    | Any Python object evaluates to `True` or `False` in an intuitive fashion (see below) |\n",
    "\n",
    "Additionally, there are logical operators that\n",
    "allow us to combine two logical values:\n",
    "\n",
    "| Expression | Description |\n",
    "| ---------- | ----------- |\n",
    "| `a and b`  | `True` if both `a` and `b` are `True` |\n",
    "| `a or b`   | `True` if at least one of `a` or `b` is `True` |"
   ]
  },
  {
   "cell_type": "markdown",
   "metadata": {
    "collapsed": false,
    "pycharm": {
     "name": "#%% md\n"
    }
   },
   "source": [
    "***\n",
    "### Implicit testing\n",
    "\n",
    "As mentioned above, any object evaluates to `True` or `False`\n",
    "in an `if` statement:\n",
    "```\n",
    "if obj:\n",
    "    # do something if obj evaluates to True\n",
    "```\n",
    "The rules are quite intuitive: an object evaluates to `False` if\n",
    "\n",
    "-   it has a numerical type and is `0` (or `0.0`, or complex `0+0j`)\n",
    "-   it is an empty collection (tuple, list, dictionary, array, etc.)\n",
    "-   it is of logical (boolean) type and has value `False`\n",
    "-   it is `None`, a special built-in value used to denote that\n",
    "    a variable does not reference anything.\n",
    "\n",
    "In most other cases, an expression evaluates to `True`."
   ]
  },
  {
   "cell_type": "markdown",
   "metadata": {
    "collapsed": false,
    "pycharm": {
     "name": "#%% md\n"
    }
   },
   "source": [
    "***\n",
    "### Conditional expressions\n",
    "\n",
    "- use `if ... else` expression to conditionally assign values"
   ]
  },
  {
   "cell_type": "markdown",
   "metadata": {
    "collapsed": false,
    "pycharm": {
     "name": "#%% md\n"
    }
   },
   "source": [
    "***\n",
    "## Loops\n",
    "\n",
    "- iterate over objects with `for` and `while` loops\n",
    "- most collections in Python are iterable\n",
    "- use `while` loops when number of iterations is unknown"
   ]
  },
  {
   "cell_type": "markdown",
   "metadata": {
    "collapsed": false,
    "pycharm": {
     "name": "#%% md\n"
    }
   },
   "source": [
    "### Advanced looping\n",
    "\n",
    "- control looping with `break` and `continue`\n",
    "- use `enumerate` when running variable is required"
   ]
  },
  {
   "cell_type": "markdown",
   "metadata": {
    "collapsed": false,
    "pycharm": {
     "name": "#%% md\n"
    }
   },
   "source": [
    "***\n",
    "## List comprehensions\n",
    "\n",
    "- compact loops that can be used as expressions\n",
    "- compact way to dynamically generate tuples, lists, dictionaries, etc.\n",
    "- can be nested, but this is hard to read"
   ]
  }
 ],
 "metadata": {
  "kernelspec": {
   "display_name": "Python 3.10.4 ('py3-default')",
   "language": "python",
   "name": "python3"
  },
  "language_info": {
   "codemirror_mode": {
    "name": "ipython",
    "version": 3
   },
   "file_extension": ".py",
   "mimetype": "text/x-python",
   "name": "python",
   "nbconvert_exporter": "python",
   "pygments_lexer": "ipython3",
   "version": "3.10.4"
  },
  "vscode": {
   "interpreter": {
    "hash": "89692ee4bd8d7a7842eb7c7050f10ae8c4113955275de7625334d5364ea86119"
   }
  }
 },
 "nbformat": 4,
 "nbformat_minor": 0
}
