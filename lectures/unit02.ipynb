{
 "cells": [
  {
   "attachments": {},
   "cell_type": "markdown",
   "metadata": {
    "collapsed": true,
    "pycharm": {
     "name": "#%% md\n"
    }
   },
   "source": [
    "# Control flow and list comprehensions\n",
    "\n",
    "In this unit, we continue to explore basic concepts\n",
    "of the Python programming language such as\n",
    "conditional execution and loops."
   ]
  },
  {
   "attachments": {},
   "cell_type": "markdown",
   "metadata": {
    "collapsed": false,
    "pycharm": {
     "name": "#%% md\n"
    }
   },
   "source": [
    "## Conditional execution\n",
    "\n",
    "Frequently, we want to execute a code block only\n",
    "if some condition holds. We can do this using the\n",
    "`if` statement:"
   ]
  },
  {
   "cell_type": "code",
   "execution_count": 1,
   "metadata": {
    "collapsed": false,
    "pycharm": {
     "name": "#%%\n"
    }
   },
   "outputs": [
    {
     "name": "stdout",
     "output_type": "stream",
     "text": [
      "Python knows arithmetic!\n"
     ]
    }
   ],
   "source": [
    "if 2*2 == 4:\n",
    "    print('Python knows arithmetic!')"
   ]
  },
  {
   "attachments": {},
   "cell_type": "markdown",
   "metadata": {
    "collapsed": false,
    "pycharm": {
     "name": "#%% md\n"
    }
   },
   "source": [
    "A few observations:\n",
    "\n",
    "-   Conditional blocks are grouped using indentation (leading spaces).\n",
    "    Remember from the previous unit that whitespace matters in Python!\n",
    "-   We write the equality operator using *two* equal signs,\n",
    "    `==`. This is to distinguish it from the assignment operator `=`."
   ]
  },
  {
   "attachments": {},
   "cell_type": "markdown",
   "metadata": {
    "collapsed": false,
    "pycharm": {
     "name": "#%% md\n"
    }
   },
   "source": [
    "We can also add an `else` block that will be executed\n",
    "whenever a condition is false:"
   ]
  },
  {
   "cell_type": "code",
   "execution_count": 2,
   "metadata": {
    "collapsed": false,
    "pycharm": {
     "name": "#%%\n"
    }
   },
   "outputs": [
    {
     "name": "stdout",
     "output_type": "stream",
     "text": [
      "Python knows arithmetic!\n"
     ]
    }
   ],
   "source": [
    "if 2*2 == 3:\n",
    "    # this branch will never be executed\n",
    "    print('Something is fishy here')\n",
    "else:\n",
    "    print('Python knows arithmetic!')"
   ]
  },
  {
   "attachments": {},
   "cell_type": "markdown",
   "metadata": {
    "collapsed": false,
    "pycharm": {
     "name": "#%% md\n"
    }
   },
   "source": [
    "Finally, we can add more than one conditional branch\n",
    "using the `elif` clause:"
   ]
  },
  {
   "cell_type": "code",
   "execution_count": 3,
   "metadata": {
    "collapsed": false,
    "pycharm": {
     "name": "#%%\n"
    }
   },
   "outputs": [
    {
     "name": "stdout",
     "output_type": "stream",
     "text": [
      "var is 1\n"
     ]
    }
   ],
   "source": [
    "var = 1\n",
    "if var == 0:\n",
    "    print('var is 0')\n",
    "elif var == 1:\n",
    "    print('var is 1')\n",
    "else:\n",
    "    print('var is neither 0 nor 1')"
   ]
  },
  {
   "attachments": {},
   "cell_type": "markdown",
   "metadata": {
    "collapsed": false,
    "pycharm": {
     "name": "#%% md\n"
    }
   },
   "source": [
    "### Truth value testing\n",
    "We already encountered `==` to test whether two values\n",
    "are equal.\n",
    "Python offers many more operators that return\n",
    "either `True` or `False` and can be used to control conditional execution.\n",
    "\n",
    "| Expression    | Description |\n",
    "| ------------- | ----------- |\n",
    "| `==`          | Equal. Works for numerical values, strings, etc. |\n",
    "| `!=`          | Not equal. Works for numerical values, strings, etc. |\n",
    "| `>`, `>=`, `<`,`<=` | Usual comparison of numerical values |\n",
    "|  `a is b`, `a is not b`   | Test identity. `a is b` is `True` if `a` and `b` are the same object |\n",
    "| `a in b`, `a not in b`    | Test whether `a` is or is not included in `b` where `b` is a collection |\n",
    "| `if obj`, `if not obj`    | Most Python objects evaluate to `True` or `False` in an intuitive fashion (see below) |\n",
    "\n",
    "Additionally, there are logical operators that\n",
    "allow us to combine two logical values:\n",
    "\n",
    "| Expression | Description |\n",
    "| ---------- | ----------- |\n",
    "| `a and b`  | `True` if both `a` and `b` are `True` |\n",
    "| `a or b`   | `True` if at least one of `a` or `b` is `True` |\n",
    "\n",
    "*Examples:*"
   ]
  },
  {
   "cell_type": "code",
   "execution_count": 4,
   "metadata": {
    "collapsed": false,
    "pycharm": {
     "name": "#%%\n"
    }
   },
   "outputs": [
    {
     "data": {
      "text/plain": [
       "True"
      ]
     },
     "execution_count": 4,
     "metadata": {},
     "output_type": "execute_result"
    }
   ],
   "source": [
    "# list1 and list2 reference the same object\n",
    "list1 = [1,2]\n",
    "list2 = list1\n",
    "list1 is list2      # objects are identical, returns True"
   ]
  },
  {
   "cell_type": "code",
   "execution_count": 5,
   "metadata": {
    "collapsed": false,
    "pycharm": {
     "name": "#%%\n"
    }
   },
   "outputs": [
    {
     "data": {
      "text/plain": [
       "False"
      ]
     },
     "execution_count": 5,
     "metadata": {},
     "output_type": "execute_result"
    }
   ],
   "source": [
    "# list1 and list2 do NOT reference the same object, but contain\n",
    "# identical elements.\n",
    "list2 = list1.copy()\n",
    "list1 is list2      # returns False"
   ]
  },
  {
   "cell_type": "code",
   "execution_count": 6,
   "metadata": {
    "collapsed": false,
    "pycharm": {
     "name": "#%%\n"
    }
   },
   "outputs": [
    {
     "data": {
      "text/plain": [
       "True"
      ]
     },
     "execution_count": 6,
     "metadata": {},
     "output_type": "execute_result"
    }
   ],
   "source": [
    "# Check if collections contain the same elements\n",
    "list1 == list2      # returns True"
   ]
  },
  {
   "cell_type": "code",
   "execution_count": 7,
   "metadata": {
    "collapsed": false,
    "pycharm": {
     "name": "#%%\n"
    }
   },
   "outputs": [
    {
     "data": {
      "text/plain": [
       "True"
      ]
     },
     "execution_count": 7,
     "metadata": {},
     "output_type": "execute_result"
    }
   ],
   "source": [
    "# Check whether element is in collection\n",
    "1 in list1          # returns True"
   ]
  },
  {
   "cell_type": "code",
   "execution_count": 8,
   "metadata": {
    "collapsed": false,
    "pycharm": {
     "name": "#%%\n"
    }
   },
   "outputs": [
    {
     "data": {
      "text/plain": [
       "True"
      ]
     },
     "execution_count": 8,
     "metadata": {},
     "output_type": "execute_result"
    }
   ],
   "source": [
    "# Combine logical expressions using 'and'\n",
    "1 in list1 and 2 in list1   # returns True"
   ]
  },
  {
   "attachments": {},
   "cell_type": "markdown",
   "metadata": {},
   "source": [
    "We can also use the `in` operator to determine whether a key\n",
    "is contained in a dictionary:"
   ]
  },
  {
   "cell_type": "code",
   "execution_count": 9,
   "metadata": {},
   "outputs": [
    {
     "data": {
      "text/plain": [
       "True"
      ]
     },
     "execution_count": 9,
     "metadata": {},
     "output_type": "execute_result"
    }
   ],
   "source": [
    "dct = {'institution': 'University of Glasgow'}\n",
    "'institution' in dct        # prints True"
   ]
  },
  {
   "cell_type": "code",
   "execution_count": 10,
   "metadata": {},
   "outputs": [
    {
     "data": {
      "text/plain": [
       "True"
      ]
     },
     "execution_count": 10,
     "metadata": {},
     "output_type": "execute_result"
    }
   ],
   "source": [
    "# check whether a key is NOT in the dictionary\n",
    "'course' not in dct         # prints True"
   ]
  },
  {
   "attachments": {},
   "cell_type": "markdown",
   "metadata": {
    "collapsed": false,
    "pycharm": {
     "name": "#%% md\n"
    }
   },
   "source": [
    "As mentioned above, most objects evaluate to `True` or `False`\n",
    "in an `if` statement:\n",
    "```\n",
    "if obj:\n",
    "    # do something if obj evaluates to True\n",
    "```\n",
    "The rules are quite intuitive: an object evaluates to `False` if\n",
    "\n",
    "-   it has a numerical type and is `0` (or `0.0`, or complex `0+0j`)\n",
    "-   it is an empty collection (tuple, list, dictionary, array, etc.)\n",
    "-   it is of logical (boolean) type and has value `False`\n",
    "-   it is `None`, a special built-in value used to denote that\n",
    "    a variable does not reference anything.\n",
    "\n",
    "In most other cases, an expression evaluates to `True`.\n",
    "\n",
    "*Examples:*\n"
   ]
  },
  {
   "cell_type": "code",
   "execution_count": 11,
   "metadata": {},
   "outputs": [
    {
     "name": "stdout",
     "output_type": "stream",
     "text": [
      "Value is zero\n"
     ]
    }
   ],
   "source": [
    "# evaluate numerical variable\n",
    "x = 0.0\n",
    "if x:\n",
    "    print('Value is non-zero')\n",
    "else:\n",
    "    print('Value is zero')"
   ]
  },
  {
   "cell_type": "code",
   "execution_count": 12,
   "metadata": {},
   "outputs": [
    {
     "name": "stdout",
     "output_type": "stream",
     "text": [
      "Flag is True\n"
     ]
    }
   ],
   "source": [
    "# Evaluate boolean variable\n",
    "flag = True\n",
    "if flag:\n",
    "    print('Flag is True')\n",
    "else:\n",
    "    print('Flag is False')"
   ]
  },
  {
   "attachments": {},
   "cell_type": "markdown",
   "metadata": {
    "collapsed": false,
    "pycharm": {
     "name": "#%% md\n"
    }
   },
   "source": [
    "The most important exception to the rule that objects intuitively\n",
    "evaluate to `True` or `False` if needed are NumPy arrays:"
   ]
  },
  {
   "cell_type": "code",
   "execution_count": 13,
   "metadata": {
    "collapsed": false,
    "pycharm": {
     "name": "#%%\n"
    }
   },
   "outputs": [
    {
     "ename": "ValueError",
     "evalue": "The truth value of an array with more than one element is ambiguous. Use a.any() or a.all()",
     "output_type": "error",
     "traceback": [
      "\u001b[0;31mValueError\u001b[0m\u001b[0;31m:\u001b[0m The truth value of an array with more than one element is ambiguous. Use a.any() or a.all()\n"
     ]
    }
   ],
   "source": [
    "import numpy as np\n",
    "\n",
    "# Create array with 5 zeros\n",
    "arr = np.zeros(5)\n",
    "if arr:\n",
    "    print('true!')"
   ]
  },
  {
   "attachments": {},
   "cell_type": "markdown",
   "metadata": {
    "collapsed": false,
    "pycharm": {
     "name": "#%% md\n"
    }
   },
   "source": [
    "As the error message indicates, Python requires you to be more specific\n",
    "about what exactly should be tested."
   ]
  },
  {
   "attachments": {},
   "cell_type": "markdown",
   "metadata": {
    "collapsed": false,
    "pycharm": {
     "name": "#%% md\n"
    }
   },
   "source": [
    "### Conditional expressions\n",
    "\n",
    "Conditional expression are more compact than conditional statements\n",
    "and can be used to return a value depending\n",
    "on some condition. A conditional expression takes three arguments using\n",
    "the syntax\n",
    "\n",
    "    <value if true> if <condition> else <value if false>\n",
    "\n",
    "The value of this expression can be assigned to a variable,\n",
    "passed to a function, etc.\n",
    "\n",
    "To illustrate, imagine we have the following code:"
   ]
  },
  {
   "cell_type": "code",
   "execution_count": 14,
   "metadata": {
    "collapsed": false,
    "pycharm": {
     "name": "#%%\n"
    }
   },
   "outputs": [],
   "source": [
    "x = 1\n",
    "\n",
    "# Test whether x is divisible by 2 without remainder using\n",
    "# the modulo operator %\n",
    "if (x % 2) == 0:\n",
    "    var = 'even'\n",
    "else:\n",
    "    var = 'odd'"
   ]
  },
  {
   "attachments": {},
   "cell_type": "markdown",
   "metadata": {
    "collapsed": false,
    "pycharm": {
     "name": "#%% md\n"
    }
   },
   "source": [
    "This code sets the value of `var` to either `'even'` or `'odd'`,\n",
    "depending on whether `x` is an even or odd integer. We can formulate\n",
    "this more concisely using a conditional expression:"
   ]
  },
  {
   "cell_type": "code",
   "execution_count": 15,
   "metadata": {
    "collapsed": false,
    "pycharm": {
     "name": "#%%\n"
    }
   },
   "outputs": [],
   "source": [
    "var = 'even' if (x % 2) == 0 else 'odd'"
   ]
  },
  {
   "attachments": {},
   "cell_type": "markdown",
   "metadata": {
    "collapsed": false,
    "pycharm": {
     "name": "#%% md\n"
    }
   },
   "source": [
    "We can even directly print the value of this expression!"
   ]
  },
  {
   "cell_type": "code",
   "execution_count": 16,
   "metadata": {
    "collapsed": false,
    "pycharm": {
     "name": "#%%\n"
    }
   },
   "outputs": [
    {
     "name": "stdout",
     "output_type": "stream",
     "text": [
      "odd\n"
     ]
    }
   ],
   "source": [
    "x = 1\n",
    "print('even' if (x % 2) == 0 else 'odd')"
   ]
  },
  {
   "attachments": {},
   "cell_type": "markdown",
   "metadata": {
    "collapsed": false,
    "pycharm": {
     "name": "#%% md\n"
    }
   },
   "source": [
    "***\n",
    "## Loops\n",
    "\n",
    "Whenever we want to iterate over several items, we use the\n",
    "`for` loop. The `for` loop in Python is particularly powerful\n",
    "because it can \"magically\" iterate over all sorts of data,\n",
    "not just integer ranges.\n",
    "\n",
    "The standard use-case is to iterate over a set of integers:"
   ]
  },
  {
   "cell_type": "code",
   "execution_count": 17,
   "metadata": {
    "collapsed": false,
    "pycharm": {
     "name": "#%%\n"
    }
   },
   "outputs": [
    {
     "name": "stdout",
     "output_type": "stream",
     "text": [
      "0\n",
      "1\n",
      "2\n",
      "3\n"
     ]
    }
   ],
   "source": [
    "# iterate over 0,...,3 and print each element\n",
    "for i in range(4):\n",
    "    print(i)"
   ]
  },
  {
   "attachments": {},
   "cell_type": "markdown",
   "metadata": {
    "collapsed": false,
    "pycharm": {
     "name": "#%% md\n"
    }
   },
   "source": [
    "We use the built-in `range` function to define the sequence\n",
    "of integers over which to loop. As usual in Python, the\n",
    "last element is *not* included. We can explicitly specify\n",
    "the start value and increment using the more advanced syntax\n",
    "`range(start,stop,step)`:"
   ]
  },
  {
   "cell_type": "code",
   "execution_count": 18,
   "metadata": {
    "collapsed": false,
    "pycharm": {
     "name": "#%%\n"
    }
   },
   "outputs": [
    {
     "name": "stdout",
     "output_type": "stream",
     "text": [
      "1\n",
      "3\n"
     ]
    }
   ],
   "source": [
    "# iterate over 1,3\n",
    "for i in range(1, 4, 2):\n",
    "    print(i)"
   ]
  },
  {
   "attachments": {},
   "cell_type": "markdown",
   "metadata": {
    "collapsed": false,
    "pycharm": {
     "name": "#%% md\n"
    }
   },
   "source": [
    "Unlike with some other languages, we can directly\n",
    "iterate over elements of a collection:"
   ]
  },
  {
   "cell_type": "code",
   "execution_count": 19,
   "metadata": {
    "collapsed": false,
    "pycharm": {
     "name": "#%%\n"
    }
   },
   "outputs": [
    {
     "name": "stdout",
     "output_type": "stream",
     "text": [
      "Glasgow\n",
      "Edinburgh\n",
      "St. Andrews\n"
     ]
    }
   ],
   "source": [
    "cities = ('Glasgow', 'Edinburgh', 'St. Andrews')\n",
    "for city in cities:\n",
    "    print(city)"
   ]
  },
  {
   "attachments": {},
   "cell_type": "markdown",
   "metadata": {
    "collapsed": false,
    "pycharm": {
     "name": "#%% md\n"
    }
   },
   "source": [
    "We could of course alternatively iterate over indices\n",
    "and extract the corresponding element, but there is no\n",
    "need to:"
   ]
  },
  {
   "cell_type": "code",
   "execution_count": 20,
   "metadata": {
    "collapsed": false,
    "pycharm": {
     "name": "#%%\n"
    }
   },
   "outputs": [
    {
     "name": "stdout",
     "output_type": "stream",
     "text": [
      "Glasgow\n",
      "Edinburgh\n",
      "St. Andrews\n"
     ]
    }
   ],
   "source": [
    "# Needlessly complicated and non-Pythonic\n",
    "for i in range(len(cities)):\n",
    "    # print city at index i\n",
    "    print(cities[i])"
   ]
  },
  {
   "attachments": {},
   "cell_type": "markdown",
   "metadata": {},
   "source": [
    "Note that when looping over dictionaries, the default \n",
    "is to iterate over *keys*:"
   ]
  },
  {
   "cell_type": "code",
   "execution_count": 21,
   "metadata": {},
   "outputs": [
    {
     "name": "stdout",
     "output_type": "stream",
     "text": [
      "key1\n",
      "key2\n"
     ]
    }
   ],
   "source": [
    "dct = {'key1': 'value1', 'key2': 'value2'}\n",
    "for key in dct:\n",
    "    print(key)"
   ]
  },
  {
   "attachments": {},
   "cell_type": "markdown",
   "metadata": {},
   "source": [
    "We can explicitly choose whether to iterate over keys, values, or both:"
   ]
  },
  {
   "cell_type": "code",
   "execution_count": 22,
   "metadata": {},
   "outputs": [
    {
     "name": "stdout",
     "output_type": "stream",
     "text": [
      "key1\n",
      "key2\n"
     ]
    }
   ],
   "source": [
    "# iterate over keys, same as example above.\n",
    "for key in dct.keys():\n",
    "    print(key)"
   ]
  },
  {
   "cell_type": "code",
   "execution_count": 23,
   "metadata": {},
   "outputs": [
    {
     "name": "stdout",
     "output_type": "stream",
     "text": [
      "value1\n",
      "value2\n"
     ]
    }
   ],
   "source": [
    "# iterate over values\n",
    "for value in dct.values():\n",
    "    print(value)"
   ]
  },
  {
   "cell_type": "code",
   "execution_count": 24,
   "metadata": {},
   "outputs": [
    {
     "name": "stdout",
     "output_type": "stream",
     "text": [
      "key1: value1\n",
      "key2: value2\n"
     ]
    }
   ],
   "source": [
    "# iterate over keys and values at the same time\n",
    "# using the items() method\n",
    "for key, value in dct.items():\n",
    "    # use format string to print key: value\n",
    "    print(f'{key}: {value}')"
   ]
  },
  {
   "attachments": {},
   "cell_type": "markdown",
   "metadata": {},
   "source": [
    "Note that `items()` returns the key-value pairs as `tuples`,\n",
    "so we need to unpack each tuple by writing `key, value`\n",
    "as the running variables of the `for` loop."
   ]
  },
  {
   "attachments": {},
   "cell_type": "markdown",
   "metadata": {
    "collapsed": false,
    "pycharm": {
     "name": "#%% md\n"
    }
   },
   "source": [
    "Sometimes the set of items over which to iterate is not known ex ante,\n",
    "and then we can instead use the `while` loop with a terminal condition:"
   ]
  },
  {
   "cell_type": "code",
   "execution_count": 25,
   "metadata": {
    "collapsed": false,
    "pycharm": {
     "name": "#%%\n"
    }
   },
   "outputs": [
    {
     "name": "stdout",
     "output_type": "stream",
     "text": [
      "loop terminated after 5 iterations\n"
     ]
    }
   ],
   "source": [
    "z = 1.001\n",
    "i = 0\n",
    "\n",
    "# How many iterations will be performed? Not obvious ex ante.\n",
    "while z < 100.0:\n",
    "    z = z*z + 0.234\n",
    "    i = i + 1\n",
    "\n",
    "# print number of iterations\n",
    "print(f'loop terminated after {i} iterations')"
   ]
  },
  {
   "attachments": {},
   "cell_type": "markdown",
   "metadata": {
    "collapsed": false,
    "pycharm": {
     "name": "#%% md\n"
    }
   },
   "source": [
    "### Advanced looping\n",
    "\n",
    "Oftentimes, we want to iterate over a list of items and\n",
    "at the same time keep track of an item's index. We can\n",
    "do this elegantly using the `enumerate()` function:"
   ]
  },
  {
   "cell_type": "code",
   "execution_count": 26,
   "metadata": {
    "collapsed": false,
    "pycharm": {
     "name": "#%%\n"
    }
   },
   "outputs": [
    {
     "name": "stdout",
     "output_type": "stream",
     "text": [
      "City 0: Glasgow\n",
      "City 1: Edinburgh\n",
      "City 2: St. Andrews\n"
     ]
    }
   ],
   "source": [
    "cities = ('Glasgow', 'Edinburgh', 'St. Andrews')\n",
    "\n",
    "# Iterate over cities, keep track of index in variable i\n",
    "for i, city in enumerate(cities):\n",
    "    print(f'City {i}: {city}')"
   ]
  },
  {
   "attachments": {},
   "cell_type": "markdown",
   "metadata": {
    "collapsed": false,
    "pycharm": {
     "name": "#%% md\n"
    }
   },
   "source": [
    "We can skip an iteration or terminate the loop using the\n",
    "`continue` and `break` statements, respectively:"
   ]
  },
  {
   "cell_type": "code",
   "execution_count": 27,
   "metadata": {
    "collapsed": false,
    "pycharm": {
     "name": "#%%\n"
    }
   },
   "outputs": [
    {
     "name": "stdout",
     "output_type": "stream",
     "text": [
      "Glasgow\n",
      "St. Andrews\n"
     ]
    }
   ],
   "source": [
    "for city in cities:\n",
    "    if city == 'Edinburgh':\n",
    "        # skip to next iteration in case of Edinburgh\n",
    "        continue\n",
    "    print(city)"
   ]
  },
  {
   "cell_type": "code",
   "execution_count": 28,
   "metadata": {
    "collapsed": false,
    "pycharm": {
     "name": "#%%\n"
    }
   },
   "outputs": [
    {
     "name": "stdout",
     "output_type": "stream",
     "text": [
      "Found Glasgow\n"
     ]
    }
   ],
   "source": [
    "for city in cities:\n",
    "    if city == 'Glasgow':\n",
    "        # Terminate iteration as soon as we find Glasgow\n",
    "        print('Found Glasgow')\n",
    "        break"
   ]
  },
  {
   "attachments": {},
   "cell_type": "markdown",
   "metadata": {
    "collapsed": false,
    "pycharm": {
     "name": "#%% md\n"
    }
   },
   "source": [
    "***\n",
    "## List comprehensions\n",
    "\n",
    "Python implements a powerful feature called _list comprehensions_ that can be\n",
    "used to create collections such as tuples and lists without writing loop statements.\n",
    "\n",
    "For example, imagine we want to create a list of squares\n",
    "of the integers $0,\\dots,4$. We can do this using a loop\n",
    "and a list's `append()` method:"
   ]
  },
  {
   "cell_type": "code",
   "execution_count": 29,
   "metadata": {
    "collapsed": false,
    "pycharm": {
     "name": "#%%\n"
    }
   },
   "outputs": [
    {
     "data": {
      "text/plain": [
       "[0, 1, 4, 9, 16]"
      ]
     },
     "execution_count": 29,
     "metadata": {},
     "output_type": "execute_result"
    }
   ],
   "source": [
    "# Initialise empty list\n",
    "squares = []\n",
    "\n",
    "# Loop over integers 0,...,4\n",
    "for i in range(5):\n",
    "    # The power operator in Python is **\n",
    "    squares.append(i**2)\n",
    "squares"
   ]
  },
  {
   "attachments": {},
   "cell_type": "markdown",
   "metadata": {
    "collapsed": false,
    "pycharm": {
     "name": "#%% md\n"
    }
   },
   "source": [
    "This is quite bloated and can be collapsed into a single\n",
    "expression using a list comprehension:"
   ]
  },
  {
   "cell_type": "code",
   "execution_count": 30,
   "metadata": {
    "collapsed": false,
    "pycharm": {
     "name": "#%%\n"
    }
   },
   "outputs": [
    {
     "data": {
      "text/plain": [
       "[0, 1, 4, 9, 16]"
      ]
     },
     "execution_count": 30,
     "metadata": {},
     "output_type": "execute_result"
    }
   ],
   "source": [
    "squares = [i**2 for i in range(5)]\n",
    "squares"
   ]
  },
  {
   "attachments": {},
   "cell_type": "markdown",
   "metadata": {
    "collapsed": false,
    "pycharm": {
     "name": "#%% md\n"
    }
   },
   "source": [
    "If the desired result should be a `tuple`, we can instead write"
   ]
  },
  {
   "cell_type": "code",
   "execution_count": 31,
   "metadata": {
    "collapsed": false,
    "pycharm": {
     "name": "#%%\n"
    }
   },
   "outputs": [
    {
     "data": {
      "text/plain": [
       "(0, 1, 4, 9, 16)"
      ]
     },
     "execution_count": 31,
     "metadata": {},
     "output_type": "execute_result"
    }
   ],
   "source": [
    "squares = tuple(i**2 for i in range(5))\n",
    "squares"
   ]
  },
  {
   "attachments": {},
   "cell_type": "markdown",
   "metadata": {
    "collapsed": false,
    "pycharm": {
     "name": "#%% md\n"
    }
   },
   "source": [
    "Alternatively, we can also create a dictionary using curly\n",
    "braces and the syntax `{key: <expression> for ...}`:"
   ]
  },
  {
   "cell_type": "code",
   "execution_count": 32,
   "metadata": {
    "collapsed": false,
    "pycharm": {
     "name": "#%%\n"
    }
   },
   "outputs": [
    {
     "data": {
      "text/plain": [
       "{0: 0, 1: 1, 2: 4, 3: 9, 4: 16}"
      ]
     },
     "execution_count": 32,
     "metadata": {},
     "output_type": "execute_result"
    }
   ],
   "source": [
    "squares = {i: i**2 for i in range(5)}\n",
    "squares"
   ]
  },
  {
   "attachments": {},
   "cell_type": "markdown",
   "metadata": {
    "collapsed": false,
    "pycharm": {
     "name": "#%% md\n"
    }
   },
   "source": [
    "List comprehensions can be nested and combined with\n",
    "conditions to create almost arbitrarily complex expressions\n",
    "(this doesn't mean that you should, though!)"
   ]
  },
  {
   "cell_type": "code",
   "execution_count": 33,
   "metadata": {
    "collapsed": false,
    "pycharm": {
     "name": "#%%\n"
    }
   },
   "outputs": [
    {
     "data": {
      "text/plain": [
       "[0, 2, 0, 4, 8, 12]"
      ]
     },
     "execution_count": 33,
     "metadata": {},
     "output_type": "execute_result"
    }
   ],
   "source": [
    "# Create incomprehensible list comprehension.\n",
    "# The modulo operator in Python is %\n",
    "items = [i*j for i in range(5) if i % 2 == 0 for j in range(i)]\n",
    "items"
   ]
  },
  {
   "attachments": {},
   "cell_type": "markdown",
   "metadata": {
    "collapsed": false,
    "pycharm": {
     "name": "#%% md\n"
    }
   },
   "source": [
    "Written out as two nested loops, this code is equivalent to"
   ]
  },
  {
   "cell_type": "code",
   "execution_count": 34,
   "metadata": {
    "collapsed": false,
    "pycharm": {
     "name": "#%%\n"
    }
   },
   "outputs": [
    {
     "data": {
      "text/plain": [
       "[0, 2, 0, 4, 8, 12]"
      ]
     },
     "execution_count": 34,
     "metadata": {},
     "output_type": "execute_result"
    }
   ],
   "source": [
    "items = []\n",
    "for i in range(5):\n",
    "    if i % 2 == 0:\n",
    "        for j in range(i):\n",
    "            items.append(i*j)\n",
    "items"
   ]
  },
  {
   "attachments": {},
   "cell_type": "markdown",
   "metadata": {
    "collapsed": false,
    "pycharm": {
     "name": "#%% md\n"
    }
   },
   "source": [
    "***\n",
    "## Optional exercises\n",
    "\n",
    "These exercises are not meant to demonstrate the most efficient\n",
    "use of Python, but to help you practice the material we have\n",
    "studied above. In fact, you'd most likely *not* want to use the solutions presented here\n",
    "in real code!"
   ]
  },
  {
   "attachments": {},
   "cell_type": "markdown",
   "metadata": {},
   "source": [
    "### Exercise 1: Approximate Euler's number\n",
    "Euler's number is defined as\n",
    "$$e = \\lim_{n\\to\\infty} \\left(1+\\frac{1}{n}\\right)^n$$\n",
    "\n",
    "1.  Create a sequence of the approximations to $e$ for $n=10,20,30,\\dots,100$\n",
    "    using a list comprehension.\n",
    "2.  Compute the approximation error for each of the elements.\n",
    "    \n",
    "    *Hint:* To get the built-in value for $e$, use\n",
    "    the import statement\n",
    "\n",
    "    ```\n",
    "    from math import e\n",
    "    ```"
   ]
  },
  {
   "attachments": {},
   "cell_type": "markdown",
   "metadata": {},
   "source": [
    "### Exercise 2: Approximate the sum of a geometric series\n",
    "\n",
    "Let $\\alpha \\in (0,1)$. The sum of the\n",
    "geometric series $(1,\\alpha,\\alpha^2,\\dots)$ is given by\n",
    "$$\\sigma = \\sum_{i=0}^{\\infty} \\alpha^i = \\frac{1}{1-\\alpha}$$\n",
    "\n",
    "Assume that $\\alpha = 0.1$.\n",
    "Write a loop that accumulates the values of the sequence\n",
    "$(1,\\alpha,\\alpha^2,\\dots)$ until the difference to the true\n",
    "value is smaller than $1\\times 10^{-8}$.\n",
    "How many elements does it take?\n",
    "\n",
    "*Hint:* In Python (and many other languages) the floating-point\n",
    "value $1\\times10^{-8}$ is written as `1e-8`."
   ]
  },
  {
   "attachments": {},
   "cell_type": "markdown",
   "metadata": {},
   "source": [
    "### Exercise 3: Binary search (advanced)\n",
    "\n",
    "The [bisection method](https://en.wikipedia.org/wiki/Bisection_method)\n",
    "can be used to find to root of a function\n",
    "$f(x)$, i.e., the point $x_0$ such that $f(x_0) = 0$.\n",
    "In this exercise, we will use the same algorithm\n",
    "to find the interval of a strictly monotonic\n",
    "sequence of numbers that brackets the value zero\n",
    "(this is a [binary search algorithm](https://en.wikipedia.org/wiki/Binary_search_algorithm)\n",
    "with approximate matching).\n",
    "\n",
    "Assume that we have an array `x` of 11 increasing real numbers\n",
    "given by"
   ]
  },
  {
   "cell_type": "code",
   "execution_count": 35,
   "metadata": {
    "collapsed": false,
    "pycharm": {
     "name": "#%%\n"
    }
   },
   "outputs": [
    {
     "data": {
      "text/plain": [
       "array([-0.5 , -0.35, -0.2 , -0.05,  0.1 ,  0.25,  0.4 ,  0.55,  0.7 ,\n",
       "        0.85,  1.  ])"
      ]
     },
     "execution_count": 35,
     "metadata": {},
     "output_type": "execute_result"
    }
   ],
   "source": [
    "import numpy as np\n",
    "x = np.linspace(-0.5, 1.0, 11)\n",
    "x"
   ]
  },
  {
   "attachments": {},
   "cell_type": "markdown",
   "metadata": {
    "collapsed": false,
    "pycharm": {
     "name": "#%% md\n"
    }
   },
   "source": [
    "Write code that identifies the bracketing interval\n",
    "(in this case [-0.05,0.1]) using the following algorithm:\n",
    "\n",
    "1.  Initialize the index of the bracket lower bound to\n",
    "    `lbound=0` and the index of the bracket upper\n",
    "    bound to `ubound=len(x)-1`.\n",
    "2.  Compute the midpoint between these two indices (rounded to\n",
    "    the nearest integer), `mid = (ubound + lbound) // 2`.\n",
    "    \n",
    "    *Hint:* The operator `//` truncates the result of a division\n",
    "    to the nearest integer.\n",
    "3.  Inspect `x[mid]`, the value at index `mid`. If `x[mid]`\n",
    "    has the same sign as `x[ubound]`, update the upper bound,\n",
    "    `ubound=mid`. Otherwise, update the lower bound.\n",
    "4.  Continue until `ubound = lbound + 1`, i.e., until you\n",
    "    have found the bracket `x[lbound] <= 0 < x[ubound]`."
   ]
  },
  {
   "attachments": {},
   "cell_type": "markdown",
   "metadata": {},
   "source": [
    "### Exercise 4: Diagonal and band matrices\n",
    "\n",
    "Let `a` be a matrix of zeros with shape `(m,n)` with an integer data type:\n",
    "```\n",
    "a = np.zeros((m,n), dtype=int)\n",
    "```\n",
    "\n",
    "1.  Set `m = n = 4`. Fill up the diagonal of `a` with ones so that it\n",
    "    becomes an identity matrix. Verify that `np.identity()` gives the same result.\n",
    "2.  Recreate `a` to have dimensions `m = 4` and `n = 5`. Modify the main, first lower and\n",
    "    first upper diagonals so that the resulting matrix looks like this,\n",
    "    where omitted elements are zeros:\n",
    "    $$\n",
    "    \\begin{bmatrix}\n",
    "    1 & 2 &   &   & \\\\\n",
    "    3 & 1 & 2 &   & \\\\\n",
    "      & 3 & 1 & 2 & \\\\\n",
    "      &   & 3 & 1 & 2\n",
    "    \\end{bmatrix}\n",
    "    $$\n",
    "\n",
    "    *Hint:* Use nested `for` loops to set the diagonal elements."
   ]
  },
  {
   "attachments": {},
   "cell_type": "markdown",
   "metadata": {},
   "source": [
    "### Exercise 5: Triangular matrices\n",
    "\n",
    "Let `a` be a matrix of zeroes with shape `(m,n)` and integer data type:\n",
    "```\n",
    "a = np.zeros((m,n), dtype=int)\n",
    "```\n",
    "\n",
    "Assume that `m = n = 4`. Using loops and `if` statements, modify the elements of `a`\n",
    "to obtain the following upper-triangular matrix, where omitted elements\n",
    "are set to zero:\n",
    "$$\n",
    "\\begin{bmatrix}\n",
    "1 & 2 & 3 & 4  \\\\\n",
    " & 5 & 6 & 7  \\\\\n",
    "  & & 8 & 9 \\\\\n",
    "  & & & 10 \n",
    "\\end{bmatrix}\n",
    "$$"
   ]
  },
  {
   "attachments": {},
   "cell_type": "markdown",
   "metadata": {
    "collapsed": false,
    "pycharm": {
     "name": "#%% md\n"
    }
   },
   "source": [
    "***\n",
    "## Solutions"
   ]
  },
  {
   "attachments": {},
   "cell_type": "markdown",
   "metadata": {},
   "source": [
    "### Solution for exercise 1"
   ]
  },
  {
   "cell_type": "code",
   "execution_count": 36,
   "metadata": {
    "collapsed": false,
    "pycharm": {
     "name": "#%%\n"
    }
   },
   "outputs": [
    {
     "name": "stdout",
     "output_type": "stream",
     "text": [
      "Approximate values\n",
      "[2.5937424601000023, 2.653297705144422, 2.6743187758703026, 2.685063838389963, 2.691588029073608, 2.6959701393302162, 2.6991163709761854, 2.7014849407533275, 2.703332461058186, 2.7048138294215285]\n",
      "Approximation error\n",
      "[-0.12453936835904278, -0.06498412331462289, -0.043963052588742446, -0.03321799006908188, -0.026693799385437256, -0.02231168912882886, -0.019165457482859694, -0.016796887705717634, -0.01494936740085917, -0.01346799903751661]\n"
     ]
    }
   ],
   "source": [
    "# Compute approximation for n = 10, 20,..., 100\n",
    "euler_approx = [(1.0+1.0/i)**i for i in range(10,101,10)]\n",
    "print('Approximate values')\n",
    "print(euler_approx)\n",
    "\n",
    "# import 'correct' value\n",
    "from math import e\n",
    "\n",
    "# We need to subtract e from each element to get the approximation error\n",
    "euler_error = [approx - e for approx in euler_approx]\n",
    "print('Approximation error')\n",
    "print(euler_error)\n"
   ]
  },
  {
   "attachments": {},
   "cell_type": "markdown",
   "metadata": {
    "collapsed": false,
    "pycharm": {
     "name": "#%% md\n"
    }
   },
   "source": [
    "### Solution for exercise 2\n",
    "\n",
    "We don't know now many iterations we will need to get to the required\n",
    "tolerance of $1\\times10^{-8}$, so this is a good opportunity\n",
    "to use a `while` loop."
   ]
  },
  {
   "cell_type": "code",
   "execution_count": 37,
   "metadata": {
    "collapsed": false,
    "pycharm": {
     "name": "#%%\n"
    }
   },
   "outputs": [
    {
     "name": "stdout",
     "output_type": "stream",
     "text": [
      "Number of iterations: 9, approx. sum: 1.11111111\n"
     ]
    }
   ],
   "source": [
    "# Convergence tolerance\n",
    "tol = 1e-8\n",
    "alpha = 0.1\n",
    "# The correct value\n",
    "sigma_exact = 1.0/(1.0 - alpha)\n",
    "\n",
    "# keep track of number of iterations\n",
    "n = 0\n",
    "\n",
    "# Initialise approximated sum\n",
    "sigma = 0.0\n",
    "\n",
    "# Iterate until absolute difference is smaller than tolerance level.\n",
    "# The built-in function abs() returns the absolute value.\n",
    "\n",
    "while abs(sigma - sigma_exact) > tol:\n",
    "    # We can combine addition and assignment into a single operator +=\n",
    "    # This is equivalent to\n",
    "    #   sigma = sigma + alpha**n\n",
    "    sigma += alpha**n\n",
    "    # Increment exponent\n",
    "    n += 1\n",
    "\n",
    "print(f'Number of iterations: {n}, approx. sum: {sigma:.8f}')"
   ]
  },
  {
   "attachments": {},
   "cell_type": "markdown",
   "metadata": {
    "collapsed": false,
    "pycharm": {
     "name": "#%% md\n"
    }
   },
   "source": [
    "### Solution for exercise 3\n",
    "\n",
    "To complete the exercise, all you have to do is to translate\n",
    "the algorithm given in the exercise into code.\n",
    "\n",
    "Since we don't know how many iterations it takes to find the bracket,\n",
    "we use a `while` loop that continues as long\n",
    "as `lbound` and `ubound` are more than 1 apart."
   ]
  },
  {
   "cell_type": "code",
   "execution_count": 38,
   "metadata": {
    "collapsed": false,
    "pycharm": {
     "name": "#%%\n"
    }
   },
   "outputs": [
    {
     "name": "stdout",
     "output_type": "stream",
     "text": [
      "Setting upper bound index to 5\n",
      "Setting lower bound index to 2\n",
      "Setting lower bound index to 3\n",
      "Setting upper bound index to 4\n",
      "Value at lower bound: -0.05\n",
      "Value at upper bound: 0.1\n"
     ]
    }
   ],
   "source": [
    "import numpy as np\n",
    "\n",
    "# Given array of increasing numbers\n",
    "x = np.linspace(-0.5, 1.0, 11)\n",
    "\n",
    "\n",
    "lbound = 0\n",
    "ubound = len(x) - 1\n",
    "\n",
    "while ubound > (lbound + 1):\n",
    "    # Index of mid point. Indices have to be integers, so\n",
    "    # we need to truncate the division result to an integer.\n",
    "    mid = (ubound + lbound) // 2\n",
    "\n",
    "    if (x[mid] * x[ubound]) > 0.0:\n",
    "        # x[mid] and x[ubound] have same sign!\n",
    "        ubound = mid\n",
    "        print(f'Setting upper bound index to {ubound}')\n",
    "    else:\n",
    "        # x[mid] and x[lbound] have the same sign\n",
    "        # or at least one of them is zero\n",
    "        lbound = mid\n",
    "        print(f'Setting lower bound index to {lbound}')\n",
    "\n",
    "print(f'Value at lower bound: {x[lbound]:.4g}')\n",
    "print(f'Value at upper bound: {x[ubound]:.4g}')"
   ]
  },
  {
   "attachments": {},
   "cell_type": "markdown",
   "metadata": {
    "collapsed": false,
    "pycharm": {
     "name": "#%% md\n"
    }
   },
   "source": [
    "In this implementation, we use the fact that two non-zero real numbers $a$\n",
    "and $b$ have the same sign whenever $a \\cdot b > 0$."
   ]
  },
  {
   "attachments": {},
   "cell_type": "markdown",
   "metadata": {},
   "source": [
    "### Solution for exercise 4\n",
    "\n",
    "For the first part, we need to loop over the diagonal elements and overwrite\n",
    "the zeros with ones:"
   ]
  },
  {
   "cell_type": "code",
   "execution_count": 39,
   "metadata": {},
   "outputs": [
    {
     "data": {
      "text/plain": [
       "array([[1, 0, 0, 0],\n",
       "       [0, 1, 0, 0],\n",
       "       [0, 0, 1, 0],\n",
       "       [0, 0, 0, 1]])"
      ]
     },
     "execution_count": 39,
     "metadata": {},
     "output_type": "execute_result"
    }
   ],
   "source": [
    "# Part 1: create identity matrix\n",
    "\n",
    "import numpy as np\n",
    "\n",
    "n = 4\n",
    "a = np.zeros((n,n), dtype=int)\n",
    "\n",
    "# loop over diagonal elements, set them to 1\n",
    "for i in range(n):\n",
    "    a[i,i] = 1\n",
    "\n",
    "# print identity matrix\n",
    "a"
   ]
  },
  {
   "attachments": {},
   "cell_type": "markdown",
   "metadata": {},
   "source": [
    "You can get the same result using NumPy's `np.identity()` function:"
   ]
  },
  {
   "cell_type": "code",
   "execution_count": 40,
   "metadata": {},
   "outputs": [
    {
     "data": {
      "text/plain": [
       "array([[1, 0, 0, 0],\n",
       "       [0, 1, 0, 0],\n",
       "       [0, 0, 1, 0],\n",
       "       [0, 0, 0, 1]])"
      ]
     },
     "execution_count": 40,
     "metadata": {},
     "output_type": "execute_result"
    }
   ],
   "source": [
    "n = 4\n",
    "np.identity(n, dtype=int)"
   ]
  },
  {
   "attachments": {},
   "cell_type": "markdown",
   "metadata": {},
   "source": [
    "For the second part, we need nested loops over rows and columns and we check at each \n",
    "position $(i,j)$ whether it is on the main diagonal, or on the first upper \n",
    "or lower diagonal."
   ]
  },
  {
   "cell_type": "code",
   "execution_count": 41,
   "metadata": {},
   "outputs": [
    {
     "data": {
      "text/plain": [
       "array([[1, 2, 0, 0, 0],\n",
       "       [3, 1, 2, 0, 0],\n",
       "       [0, 3, 1, 2, 0],\n",
       "       [0, 0, 3, 1, 2]])"
      ]
     },
     "execution_count": 41,
     "metadata": {},
     "output_type": "execute_result"
    }
   ],
   "source": [
    "# Part 2: create band matrix\n",
    "\n",
    "import numpy as np\n",
    "\n",
    "m = 4\n",
    "n = 5\n",
    "\n",
    "a = np.zeros((m,n), dtype=int)\n",
    "\n",
    "# loop over rows\n",
    "for i in range(m):\n",
    "    # loop over columns\n",
    "    for j in range(n):\n",
    "        if i == j:\n",
    "            # main diagonal element\n",
    "            a[i,j] = 1\n",
    "        elif i == (j - 1):\n",
    "            # upper diagonal element\n",
    "            a[i,j] = 2\n",
    "        elif i == (j + 1):\n",
    "            # lower diagonal element\n",
    "            a[i,j] = 3\n",
    "\n",
    "# print final matrix\n",
    "a"
   ]
  },
  {
   "attachments": {},
   "cell_type": "markdown",
   "metadata": {},
   "source": [
    "### Solution for exercise 5\n",
    "\n",
    "We solve this exercise using two nested `for` loops, the first over rows,\n",
    "the second over columns:"
   ]
  },
  {
   "cell_type": "code",
   "execution_count": 42,
   "metadata": {},
   "outputs": [
    {
     "data": {
      "text/plain": [
       "array([[ 1,  2,  3,  4],\n",
       "       [ 0,  5,  6,  7],\n",
       "       [ 0,  0,  8,  9],\n",
       "       [ 0,  0,  0, 10]])"
      ]
     },
     "execution_count": 42,
     "metadata": {},
     "output_type": "execute_result"
    }
   ],
   "source": [
    "import numpy as np \n",
    "\n",
    "m = 4\n",
    "n = 4\n",
    "\n",
    "a = np.zeros((m,n), dtype=int)\n",
    "\n",
    "# keep track of value to be inserted\n",
    "value = 1\n",
    "\n",
    "# loop over rows\n",
    "for i in range(m):\n",
    "    # loop over columns\n",
    "    for j in range(i, n):\n",
    "        a[i,j] = value\n",
    "        # increment value for next matching element\n",
    "        value += 1\n",
    "\n",
    "# print final matrix\n",
    "a\n"
   ]
  },
  {
   "attachments": {},
   "cell_type": "markdown",
   "metadata": {},
   "source": [
    "Note that the loop over columns uses the current row index as the lower bound, since\n",
    "we never need to insert anything at element $(i,j)$ if $j < i$."
   ]
  }
 ],
 "metadata": {
  "kernelspec": {
   "display_name": "Python 3.10.4 ('py3-default')",
   "language": "python",
   "name": "python3"
  },
  "language_info": {
   "codemirror_mode": {
    "name": "ipython",
    "version": 3
   },
   "file_extension": ".py",
   "mimetype": "text/x-python",
   "name": "python",
   "nbconvert_exporter": "python",
   "pygments_lexer": "ipython3",
   "version": "3.10.4"
  },
  "vscode": {
   "interpreter": {
    "hash": "89692ee4bd8d7a7842eb7c7050f10ae8c4113955275de7625334d5364ea86119"
   }
  }
 },
 "nbformat": 4,
 "nbformat_minor": 0
}
