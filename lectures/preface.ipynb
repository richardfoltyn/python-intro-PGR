{
 "cells": [
  {
   "attachments": {},
   "cell_type": "markdown",
   "metadata": {
    "collapsed": true,
    "pycharm": {
     "name": "#%% md\n"
    }
   },
   "source": [
    "# Preface\n",
    "\n",
    "This document is intended as an introduction to the Python\n",
    "programming language and was compiled for the MRes/PhD-level course \n",
    "*Introduction to Python Programming for Economics & Finance*\n",
    "given at the University of Glasgow.\n",
    "The focus is on language elements and libraries that are useful\n",
    "for data analysis, statistics, machine learning and numerical computations in general.\n",
    "\n",
    "The course consists of a collection of interactive notebooks hosted\n",
    "in a Github [repository](https://github.com/richardfoltyn/python-intro-PGR).\n",
    "While the content in this document and in the interactive notebooks\n",
    "is the same, the notebooks have the added benefit that they can\n",
    "be run directly in a browser, allowing you to immediately experiment with\n",
    "the provided code examples.\n",
    "\n",
    "We omit numerous features of Python which are not of first-order\n",
    "importance to master the topics mentioned above.\n",
    "This includes manipulation of text data,\n",
    "advanced input/output, generators, decorators and object-oriented\n",
    "programming, among others.\n",
    "\n",
    "The material does not assume any existing knowledge of Python or programming,\n",
    "but moves at a brisk pace compared to other introductory general-purpose\n",
    "Python programming textbooks.\n"
   ]
  }
 ],
 "metadata": {
  "kernelspec": {
   "display_name": "Python 3",
   "language": "python",
   "name": "python3"
  },
  "language_info": {
   "codemirror_mode": {
    "name": "ipython",
    "version": 2
   },
   "file_extension": ".py",
   "mimetype": "text/x-python",
   "name": "python",
   "nbconvert_exporter": "python",
   "pygments_lexer": "ipython2",
   "version": "2.7.6"
  }
 },
 "nbformat": 4,
 "nbformat_minor": 0
}
