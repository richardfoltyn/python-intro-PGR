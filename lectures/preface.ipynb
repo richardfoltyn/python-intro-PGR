{
 "cells": [
  {
   "cell_type": "markdown",
   "metadata": {
    "collapsed": true,
    "pycharm": {
     "name": "#%% md\n"
    }
   },
   "source": [
    "# Preface\n",
    "\n",
    "This document is intended as an introduction to the Python\n",
    "programming language and was compiled for the course \n",
    "_Machine Learning in Finance with Python_ (ECON5130)\n",
    "given at the University of Glasgow.\n",
    "The focus is on language elements and libraries that are useful\n",
    "for data analysis, statistics, machine learning and numerical computations in general.\n",
    "\n",
    "The course consists of a collection of interactive notebooks hosted\n",
    "in a Github [repository](https://github.com/richardfoltyn/MLFP-ECON5130).\n",
    "While the content in this document and in the interactive notebooks\n",
    "is the same, the notebooks have the added benefit that they can\n",
    "be run directly in a browser, allowing you to immediately experiment with\n",
    "the provided code examples.\n",
    "\n",
    "We omit numerous features of Python which are not of first-order\n",
    "importance to master the topics mentioned above.\n",
    "This includes manipulation of text data,\n",
    "advanced input/output, generators, decorators and object-oriented\n",
    "programming, among others.\n",
    "\n",
    "The material does not assume any existing knowledge of Python or programming,\n",
    "but moves at a brisk pace compared to other introductory general-purpose\n",
    "Python programming textbooks. It is therefore important to\n",
    "work through the exercises provided for most chapters to practice\n",
    "applying the concepts covered. Suggested solutions are available for\n",
    "all exercises.\n",
    "\n",
    "Special thanks go to Jonna Olsson for reading through all units and suggesting\n",
    "various improvements.\n"
   ]
  }
 ],
 "metadata": {
  "kernelspec": {
   "display_name": "Python 3",
   "language": "python",
   "name": "python3"
  },
  "language_info": {
   "codemirror_mode": {
    "name": "ipython",
    "version": 2
   },
   "file_extension": ".py",
   "mimetype": "text/x-python",
   "name": "python",
   "nbconvert_exporter": "python",
   "pygments_lexer": "ipython2",
   "version": "2.7.6"
  }
 },
 "nbformat": 4,
 "nbformat_minor": 0
}
