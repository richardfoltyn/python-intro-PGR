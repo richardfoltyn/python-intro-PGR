{
 "cells": [
  {
   "attachments": {},
   "cell_type": "markdown",
   "metadata": {
    "collapsed": true
   },
   "source": [
    "# Language and NumPy basics\n",
    "\n",
    "In this unit we start exploring the Python language,\n",
    "covering the following topics:\n",
    "\n",
    "1. Basic syntax\n",
    "2. Built-in data types\n",
    "3. NumPy arrays\n",
    "\n",
    "## Basic syntax\n",
    "\n",
    "-   Everything after a # character (until the end of the line) is a comment and will be ignored.\n",
    "-   Variable names are case sensitive.\n",
    "-   Whitespace characters matter (unlike in most languages)!\n",
    "-   Python uses indentation (usually 4 spaces) to group statements,\n",
    "    for example loop bodies, functions, etc.\n",
    "-   You don't need to add a character to terminate a line, unlike in some languages.\n",
    "-   You can use the `print()` function to inspect almost any object."
   ]
  },
  {
   "cell_type": "code",
   "execution_count": 1,
   "metadata": {
    "pycharm": {
     "name": "#%%\n"
    }
   },
   "outputs": [
    {
     "name": "stdout",
     "output_type": "stream",
     "text": [
      "Hello, world!\n"
     ]
    }
   ],
   "source": [
    "# First example\n",
    "\n",
    "# create a variable named 'text' that stores the string 'Hello, world!'\n",
    "text = 'Hello, world!'\n",
    "\n",
    "# print contents of 'text'\n",
    "print(text)"
   ]
  },
  {
   "attachments": {},
   "cell_type": "markdown",
   "metadata": {
    "pycharm": {
     "name": "#%% md\n"
    }
   },
   "source": [
    "In Jupyter notebooks and interactive command-line environments,\n",
    "we can also display a value by simply writing the variable name."
   ]
  },
  {
   "cell_type": "code",
   "execution_count": 2,
   "metadata": {
    "pycharm": {
     "name": "#%%\n"
    }
   },
   "outputs": [
    {
     "data": {
      "text/plain": [
       "'Hello, world!'"
      ]
     },
     "execution_count": 2,
     "metadata": {},
     "output_type": "execute_result"
    }
   ],
   "source": [
    "text"
   ]
  },
  {
   "attachments": {},
   "cell_type": "markdown",
   "metadata": {
    "pycharm": {
     "name": "#%% md\n"
    }
   },
   "source": [
    "Alternatively, we don't even need to create a variable but can\n",
    "instead directly evaluate expressions and print the result:"
   ]
  },
  {
   "cell_type": "code",
   "execution_count": 3,
   "metadata": {
    "pycharm": {
     "name": "#%%\n"
    }
   },
   "outputs": [
    {
     "data": {
      "text/plain": [
       "6"
      ]
     },
     "execution_count": 3,
     "metadata": {},
     "output_type": "execute_result"
    }
   ],
   "source": [
    "2*3"
   ]
  },
  {
   "attachments": {},
   "cell_type": "markdown",
   "metadata": {
    "pycharm": {
     "name": "#%% md\n"
    }
   },
   "source": [
    "This does not print anything in *proper* Python script files\n",
    "that are run through the interpreter, though.\n",
    "\n",
    "Calling `print()` is also useful if we want to display multiple expressions\n",
    "from a single notebook cell, as otherwise only the last value is shown:"
   ]
  },
  {
   "cell_type": "code",
   "execution_count": 4,
   "metadata": {},
   "outputs": [
    {
     "data": {
      "text/plain": [
       "1"
      ]
     },
     "execution_count": 4,
     "metadata": {},
     "output_type": "execute_result"
    }
   ],
   "source": [
    "text = 'Hello world!'\n",
    "var = 1\n",
    "text        # does NOT print contents of text\n",
    "var         # prints only value of var"
   ]
  },
  {
   "cell_type": "code",
   "execution_count": 5,
   "metadata": {},
   "outputs": [
    {
     "name": "stdout",
     "output_type": "stream",
     "text": [
      "Hello world!\n"
     ]
    },
    {
     "data": {
      "text/plain": [
       "1"
      ]
     },
     "execution_count": 5,
     "metadata": {},
     "output_type": "execute_result"
    }
   ],
   "source": [
    "print(text) # print text explicitly\n",
    "var         # var is shown automatically"
   ]
  },
  {
   "attachments": {},
   "cell_type": "markdown",
   "metadata": {
    "pycharm": {
     "name": "#%% md\n"
    }
   },
   "source": [
    "***\n",
    "## Built-in data types\n",
    "\n",
    "Pythons is a dynamically-typed language:\n",
    "\n",
    "-   Unlike in C or Fortran, you don't need to declare a variable or its type.\n",
    "-   You can inspect a variable's type using the built-in `type()` function,\n",
    "    but you rarely need to do this.\n",
    "\n",
    "We now look at the most useful built-in data types:\n",
    "\n",
    "**Basic types**\n",
    "\n",
    "- integers (`int`)\n",
    "- floating-point numbers (`float`)\n",
    "- boolean (`bool`)\n",
    "- strings (`str`)\n",
    "\n",
    "**Containers (or collections)**\n",
    "\n",
    "- tuples (`tuple`)\n",
    "- lists (`list`)\n",
    "- dictionaries (`dict`)"
   ]
  },
  {
   "attachments": {},
   "cell_type": "markdown",
   "metadata": {
    "pycharm": {
     "name": "#%% md\n"
    }
   },
   "source": [
    "### Integers and floats\n",
    "\n",
    "Integers and floats (floating-point numbers) are the two main built-in data types to store\n",
    "numerical data (we ignore complex numbers in this tutorial). Floating-point is the standard\n",
    "way to represent real numbers on computers since these cannot store\n",
    "real numbers with arbitrary precision."
   ]
  },
  {
   "cell_type": "code",
   "execution_count": 6,
   "metadata": {
    "pycharm": {
     "name": "#%%\n"
    }
   },
   "outputs": [
    {
     "data": {
      "text/plain": [
       "int"
      ]
     },
     "execution_count": 6,
     "metadata": {},
     "output_type": "execute_result"
    }
   ],
   "source": [
    "# Integer variables\n",
    "i = 1\n",
    "type(i)"
   ]
  },
  {
   "cell_type": "code",
   "execution_count": 7,
   "metadata": {
    "pycharm": {
     "name": "#%%\n"
    }
   },
   "outputs": [
    {
     "data": {
      "text/plain": [
       "float"
      ]
     },
     "execution_count": 7,
     "metadata": {},
     "output_type": "execute_result"
    }
   ],
   "source": [
    "# Floating-point variables\n",
    "x = 1.0\n",
    "type(x)"
   ]
  },
  {
   "cell_type": "code",
   "execution_count": 8,
   "metadata": {
    "pycharm": {
     "name": "#%%\n"
    }
   },
   "outputs": [
    {
     "data": {
      "text/plain": [
       "int"
      ]
     },
     "execution_count": 8,
     "metadata": {},
     "output_type": "execute_result"
    }
   ],
   "source": [
    "# A name can reference any data type:\n",
    "# Previously, x was a float, now it's an integer!\n",
    "x = 1\n",
    "type(x)"
   ]
  },
  {
   "attachments": {},
   "cell_type": "markdown",
   "metadata": {
    "pycharm": {
     "name": "#%% md\n"
    }
   },
   "source": [
    "It is good programming practice to specify floating-point\n",
    "literals using a decimal point. It makes a difference in\n",
    "a few cases (especially when using NumPy arrays, or Python extensions such as\n",
    "Numba or Cython):"
   ]
  },
  {
   "cell_type": "code",
   "execution_count": 9,
   "metadata": {
    "pycharm": {
     "name": "#%%\n"
    }
   },
   "outputs": [],
   "source": [
    "x = 1.0         # instead of x = 1"
   ]
  },
  {
   "attachments": {},
   "cell_type": "markdown",
   "metadata": {
    "pycharm": {
     "name": "#%% md\n"
    }
   },
   "source": [
    "A boolean (`bool`) is a special integer type that can only store two values,\n",
    "`True` and `False`. We create booleans by assigning one of these values\n",
    "to a variable:"
   ]
  },
  {
   "cell_type": "code",
   "execution_count": 10,
   "metadata": {
    "collapsed": false,
    "pycharm": {
     "name": "#%%\n"
    }
   },
   "outputs": [],
   "source": [
    "x = True\n",
    "x = False"
   ]
  },
  {
   "attachments": {},
   "cell_type": "markdown",
   "metadata": {
    "collapsed": false,
    "pycharm": {
     "name": "#%% md\n"
    }
   },
   "source": [
    "Boolean values are most frequently used for conditional execution, i.e.,\n",
    "a block of code is run only when some variable is `True`. We study\n",
    "conditional execution in the next unit."
   ]
  },
  {
   "attachments": {},
   "cell_type": "markdown",
   "metadata": {
    "collapsed": false,
    "pycharm": {
     "name": "#%% md\n"
    }
   },
   "source": [
    "### Strings\n",
    "\n",
    "The string data type stores sequences of characters:"
   ]
  },
  {
   "cell_type": "code",
   "execution_count": 11,
   "metadata": {
    "pycharm": {
     "name": "#%%\n"
    }
   },
   "outputs": [],
   "source": [
    "# Strings need to be surrounded by single (') or double (\") quotes!\n",
    "institution = 'University of Glasgow'\n",
    "institution = \"University of Glasgow\""
   ]
  },
  {
   "attachments": {},
   "cell_type": "markdown",
   "metadata": {},
   "source": [
    "Strings support various operations some of which we explore in the exercises at the end of this section. For example, we can use the addition operation `+` to concatenate strings:"
   ]
  },
  {
   "cell_type": "code",
   "execution_count": 12,
   "metadata": {},
   "outputs": [
    {
     "data": {
      "text/plain": [
       "'Python course'"
      ]
     },
     "execution_count": 12,
     "metadata": {},
     "output_type": "execute_result"
    }
   ],
   "source": [
    "# Define two strings\n",
    "str1 = 'Python'\n",
    "str2 = 'course'\n",
    "\n",
    "# Concatenate strings using +\n",
    "str1 + ' ' + str2 "
   ]
  },
  {
   "attachments": {},
   "cell_type": "markdown",
   "metadata": {},
   "source": [
    "An extremely useful variant of strings are the so-called _f-strings_. These allow us to dynamically insert a variable value into a string, a feature we'll use throughout this course."
   ]
  },
  {
   "cell_type": "code",
   "execution_count": 13,
   "metadata": {},
   "outputs": [
    {
     "data": {
      "text/plain": [
       "'Pi is approximately equal to 3.1415'"
      ]
     },
     "execution_count": 13,
     "metadata": {},
     "output_type": "execute_result"
    }
   ],
   "source": [
    "# Approximate value of pi\n",
    "pi = 3.1415\n",
    "\n",
    "# Use f-strings to embed the value of the variable version inside the string\n",
    "s = f'Pi is approximately equal to {pi}'\n",
    "s"
   ]
  },
  {
   "attachments": {},
   "cell_type": "markdown",
   "metadata": {
    "pycharm": {
     "name": "#%% md\n"
    }
   },
   "source": [
    "### Tuples\n",
    "\n",
    "Tuples represent a collection of several items which can\n",
    "have different data types. They are created whenever several\n",
    "items are separated by commas. The parentheses are optional:\n",
    "```python\n",
    "(item1, item2, ...)\n",
    "```"
   ]
  },
  {
   "cell_type": "code",
   "execution_count": 14,
   "metadata": {
    "pycharm": {
     "name": "#%%\n"
    }
   },
   "outputs": [
    {
     "data": {
      "text/plain": [
       "('foo', 1, 1.0)"
      ]
     },
     "execution_count": 14,
     "metadata": {},
     "output_type": "execute_result"
    }
   ],
   "source": [
    "# A tuple containing a string, an integer and a float\n",
    "items = ('foo', 1, 1.0)\n",
    "items"
   ]
  },
  {
   "attachments": {},
   "cell_type": "markdown",
   "metadata": {
    "pycharm": {
     "name": "#%% md\n"
    }
   },
   "source": [
    "The parenthesis are optional, but improve readability:"
   ]
  },
  {
   "cell_type": "code",
   "execution_count": 15,
   "metadata": {
    "pycharm": {
     "name": "#%%\n"
    }
   },
   "outputs": [
    {
     "data": {
      "text/plain": [
       "('foo', 1, 1.0)"
      ]
     },
     "execution_count": 15,
     "metadata": {},
     "output_type": "execute_result"
    }
   ],
   "source": [
    "items = 'foo', 1, 1.0       # equivalent way to create a tuple\n",
    "items"
   ]
  },
  {
   "attachments": {},
   "cell_type": "markdown",
   "metadata": {
    "pycharm": {
     "name": "#%% md\n"
    }
   },
   "source": [
    "We use brackets `[]` to access an element in a tuple (or any other\n",
    "container object)"
   ]
  },
  {
   "cell_type": "code",
   "execution_count": 16,
   "metadata": {
    "pycharm": {
     "name": "#%%\n"
    }
   },
   "outputs": [
    {
     "data": {
      "text/plain": [
       "'foo'"
      ]
     },
     "execution_count": 16,
     "metadata": {},
     "output_type": "execute_result"
    }
   ],
   "source": [
    "first = items[0]            # variable first now contains 'foo'\n",
    "first"
   ]
  },
  {
   "attachments": {},
   "cell_type": "markdown",
   "metadata": {
    "pycharm": {
     "name": "#%% md\n"
    }
   },
   "source": [
    "Python indices are 0-based, so 0 references the first element,\n",
    "1 the second element, etc."
   ]
  },
  {
   "cell_type": "code",
   "execution_count": 17,
   "metadata": {
    "pycharm": {
     "name": "#%%\n"
    }
   },
   "outputs": [
    {
     "data": {
      "text/plain": [
       "1"
      ]
     },
     "execution_count": 17,
     "metadata": {},
     "output_type": "execute_result"
    }
   ],
   "source": [
    "second = items[1]           # second element\n",
    "second"
   ]
  },
  {
   "attachments": {},
   "cell_type": "markdown",
   "metadata": {},
   "source": [
    "Tuples and any other Python collection support automatic unpacking if we want to extract multiple (or all) values at once:"
   ]
  },
  {
   "cell_type": "code",
   "execution_count": 18,
   "metadata": {},
   "outputs": [
    {
     "data": {
      "text/plain": [
       "'foo'"
      ]
     },
     "execution_count": 18,
     "metadata": {},
     "output_type": "execute_result"
    }
   ],
   "source": [
    "first, second, third = items\n",
    "\n",
    "# Print first element\n",
    "first"
   ]
  },
  {
   "attachments": {},
   "cell_type": "markdown",
   "metadata": {},
   "source": [
    "If we are not interested in extracting all items, we can collect any remaining items using a `*` as follows:"
   ]
  },
  {
   "cell_type": "code",
   "execution_count": 19,
   "metadata": {},
   "outputs": [
    {
     "data": {
      "text/plain": [
       "[1, 1.0]"
      ]
     },
     "execution_count": 19,
     "metadata": {},
     "output_type": "execute_result"
    }
   ],
   "source": [
    "first, *rest  = items\n",
    "\n",
    "# Rest contains a list of all remaining items\n",
    "rest"
   ]
  },
  {
   "attachments": {},
   "cell_type": "markdown",
   "metadata": {},
   "source": [
    "Tuples are immutable, which means that the items\n",
    "stored in the tuple cannot be changed!"
   ]
  },
  {
   "cell_type": "code",
   "execution_count": 20,
   "metadata": {
    "pycharm": {
     "name": "#%%\n"
    }
   },
   "outputs": [
    {
     "ename": "TypeError",
     "evalue": "'tuple' object does not support item assignment",
     "output_type": "error",
     "traceback": [
      "\u001b[0;31mTypeError\u001b[0m\u001b[0;31m:\u001b[0m 'tuple' object does not support item assignment\n"
     ]
    }
   ],
   "source": [
    "# This raises an error!\n",
    "items = 'foo', 1, 1.0\n",
    "items[0] = 123\n"
   ]
  },
  {
   "attachments": {},
   "cell_type": "markdown",
   "metadata": {
    "pycharm": {
     "name": "#%% md\n"
    }
   },
   "source": [
    "### Lists\n",
    "Lists are like tuples, except that they can be modified.\n",
    "We create lists using brackets,\n",
    "```\n",
    "[item1, item2, ...]\n",
    "```"
   ]
  },
  {
   "cell_type": "code",
   "execution_count": 21,
   "metadata": {
    "pycharm": {
     "name": "#%%\n"
    }
   },
   "outputs": [
    {
     "data": {
      "text/plain": [
       "['foo', 1, 1.0]"
      ]
     },
     "execution_count": 21,
     "metadata": {},
     "output_type": "execute_result"
    }
   ],
   "source": [
    "# Create list which contains a string, an integer and a float\n",
    "lst = ['foo', 1, 1.0]\n",
    "lst"
   ]
  },
  {
   "attachments": {},
   "cell_type": "markdown",
   "metadata": {
    "pycharm": {
     "name": "#%% md\n"
    }
   },
   "source": [
    "Accessing list items works the same way as with tuples"
   ]
  },
  {
   "cell_type": "code",
   "execution_count": 22,
   "metadata": {
    "pycharm": {
     "name": "#%%\n"
    }
   },
   "outputs": [
    {
     "data": {
      "text/plain": [
       "'foo'"
      ]
     },
     "execution_count": 22,
     "metadata": {},
     "output_type": "execute_result"
    }
   ],
   "source": [
    "lst[0]                  # print first item"
   ]
  },
  {
   "attachments": {},
   "cell_type": "markdown",
   "metadata": {
    "pycharm": {
     "name": "#%% md\n"
    }
   },
   "source": [
    "Lists items can be modified:"
   ]
  },
  {
   "cell_type": "code",
   "execution_count": 23,
   "metadata": {
    "pycharm": {
     "name": "#%%\n"
    }
   },
   "outputs": [
    {
     "data": {
      "text/plain": [
       "['bar', 1, 1.0]"
      ]
     },
     "execution_count": 23,
     "metadata": {},
     "output_type": "execute_result"
    }
   ],
   "source": [
    "lst[0] = 'bar'          # first element is now 'bar'\n",
    "lst"
   ]
  },
  {
   "attachments": {},
   "cell_type": "markdown",
   "metadata": {
    "pycharm": {
     "name": "#%% md\n"
    }
   },
   "source": [
    "Lists are full-fledged objects that support various operations,\n",
    "for example"
   ]
  },
  {
   "cell_type": "code",
   "execution_count": 24,
   "metadata": {
    "pycharm": {
     "name": "#%%\n"
    }
   },
   "outputs": [
    {
     "data": {
      "text/plain": [
       "['abc', 'bar', 1, 2.0]"
      ]
     },
     "execution_count": 24,
     "metadata": {},
     "output_type": "execute_result"
    }
   ],
   "source": [
    "lst.insert(0, 'abc')    # insert element at position 0\n",
    "lst.append(2.0)         # append element at the end\n",
    "del lst[3]              # delete the 4th element\n",
    "lst"
   ]
  },
  {
   "attachments": {},
   "cell_type": "markdown",
   "metadata": {
    "pycharm": {
     "name": "#%% md\n"
    }
   },
   "source": [
    "The built-in function `len()` returns the number\n",
    "of elements in a list (and any other container object)"
   ]
  },
  {
   "cell_type": "code",
   "execution_count": 25,
   "metadata": {
    "pycharm": {
     "name": "#%%\n"
    }
   },
   "outputs": [
    {
     "data": {
      "text/plain": [
       "4"
      ]
     },
     "execution_count": 25,
     "metadata": {},
     "output_type": "execute_result"
    }
   ],
   "source": [
    "len(lst)"
   ]
  },
  {
   "attachments": {},
   "cell_type": "markdown",
   "metadata": {
    "pycharm": {
     "name": "#%% md\n"
    }
   },
   "source": [
    "### Dictionaries\n",
    "Dictionaries are container objects that map keys to values.\n",
    "\n",
    "-   Both keys and values can be (almost any) Python objects,\n",
    "    even though usually we use strings as keys.\n",
    "-   Dictionaries are created using curly braces:\n",
    "    `{key1: value1, key2: value2, ...}`.\n",
    "\n",
    "For example, to create a dictionary with three items we write"
   ]
  },
  {
   "cell_type": "code",
   "execution_count": 26,
   "metadata": {
    "pycharm": {
     "name": "#%%\n"
    }
   },
   "outputs": [
    {
     "data": {
      "text/plain": [
       "{'institution': 'University of Glasgow',\n",
       " 'course': 'Python course',\n",
       " 'year': 2023}"
      ]
     },
     "execution_count": 26,
     "metadata": {},
     "output_type": "execute_result"
    }
   ],
   "source": [
    "dct = {\n",
    "   'institution': 'University of Glasgow',\n",
    "   'course': 'Python course',\n",
    "   'year': 2023\n",
    "}\n",
    "dct"
   ]
  },
  {
   "attachments": {},
   "cell_type": "markdown",
   "metadata": {
    "pycharm": {
     "name": "#%% md\n"
    }
   },
   "source": [
    "Specific values are accessed using the syntax `dict[key]`:"
   ]
  },
  {
   "cell_type": "code",
   "execution_count": 27,
   "metadata": {
    "pycharm": {
     "name": "#%%\n"
    }
   },
   "outputs": [
    {
     "data": {
      "text/plain": [
       "'University of Glasgow'"
      ]
     },
     "execution_count": 27,
     "metadata": {},
     "output_type": "execute_result"
    }
   ],
   "source": [
    "dct['institution']"
   ]
  },
  {
   "attachments": {},
   "cell_type": "markdown",
   "metadata": {},
   "source": [
    "We can use the same syntax to either modify an existing key\n",
    "or add a new key-value pair:"
   ]
  },
  {
   "cell_type": "code",
   "execution_count": 28,
   "metadata": {},
   "outputs": [
    {
     "data": {
      "text/plain": [
       "{'institution': 'University of Glasgow',\n",
       " 'course': 'Introduction to Python',\n",
       " 'year': 2023,\n",
       " 'city': 'Glasgow'}"
      ]
     },
     "execution_count": 28,
     "metadata": {},
     "output_type": "execute_result"
    }
   ],
   "source": [
    "dct['course'] = 'Introduction to Python'        # modify value of existing key\n",
    "dct['city'] = 'Glasgow'                         # add new key-value pair\n",
    "dct"
   ]
  },
  {
   "attachments": {},
   "cell_type": "markdown",
   "metadata": {},
   "source": [
    "Moreover, we can use the methods `keys()` and `values()` \n",
    "to get the collection of a dictionary's keys and values:"
   ]
  },
  {
   "cell_type": "code",
   "execution_count": 29,
   "metadata": {},
   "outputs": [
    {
     "data": {
      "text/plain": [
       "dict_keys(['institution', 'course', 'year', 'city'])"
      ]
     },
     "execution_count": 29,
     "metadata": {},
     "output_type": "execute_result"
    }
   ],
   "source": [
    "dct.keys()"
   ]
  },
  {
   "cell_type": "code",
   "execution_count": 30,
   "metadata": {},
   "outputs": [
    {
     "data": {
      "text/plain": [
       "dict_values(['University of Glasgow', 'Introduction to Python', 2023, 'Glasgow'])"
      ]
     },
     "execution_count": 30,
     "metadata": {},
     "output_type": "execute_result"
    }
   ],
   "source": [
    "dct.values()"
   ]
  },
  {
   "attachments": {},
   "cell_type": "markdown",
   "metadata": {},
   "source": [
    "When we try to retrieve a key that is not in the dictionary,\n",
    "this will produce an error:"
   ]
  },
  {
   "cell_type": "code",
   "execution_count": 31,
   "metadata": {},
   "outputs": [
    {
     "ename": "KeyError",
     "evalue": "'country'",
     "output_type": "error",
     "traceback": [
      "\u001b[0;31mKeyError\u001b[0m\u001b[0;31m:\u001b[0m 'country'\n"
     ]
    }
   ],
   "source": [
    "dct['country']"
   ]
  },
  {
   "attachments": {},
   "cell_type": "markdown",
   "metadata": {},
   "source": [
    "One way to get around this is to use the `get()` method which accepts a \n",
    "default value that will be returned whenever a key is not present:"
   ]
  },
  {
   "cell_type": "code",
   "execution_count": 32,
   "metadata": {},
   "outputs": [
    {
     "data": {
      "text/plain": [
       "'Scotland'"
      ]
     },
     "execution_count": 32,
     "metadata": {},
     "output_type": "execute_result"
    }
   ],
   "source": [
    "dct.get('country', 'Scotland')      # return 'Scotland' if 'country' is\n",
    "                                    # not a valid key"
   ]
  },
  {
   "attachments": {},
   "cell_type": "markdown",
   "metadata": {
    "pycharm": {
     "name": "#%% md\n"
    }
   },
   "source": [
    "***\n",
    "## NumPy arrays\n",
    "\n",
    "NumPy is a library that allows us to efficiently store and access\n",
    "(mainly) numerical data and apply numerical operations\n",
    "similar to those available in Matlab.\n",
    "\n",
    "-   NumPy is not part of the core Python project.\n",
    "-   Python itself has an array type, but there is really no\n",
    "    reason to use it. Use NumPy!\n",
    "-   NumPy types and functions are not built-in, we must\n",
    "    first import them to make them visible.\n",
    "    We do this using the `import` statement.\n",
    "\n",
    "The convention is to make NumPy functionality available\n",
    "using the `np` namespace:"
   ]
  },
  {
   "cell_type": "code",
   "execution_count": 33,
   "metadata": {
    "pycharm": {
     "name": "#%%\n"
    }
   },
   "outputs": [],
   "source": [
    "import numpy as np"
   ]
  },
  {
   "attachments": {},
   "cell_type": "markdown",
   "metadata": {
    "pycharm": {
     "name": "#%% md\n"
    }
   },
   "source": [
    "### Creating arrays\n",
    "NumPy offers a multitude of functions to create arrays."
   ]
  },
  {
   "cell_type": "code",
   "execution_count": 34,
   "metadata": {
    "pycharm": {
     "name": "#%%\n"
    }
   },
   "outputs": [
    {
     "data": {
      "text/plain": [
       "array([0., 0., 0., 0., 0., 0., 0., 0., 0., 0.])"
      ]
     },
     "execution_count": 34,
     "metadata": {},
     "output_type": "execute_result"
    }
   ],
   "source": [
    "# Create a 1-dimensional array with 10 elements, initialise values to 0.\n",
    "# We need to prefix the NumPy function zeros() with 'np'\n",
    "arr = np.zeros(10)\n",
    "arr"
   ]
  },
  {
   "cell_type": "code",
   "execution_count": 35,
   "metadata": {
    "pycharm": {
     "name": "#%%\n"
    }
   },
   "outputs": [
    {
     "data": {
      "text/plain": [
       "array([1., 1., 1., 1., 1.])"
      ]
     },
     "execution_count": 35,
     "metadata": {},
     "output_type": "execute_result"
    }
   ],
   "source": [
    "arr1 = np.ones(5)       # vector of five ones\n",
    "arr1"
   ]
  },
  {
   "attachments": {},
   "cell_type": "markdown",
   "metadata": {
    "pycharm": {
     "name": "#%% md\n"
    }
   },
   "source": [
    "We can also create sequences of integers using the `np.arange()` function:"
   ]
  },
  {
   "cell_type": "code",
   "execution_count": 36,
   "metadata": {
    "pycharm": {
     "name": "#%%\n"
    }
   },
   "outputs": [
    {
     "data": {
      "text/plain": [
       "array([0, 1, 2, 3, 4])"
      ]
     },
     "execution_count": 36,
     "metadata": {},
     "output_type": "execute_result"
    }
   ],
   "source": [
    "arr2 = np.arange(5)     # vector [0,1,2,3,4]\n",
    "arr2"
   ]
  },
  {
   "attachments": {},
   "cell_type": "markdown",
   "metadata": {
    "pycharm": {
     "name": "#%% md\n"
    }
   },
   "source": [
    "`np.arange()` accepts initial values and increments as optional arguments.\n",
    "The end value is *not* included."
   ]
  },
  {
   "cell_type": "code",
   "execution_count": 37,
   "metadata": {
    "pycharm": {
     "name": "#%%\n"
    }
   },
   "outputs": [
    {
     "data": {
      "text/plain": [
       "array([2, 4, 6, 8])"
      ]
     },
     "execution_count": 37,
     "metadata": {},
     "output_type": "execute_result"
    }
   ],
   "source": [
    "start = 2\n",
    "end = 10\n",
    "step = 2\n",
    "arr3 = np.arange(start, end, step)\n",
    "arr3"
   ]
  },
  {
   "attachments": {},
   "cell_type": "markdown",
   "metadata": {
    "pycharm": {
     "name": "#%% md\n"
    }
   },
   "source": [
    "As in Matlab, there is a `np.linspace()` function that\n",
    "creates a vector of uniformly-spaced real values."
   ]
  },
  {
   "cell_type": "code",
   "execution_count": 38,
   "metadata": {
    "pycharm": {
     "name": "#%%\n"
    }
   },
   "outputs": [
    {
     "data": {
      "text/plain": [
       "array([0. , 0.1, 0.2, 0.3, 0.4, 0.5, 0.6, 0.7, 0.8, 0.9, 1. ])"
      ]
     },
     "execution_count": 38,
     "metadata": {},
     "output_type": "execute_result"
    }
   ],
   "source": [
    "# Create 11 elements, equally spaced on the interval [0.0, 1.0]\n",
    "arr5 = np.linspace(0.0, 1.0, 11)\n",
    "arr5"
   ]
  },
  {
   "attachments": {},
   "cell_type": "markdown",
   "metadata": {
    "pycharm": {
     "name": "#%% md\n"
    }
   },
   "source": [
    "We create arrays of higher dimension by specifying\n",
    "the desired shape. Shapes are specified as `tuple` arguments;\n",
    "for example, the shape of an $m\\times n$ matrix is `(m,n)`."
   ]
  },
  {
   "cell_type": "code",
   "execution_count": 39,
   "metadata": {
    "pycharm": {
     "name": "#%%\n"
    }
   },
   "outputs": [
    {
     "data": {
      "text/plain": [
       "array([[1., 1.],\n",
       "       [1., 1.]])"
      ]
     },
     "execution_count": 39,
     "metadata": {},
     "output_type": "execute_result"
    }
   ],
   "source": [
    "mat = np.ones((2,2))    # Create 2x2 matrix of ones\n",
    "mat"
   ]
  },
  {
   "attachments": {},
   "cell_type": "markdown",
   "metadata": {
    "pycharm": {
     "name": "#%% md\n"
    }
   },
   "source": [
    "**Creating arrays from other Python objects**\n",
    "\n",
    "Arrays can be created from other objects such as lists\n",
    "and tuples by calling `np.array()`"
   ]
  },
  {
   "cell_type": "code",
   "execution_count": 40,
   "metadata": {
    "pycharm": {
     "name": "#%%\n"
    }
   },
   "outputs": [
    {
     "data": {
      "text/plain": [
       "array([1, 2, 3])"
      ]
     },
     "execution_count": 40,
     "metadata": {},
     "output_type": "execute_result"
    }
   ],
   "source": [
    "# Create array from list [1,2,3]\n",
    "arr = np.array([1, 2, 3])\n",
    "arr"
   ]
  },
  {
   "cell_type": "code",
   "execution_count": 41,
   "metadata": {
    "pycharm": {
     "name": "#%%\n"
    }
   },
   "outputs": [
    {
     "data": {
      "text/plain": [
       "array([1., 2., 3.])"
      ]
     },
     "execution_count": 41,
     "metadata": {},
     "output_type": "execute_result"
    }
   ],
   "source": [
    "# Create array from tuple\n",
    "arr = np.array((1.0, 2.0, 3.0))\n",
    "arr"
   ]
  },
  {
   "cell_type": "code",
   "execution_count": 42,
   "metadata": {
    "pycharm": {
     "name": "#%%\n"
    }
   },
   "outputs": [
    {
     "data": {
      "text/plain": [
       "array([[1, 2, 3],\n",
       "       [4, 5, 6]])"
      ]
     },
     "execution_count": 42,
     "metadata": {},
     "output_type": "execute_result"
    }
   ],
   "source": [
    "# Create two-dimensional array from nested list\n",
    "arr = np.array([[1, 2, 3], [4, 5, 6]])\n",
    "arr"
   ]
  },
  {
   "attachments": {},
   "cell_type": "markdown",
   "metadata": {
    "pycharm": {
     "name": "#%% md\n"
    }
   },
   "source": [
    "### Reshaping arrays\n",
    "The `reshape()` method of an array object can be used\n",
    "to reshape it to some other (conformable) shape."
   ]
  },
  {
   "cell_type": "code",
   "execution_count": 43,
   "metadata": {
    "pycharm": {
     "name": "#%%\n"
    }
   },
   "outputs": [
    {
     "data": {
      "text/plain": [
       "array([[0, 1],\n",
       "       [2, 3]])"
      ]
     },
     "execution_count": 43,
     "metadata": {},
     "output_type": "execute_result"
    }
   ],
   "source": [
    "# Create vector of 4 elements and reshape it to a 2x2 matrix\n",
    "mat = np.arange(4).reshape((2,2))\n",
    "mat"
   ]
  },
  {
   "cell_type": "code",
   "execution_count": 44,
   "metadata": {
    "pycharm": {
     "name": "#%%\n"
    }
   },
   "outputs": [
    {
     "data": {
      "text/plain": [
       "array([0, 1, 2, 3])"
      ]
     },
     "execution_count": 44,
     "metadata": {},
     "output_type": "execute_result"
    }
   ],
   "source": [
    "# reshape back to vector of 4 elements\n",
    "vec = mat.reshape(4)\n",
    "vec"
   ]
  },
  {
   "attachments": {},
   "cell_type": "markdown",
   "metadata": {
    "pycharm": {
     "name": "#%% md\n"
    }
   },
   "source": [
    "We use `-1` to let NumPy automatically compute\n",
    "the size of *one* remaining dimension."
   ]
  },
  {
   "cell_type": "code",
   "execution_count": 45,
   "metadata": {
    "pycharm": {
     "name": "#%%\n"
    }
   },
   "outputs": [
    {
     "data": {
      "text/plain": [
       "array([[0, 1],\n",
       "       [2, 3]])"
      ]
     },
     "execution_count": 45,
     "metadata": {},
     "output_type": "execute_result"
    }
   ],
   "source": [
    "# with 2 dimensions, second dimension must have size 2\n",
    "mat = np.arange(4).reshape((2, -1))\n",
    "mat"
   ]
  },
  {
   "attachments": {},
   "cell_type": "markdown",
   "metadata": {
    "pycharm": {
     "name": "#%% md\n"
    }
   },
   "source": [
    "If we want to convert an arbitrary array to a vector,\n",
    "we can alternatively use the `flatten()` method."
   ]
  },
  {
   "cell_type": "code",
   "execution_count": 46,
   "metadata": {
    "pycharm": {
     "name": "#%%\n"
    }
   },
   "outputs": [
    {
     "data": {
      "text/plain": [
       "array([0, 1, 2, 3])"
      ]
     },
     "execution_count": 46,
     "metadata": {},
     "output_type": "execute_result"
    }
   ],
   "source": [
    "mat.flatten()"
   ]
  },
  {
   "attachments": {},
   "cell_type": "markdown",
   "metadata": {
    "pycharm": {
     "name": "#%% md\n"
    }
   },
   "source": [
    "*Important:* the reshaped array must have the same\n",
    "number of elements!"
   ]
  },
  {
   "cell_type": "code",
   "execution_count": 47,
   "metadata": {
    "pycharm": {
     "name": "#%%\n"
    }
   },
   "outputs": [
    {
     "ename": "ValueError",
     "evalue": "cannot reshape array of size 6 into shape (2,2)",
     "output_type": "error",
     "traceback": [
      "\u001b[0;31mValueError\u001b[0m\u001b[0;31m:\u001b[0m cannot reshape array of size 6 into shape (2,2)\n"
     ]
    }
   ],
   "source": [
    "import numpy as np\n",
    "mat = np.arange(6).reshape((2,-1))\n",
    "mat.reshape((2,2))      # Cannot reshape 6 into 4 elements!\n"
   ]
  },
  {
   "attachments": {},
   "cell_type": "markdown",
   "metadata": {
    "pycharm": {
     "name": "#%% md\n"
    }
   },
   "source": [
    "### Indexing\n",
    "\n",
    "**Single element indexing**\n",
    "\n",
    "To retrieve a single element,\n",
    "we specify the element's index on each axis\n",
    "(axis is the NumPy terminology for an array dimension).\n",
    "\n",
    "-   Remember that just like Python in general, NumPy arrays use\n",
    "    0-based indices.\n",
    "-   Unlike lists or tuples, NumPy arrays support multi-dimensional\n",
    "    indexing."
   ]
  },
  {
   "cell_type": "code",
   "execution_count": 48,
   "metadata": {
    "pycharm": {
     "name": "#%%\n"
    }
   },
   "outputs": [
    {
     "data": {
      "text/plain": [
       "array([[0, 1],\n",
       "       [2, 3],\n",
       "       [4, 5]])"
      ]
     },
     "execution_count": 48,
     "metadata": {},
     "output_type": "execute_result"
    }
   ],
   "source": [
    "import numpy as np\n",
    "\n",
    "mat = np.arange(6).reshape((3,2))\n",
    "mat"
   ]
  },
  {
   "cell_type": "code",
   "execution_count": 49,
   "metadata": {
    "pycharm": {
     "name": "#%%\n"
    }
   },
   "outputs": [
    {
     "data": {
      "text/plain": [
       "1"
      ]
     },
     "execution_count": 49,
     "metadata": {},
     "output_type": "execute_result"
    }
   ],
   "source": [
    "mat[0,1]    # returns element in row 1, column 2"
   ]
  },
  {
   "attachments": {},
   "cell_type": "markdown",
   "metadata": {
    "pycharm": {
     "name": "#%% md\n"
    }
   },
   "source": [
    "It is important to pass multi-dimensional indices as a\n",
    "tuple within brackets, i.e. `[0,1]` in the above example.\n",
    "We could alternatively write `mat[0][1]`, which would give\n",
    "the same result:"
   ]
  },
  {
   "cell_type": "code",
   "execution_count": 50,
   "metadata": {
    "pycharm": {
     "name": "#%%\n"
    }
   },
   "outputs": [
    {
     "data": {
      "text/plain": [
       "True"
      ]
     },
     "execution_count": 50,
     "metadata": {},
     "output_type": "execute_result"
    }
   ],
   "source": [
    "mat[0][1] == mat[0,1]       # don't do this!"
   ]
  },
  {
   "attachments": {},
   "cell_type": "markdown",
   "metadata": {
    "pycharm": {
     "name": "#%% md\n"
    }
   },
   "source": [
    "This is substantially less efficient, though, as it first creates a\n",
    "sub-dimensional array `mat[0]`, and then applies the second index\n",
    "to this array."
   ]
  },
  {
   "attachments": {},
   "cell_type": "markdown",
   "metadata": {
    "pycharm": {
     "name": "#%% md\n"
    }
   },
   "source": [
    "**Index slices**\n",
    "\n",
    "There are numerous ways to retrieve a subset of\n",
    "elements from an array. The most common way is to\n",
    "specify a triplet of values\n",
    "`start:stop:step` called `slice` for some axis:"
   ]
  },
  {
   "cell_type": "code",
   "execution_count": 51,
   "metadata": {
    "pycharm": {
     "name": "#%%\n"
    }
   },
   "outputs": [
    {
     "data": {
      "text/plain": [
       "array([[0, 1, 2],\n",
       "       [3, 4, 5]])"
      ]
     },
     "execution_count": 51,
     "metadata": {},
     "output_type": "execute_result"
    }
   ],
   "source": [
    "# Create a 3x2 matrix\n",
    "mat = np.arange(6).reshape((2,3))\n",
    "mat"
   ]
  },
  {
   "cell_type": "code",
   "execution_count": 52,
   "metadata": {
    "pycharm": {
     "name": "#%%\n"
    }
   },
   "outputs": [
    {
     "data": {
      "text/plain": [
       "array([[0, 2],\n",
       "       [3, 5]])"
      ]
     },
     "execution_count": 52,
     "metadata": {},
     "output_type": "execute_result"
    }
   ],
   "source": [
    "# Retrieve only the first and third columns:\n",
    "mat[0:2,0:3:2]"
   ]
  },
  {
   "attachments": {},
   "cell_type": "markdown",
   "metadata": {
    "pycharm": {
     "name": "#%% md\n"
    }
   },
   "source": [
    "Indexing with slices can get quite intricate.\n",
    "Some basic rules:\n",
    "\n",
    "-   all tokens in `start:stop:step` are optional, with\n",
    "    the obvious default values.\n",
    "    We could therefore write `::` to include all indices,\n",
    "    which is the same as `:`\n",
    "- The end value is *not* included. Writing\n",
    "  `vec[0:n]` does not include element with index $n$!\n",
    "- Any of the elements of `start:stop:step` can be negative.\n",
    "    - If `start` or `stop` are negative, elements are counted\n",
    "        from the end of the array:\n",
    "        `vec[:-1]` retrieves the whole vector except for the last element.\n",
    "    - If `step` is negative, the order of elements is reversed."
   ]
  },
  {
   "cell_type": "code",
   "execution_count": 53,
   "metadata": {
    "pycharm": {
     "name": "#%%\n"
    }
   },
   "outputs": [
    {
     "data": {
      "text/plain": [
       "array([0, 1, 2, 3, 4])"
      ]
     },
     "execution_count": 53,
     "metadata": {},
     "output_type": "execute_result"
    }
   ],
   "source": [
    "vec = np.arange(5)\n",
    "# These are equivalent ways to return the WHOLE vector\n",
    "vec[0:5:1]      # all three tokens present\n",
    "vec[::]         # omit all tokens\n",
    "vec[:]          # omit all tokens\n",
    "vec[:5]         # end value only\n",
    "vec[-5:]        # start value only, using negative index"
   ]
  },
  {
   "attachments": {},
   "cell_type": "markdown",
   "metadata": {
    "pycharm": {
     "name": "#%% md\n"
    }
   },
   "source": [
    "You can reverse the order like this:"
   ]
  },
  {
   "cell_type": "code",
   "execution_count": 54,
   "metadata": {
    "pycharm": {
     "name": "#%%\n"
    }
   },
   "outputs": [
    {
     "data": {
      "text/plain": [
       "array([4, 3, 2, 1, 0])"
      ]
     },
     "execution_count": 54,
     "metadata": {},
     "output_type": "execute_result"
    }
   ],
   "source": [
    "vec[::-1]"
   ]
  },
  {
   "attachments": {},
   "cell_type": "markdown",
   "metadata": {
    "pycharm": {
     "name": "#%% md\n"
    }
   },
   "source": [
    "With multi-dimensional arrays, the above rules apply for each\n",
    "dimension.\n",
    "\n",
    "-   We can, however, omit explicit indices\n",
    "    for higher-order dimensions if all elements should\n",
    "    be included."
   ]
  },
  {
   "cell_type": "code",
   "execution_count": 55,
   "metadata": {
    "pycharm": {
     "name": "#%%\n"
    }
   },
   "outputs": [
    {
     "data": {
      "text/plain": [
       "array([3, 4, 5])"
      ]
     },
     "execution_count": 55,
     "metadata": {},
     "output_type": "execute_result"
    }
   ],
   "source": [
    "mat[1]      # includes all columns of row 2; same as mat[1,:]"
   ]
  },
  {
   "attachments": {},
   "cell_type": "markdown",
   "metadata": {
    "pycharm": {
     "name": "#%% md\n"
    }
   },
   "source": [
    "We cannot omit the indices for leading axes, though! If an entire\n",
    "leading axis is to be included, we specify this using `:`"
   ]
  },
  {
   "cell_type": "code",
   "execution_count": 56,
   "metadata": {
    "pycharm": {
     "name": "#%%\n"
    }
   },
   "outputs": [
    {
     "data": {
      "text/plain": [
       "array([1, 4])"
      ]
     },
     "execution_count": 56,
     "metadata": {},
     "output_type": "execute_result"
    }
   ],
   "source": [
    "mat[:, 1]   # includes all rows of column 2"
   ]
  },
  {
   "attachments": {},
   "cell_type": "markdown",
   "metadata": {
    "pycharm": {
     "name": "#%% md\n"
    }
   },
   "source": [
    "**Indexing lists and tuples**\n",
    "\n",
    "The basic indexing rules we have covered so far also apply to the\n",
    "built-in `tuple` and `list` types. However, `list` and `tuple`\n",
    "do not support advanced indexing available for NumPy arrays\n",
    "which we study in later units."
   ]
  },
  {
   "cell_type": "code",
   "execution_count": 57,
   "metadata": {
    "pycharm": {
     "name": "#%%\n"
    }
   },
   "outputs": [
    {
     "data": {
      "text/plain": [
       "(1, 3)"
      ]
     },
     "execution_count": 57,
     "metadata": {},
     "output_type": "execute_result"
    }
   ],
   "source": [
    "# Apply start:stop:step indexing to tuple\n",
    "tpl = (1,2,3)\n",
    "tpl[:3:2]"
   ]
  },
  {
   "attachments": {},
   "cell_type": "markdown",
   "metadata": {
    "pycharm": {
     "name": "#%% md\n"
    }
   },
   "source": [
    "### Numerical data types (advanced)\n",
    "\n",
    "We can explicitly specify the numerical data type when\n",
    "creating NumPy arrays.\n",
    "\n",
    "So far we haven't done so, and then NumPy does the following:\n",
    "\n",
    "-   Functions such as `zeros()` and `ones()`\n",
    "    default to using `np.float64`, a 64-bit floating-point\n",
    "    data type (this is also called *double precision*)\n",
    "-   Other functions such as `arange()` and `array()`\n",
    "    inspect the input data and return a corresponding array.\n",
    "-   Most array creation routines accept a `dtype` argument\n",
    "    which allows you to explicitly set the data type.\n",
    "\n",
    "*Examples:*"
   ]
  },
  {
   "cell_type": "code",
   "execution_count": 58,
   "metadata": {
    "pycharm": {
     "name": "#%%\n"
    }
   },
   "outputs": [
    {
     "data": {
      "text/plain": [
       "dtype('float64')"
      ]
     },
     "execution_count": 58,
     "metadata": {},
     "output_type": "execute_result"
    }
   ],
   "source": [
    "import numpy as np\n",
    "\n",
    "# Floating-point arguments return array of type np.float64\n",
    "arr = np.arange(1.0, 5.0, 1.0)\n",
    "arr.dtype"
   ]
  },
  {
   "cell_type": "code",
   "execution_count": 59,
   "metadata": {
    "pycharm": {
     "name": "#%%\n"
    }
   },
   "outputs": [
    {
     "data": {
      "text/plain": [
       "dtype('int64')"
      ]
     },
     "execution_count": 59,
     "metadata": {},
     "output_type": "execute_result"
    }
   ],
   "source": [
    "# Integer arguments return array of type np.int64\n",
    "arr = np.arange(1,5,1)\n",
    "arr.dtype"
   ]
  },
  {
   "attachments": {},
   "cell_type": "markdown",
   "metadata": {
    "pycharm": {
     "name": "#%% md\n"
    }
   },
   "source": [
    "Often we don't care about the data type too much, but keep in\n",
    "mind that\n",
    "\n",
    "-   Floating-point has limited precision, even for integers\n",
    "    if these are larger than (approximately) $10^{16}$\n",
    "-   Integer values cannot represent fractional numbers and\n",
    "    (often) have a more limited range.\n",
    "\n",
    "This might lead to surprising consequences:"
   ]
  },
  {
   "cell_type": "code",
   "execution_count": 60,
   "metadata": {
    "pycharm": {
     "name": "#%%\n"
    }
   },
   "outputs": [
    {
     "data": {
      "text/plain": [
       "array([1, 1, 1, 1, 1])"
      ]
     },
     "execution_count": 60,
     "metadata": {},
     "output_type": "execute_result"
    }
   ],
   "source": [
    "# Create integer array\n",
    "arr = np.ones(5, dtype=np.int64)\n",
    "# Store floating-point in second element\n",
    "arr[1] = 1.234\n",
    "arr"
   ]
  },
  {
   "attachments": {},
   "cell_type": "markdown",
   "metadata": {
    "pycharm": {
     "name": "#%% md\n"
    }
   },
   "source": [
    "The array is unchanged because it's impossible to represent\n",
    "1.234 as an integer value!\n",
    "\n",
    "The take-away is to explicitly write floating-point\n",
    "literal values and specify a floating-point `dtype` argument\n",
    "when we want data to be interpreted as\n",
    "floating-point values. For example, always write 1.0 instead of 1,\n",
    "unless you *really* want an integer!"
   ]
  },
  {
   "attachments": {},
   "cell_type": "markdown",
   "metadata": {},
   "source": [
    "***\n",
    "## Optional exercises"
   ]
  },
  {
   "attachments": {},
   "cell_type": "markdown",
   "metadata": {},
   "source": [
    "### Exercise 1: string operations\n",
    "\n",
    "Experiment with operators applied to strings\n",
    "and integers.\n",
    "\n",
    "1.  Define two string variables and concatenate them using `+`\n",
    "2.  Define a string variable and multiply it by 2 using `*`. What happens?\n",
    "3.  Define two strings and compare whether they are equal using\n",
    "    the `==` and `!=` relational operators.\n",
    "4.  Define a string. Use the operators `in` and `not in` to\n",
    "    test whether a character is contained in the string.\n",
    "5.  Define two string variables and assign them the same value.\n",
    "    Use the `is` operator to test whether these are identical\n",
    "    objects.\n",
    "6.  Define a string variable and use the `+=` assignment operator\n",
    "    to append another string.\n",
    "\n",
    "    The `+=` operator is one of several operators in Python that\n",
    "    combine assignment with another operation, such as addition.\n",
    "    In this particular case, these statements are equivalent:\n",
    "    ```\n",
    "    a += b\n",
    "    a = a + b\n",
    "    ```"
   ]
  },
  {
   "attachments": {},
   "cell_type": "markdown",
   "metadata": {},
   "source": [
    "### Exercise 2: string formatting\n",
    "\n",
    "We frequently want to create strings that incorporate\n",
    "integer and floating-point data, possibly formatted in a\n",
    "particular way.\n",
    "\n",
    "Python offers quite powerful formatting capabilities which can\n",
    "become so complex that they are called the\n",
    "*Format Specification Mini-Language* (see the [docs](https://docs.python.org/3/library/string.html#format-specification-mini-language)).\n",
    "In this exercise, we explore a small but useful subset of formatting\n",
    "instructions.\n",
    "\n",
    "A format specification is a string that contains one or several\n",
    "`{}`, for example:\n",
    "```\n",
    "s = 'The current version of Python is {}'\n",
    "```\n",
    "The token `{}` will be replaced with data converted to a string\n",
    "when we apply the `format()` method:\n",
    "```\n",
    "s = 'The current version of Python is {}'.format(3.10)\n",
    "```\n",
    "The string `s` now contains the value\n",
    "```\n",
    "'The current version of Python is 3.10'\n",
    "```\n",
    "What if we want to format the float `3.10` in a particular way?\n",
    "We can augment the `{}` to achieve that goal. For example,\n",
    "if the data to be formatted is of type integer, we can specify\n",
    "\n",
    "-   `{:wd}` where `w` denotes the total field width and `d`\n",
    "    indicates that the data type is an integer.\n",
    "\n",
    "    To print an integer into a field that is 3 characters\n",
    "    wide, we would thus write `{:3d}`.\n",
    "\n",
    "For floats we have additional options:\n",
    "\n",
    "-   `{:w.df}` specifies that a float should be formatted using\n",
    "    a field width `w` and `d` decimal digits.\n",
    "\n",
    "    To print a float into a field of 10 characters using 5 decimal\n",
    "    digits, we would thus specify `{:10.5f}`\n",
    "-   `{:w.de}` is similar, but instead uses scientific\n",
    "    notation with exponents.\n",
    "\n",
    "    This is particularly useful for very large or very small numbers.\n",
    "\n",
    "-   `{:w.dg}`, where `g` stands for *general* format, is a superset of `f` and `e`\n",
    "    formatting. Either fixed or exponential notation is used\n",
    "    depending on a number's magnitude.\n",
    "\n",
    "In all these cases the field width `w` is optional\n",
    "and can be omitted. Python then uses however many characters are\n",
    "required.\n",
    "\n",
    "Now what we have introduced the formatting language, you\n",
    "are asked to perform the following exercises:\n",
    "\n",
    "1.  Define two strings and concatenate them using the `format()` function.\n",
    "    Add a space between them.\n",
    "2.  Use the above example format string, but truncate the\n",
    "    Python version to its major version number. Do you get the expected result?\n",
    "\n",
    "3.  Print $\\pi$ using a precision of 10 decimal digits.\n",
    "    *Hint:* the value of $\\pi$ is available as\n",
    "    \n",
    "    ```python\n",
    "    from math import pi\n",
    "    ```\n",
    "4.  Print `exp(10.0)` using exponential notation and three\n",
    "    decimal digits.\n",
    "    *Hint:* To use the exponential function, you need to import it using\n",
    "\n",
    "    ```python\n",
    "    from math import exp\n",
    "    ```"
   ]
  },
  {
   "attachments": {},
   "cell_type": "markdown",
   "metadata": {
    "pycharm": {
     "name": "#%% md\n"
    }
   },
   "source": [
    "### Exercise 3: string formatting with f-strings\n",
    "\n",
    "Since Python 3.6 there is an additional, more convenient way to\n",
    "format strings, the so-called\n",
    "*formatted string literals* or *f-strings* ([official documentation](https://www.python.org/dev/peps/pep-0498/)).\n",
    "Instead of calling the `format()` method as in the previous\n",
    "example, one can instead define a string which contain expressions\n",
    "that will be evaluated at runtime.\n",
    "\n",
    "The simplest example is to print the value of a variable using default\n",
    "formatting:"
   ]
  },
  {
   "cell_type": "code",
   "execution_count": 61,
   "metadata": {
    "pycharm": {
     "name": "#%%\n"
    }
   },
   "outputs": [
    {
     "name": "stdout",
     "output_type": "stream",
     "text": [
      "Python programming is fun!\n"
     ]
    }
   ],
   "source": [
    "name = 'Python'\n",
    "s = f'{name} programming is fun!'\n",
    "print(s)"
   ]
  },
  {
   "attachments": {},
   "cell_type": "markdown",
   "metadata": {
    "pycharm": {
     "name": "#%% md\n"
    }
   },
   "source": [
    "Note that the string needs to be prefixed by an `f` to indicate\n",
    "that it contains expressions which need to be evaluated.\n",
    "These expressions are again wrapped in braces.\n",
    "Within braces, a syntax similar to the one shown in the previous\n",
    "exercise can be used to specify detailed\n",
    "formatting instructions. For example, you can specify the number\n",
    "of decimal digits as follows:"
   ]
  },
  {
   "cell_type": "code",
   "execution_count": 62,
   "metadata": {
    "pycharm": {
     "name": "#%%\n"
    }
   },
   "outputs": [
    {
     "name": "stdout",
     "output_type": "stream",
     "text": [
      "Value with 2 significant digits: 1.23\n"
     ]
    }
   ],
   "source": [
    "value = 1.2345\n",
    "s = f'Value with 2 significant digits: {value:.2f}'\n",
    "print(s)"
   ]
  },
  {
   "attachments": {},
   "cell_type": "markdown",
   "metadata": {
    "pycharm": {
     "name": "#%% md\n"
    }
   },
   "source": [
    "Note that in the above examples, the variables `name` and `value`\n",
    "need to be known when the f-string is being defined.\n",
    "Otherwise, you'll get the following error:"
   ]
  },
  {
   "cell_type": "code",
   "execution_count": 63,
   "metadata": {
    "pycharm": {
     "name": "#%%\n"
    }
   },
   "outputs": [
    {
     "ename": "NameError",
     "evalue": "name 'unknown' is not defined",
     "output_type": "error",
     "traceback": [
      "\u001b[0;31mNameError\u001b[0m\u001b[0;31m:\u001b[0m name 'unknown' is not defined\n"
     ]
    }
   ],
   "source": [
    "# cannot create f-string using unknown names\n",
    "s = f'{unknown} is not defined'"
   ]
  },
  {
   "attachments": {},
   "cell_type": "markdown",
   "metadata": {
    "pycharm": {
     "name": "#%% md\n"
    }
   },
   "source": [
    "Now that you have seen the basic usage, repeat Exercise 2 using\n",
    "f-strings instead of the `format()` method!"
   ]
  },
  {
   "attachments": {},
   "cell_type": "markdown",
   "metadata": {
    "pycharm": {
     "name": "#%% md\n"
    }
   },
   "source": [
    "### Exercise 4: operations on tuples and lists\n",
    "\n",
    "Perform the following tasks and examine their results:\n",
    "\n",
    "1.  Create two lists and add them using `+`.\n",
    "2.  Multiply a list by the integer 2.\n",
    "3.  Create a list `list1` and inspect the result of\n",
    "\n",
    "    ```python\n",
    "    list1 += ['x', 'y', 'z']\n",
    "    ```\n",
    "4.  Create a list `list1` and inspect the result of\n",
    "\n",
    "    ```python\n",
    "    list1 *= 2\n",
    "    ```\n",
    "\n",
    "Repeat steps 1-4 using tuples instead of lists.\n",
    "\n",
    "Finally, create a list and a tuple and try to add them using `+`.\n",
    "Does this work?"
   ]
  },
  {
   "attachments": {},
   "cell_type": "markdown",
   "metadata": {
    "pycharm": {
     "name": "#%% md\n"
    }
   },
   "source": [
    "***\n",
    "## Solutions\n",
    "\n",
    "### Solution for exercise 1"
   ]
  },
  {
   "cell_type": "code",
   "execution_count": 64,
   "metadata": {
    "pycharm": {
     "name": "#%%\n"
    }
   },
   "outputs": [
    {
     "data": {
      "text/plain": [
       "'abcxyz'"
      ]
     },
     "execution_count": 64,
     "metadata": {},
     "output_type": "execute_result"
    }
   ],
   "source": [
    "# 1. string concatenation using addition\n",
    "str1 = 'abc'\n",
    "str2 = 'xyz'\n",
    "\n",
    "# Concatenate two strings using +\n",
    "str1 + str2"
   ]
  },
  {
   "cell_type": "code",
   "execution_count": 65,
   "metadata": {
    "pycharm": {
     "name": "#%%\n"
    }
   },
   "outputs": [
    {
     "data": {
      "text/plain": [
       "'abcabc'"
      ]
     },
     "execution_count": 65,
     "metadata": {},
     "output_type": "execute_result"
    }
   ],
   "source": [
    "# 2. string multiplication by integers\n",
    "str1 = 'abc'\n",
    "# Repeat string using multiplication!\n",
    "str1 * 2"
   ]
  },
  {
   "cell_type": "code",
   "execution_count": 66,
   "metadata": {
    "pycharm": {
     "name": "#%%\n"
    }
   },
   "outputs": [
    {
     "data": {
      "text/plain": [
       "False"
      ]
     },
     "execution_count": 66,
     "metadata": {},
     "output_type": "execute_result"
    }
   ],
   "source": [
    "# 3. Test for string equality\n",
    "str1 = 'abc'\n",
    "str2 = 'xyz'\n",
    "str1 == str2"
   ]
  },
  {
   "cell_type": "code",
   "execution_count": 67,
   "metadata": {
    "pycharm": {
     "name": "#%%\n"
    }
   },
   "outputs": [
    {
     "data": {
      "text/plain": [
       "True"
      ]
     },
     "execution_count": 67,
     "metadata": {},
     "output_type": "execute_result"
    }
   ],
   "source": [
    "# 3. Test for string inequality\n",
    "str1 = 'abc'\n",
    "str2 = 'xyz'\n",
    "str1 != str2"
   ]
  },
  {
   "cell_type": "code",
   "execution_count": 68,
   "metadata": {
    "pycharm": {
     "name": "#%%\n"
    }
   },
   "outputs": [
    {
     "data": {
      "text/plain": [
       "True"
      ]
     },
     "execution_count": 68,
     "metadata": {},
     "output_type": "execute_result"
    }
   ],
   "source": [
    "# 4. Test whether individual character is included in string\n",
    "str1 = 'abc'\n",
    "'b' in str1"
   ]
  },
  {
   "cell_type": "code",
   "execution_count": 69,
   "metadata": {
    "pycharm": {
     "name": "#%%\n"
    }
   },
   "outputs": [
    {
     "data": {
      "text/plain": [
       "True"
      ]
     },
     "execution_count": 69,
     "metadata": {},
     "output_type": "execute_result"
    }
   ],
   "source": [
    "# 4. Test whether individual character is NOT included in string\n",
    "str1 = 'abc'\n",
    "'x' not in str1"
   ]
  },
  {
   "attachments": {},
   "cell_type": "markdown",
   "metadata": {
    "pycharm": {
     "name": "#%% md\n"
    }
   },
   "source": [
    "The last two examples illustrate that in Python strings will\n",
    "be interpreted as collections (of characters), just like lists\n",
    "or tuples, if the context requires it. We can therefore apply\n",
    "the `in` operator to test for membership."
   ]
  },
  {
   "cell_type": "code",
   "execution_count": 70,
   "metadata": {
    "pycharm": {
     "name": "#%%\n"
    }
   },
   "outputs": [
    {
     "data": {
      "text/plain": [
       "True"
      ]
     },
     "execution_count": 70,
     "metadata": {},
     "output_type": "execute_result"
    }
   ],
   "source": [
    "# 5. Test for identity\n",
    "str1 = 'abc'\n",
    "str2 = 'abc'\n",
    "str1 is str2"
   ]
  },
  {
   "attachments": {},
   "cell_type": "markdown",
   "metadata": {
    "pycharm": {
     "name": "#%% md\n"
    }
   },
   "source": [
    "This result should be surprising and is somewhat specific to Python.\n",
    "We would not expect two objects that were created completely\n",
    "independently from each other to be *identical*, i.e. point to\n",
    "the same memory. Python, however, caches string literals\n",
    "for reasons of efficiency, so it actually does keep only *one*\n",
    "copy of `'abc'` around, irrespective of how many variables\n",
    "containing `abc` are created."
   ]
  },
  {
   "cell_type": "code",
   "execution_count": 71,
   "metadata": {
    "pycharm": {
     "name": "#%%\n"
    }
   },
   "outputs": [
    {
     "data": {
      "text/plain": [
       "'abcxyx'"
      ]
     },
     "execution_count": 71,
     "metadata": {},
     "output_type": "execute_result"
    }
   ],
   "source": [
    "# 6. Append using +=\n",
    "str1 = 'abc'\n",
    "str1 += 'xyx'       # Append 'xyz' to value in str1, assign result to str1\n",
    "str1"
   ]
  },
  {
   "attachments": {},
   "cell_type": "markdown",
   "metadata": {
    "pycharm": {
     "name": "#%% md\n"
    }
   },
   "source": [
    "### Solution for exercise 2"
   ]
  },
  {
   "cell_type": "code",
   "execution_count": 72,
   "metadata": {
    "pycharm": {
     "name": "#%%\n"
    }
   },
   "outputs": [
    {
     "data": {
      "text/plain": [
       "'abc xyz'"
      ]
     },
     "execution_count": 72,
     "metadata": {},
     "output_type": "execute_result"
    }
   ],
   "source": [
    "# 1. String concatenation\n",
    "str1 = 'abc'\n",
    "str2 = 'xyz'\n",
    "\n",
    "# format specification to concatenate two string with a space in between\n",
    "fmt = '{} {}'\n",
    "fmt.format(str1, str2)\n"
   ]
  },
  {
   "cell_type": "code",
   "execution_count": 73,
   "metadata": {
    "pycharm": {
     "name": "#%%\n"
    }
   },
   "outputs": [
    {
     "data": {
      "text/plain": [
       "'The current major version of Python is 3'"
      ]
     },
     "execution_count": 73,
     "metadata": {},
     "output_type": "execute_result"
    }
   ],
   "source": [
    "# 2. Truncate Python version to major version number\n",
    "# To do this, we specify 0 decimal digits!\n",
    "fmt = 'The current major version of Python is {:.0f}'\n",
    "fmt.format(3.10)     # Now this didn't work out as intended :)"
   ]
  },
  {
   "attachments": {},
   "cell_type": "markdown",
   "metadata": {
    "pycharm": {
     "name": "#%% md\n"
    }
   },
   "source": [
    "This does not work as intended because formatting with zero\n",
    "decimal digits rounds the\n",
    "floating-point number, instead of just truncating the decimal part.\n",
    "We could instead convert the `float` to `int` before applying\n",
    "formatting, since the function `int()` will truncate the\n",
    "fractional part:"
   ]
  },
  {
   "cell_type": "code",
   "execution_count": 74,
   "metadata": {
    "pycharm": {
     "name": "#%%\n"
    }
   },
   "outputs": [
    {
     "name": "stdout",
     "output_type": "stream",
     "text": [
      "The current major version of Python is 3\n"
     ]
    }
   ],
   "source": [
    "version = 3.10\n",
    "fmt = 'The current major version of Python is {:d}'\n",
    "print(fmt.format(int(version)))"
   ]
  },
  {
   "cell_type": "code",
   "execution_count": 75,
   "metadata": {
    "pycharm": {
     "name": "#%%\n"
    }
   },
   "outputs": [
    {
     "data": {
      "text/plain": [
       "'The first 10 digits of pi: 3.1415926536'"
      ]
     },
     "execution_count": 75,
     "metadata": {},
     "output_type": "execute_result"
    }
   ],
   "source": [
    "# 3. Print pi using 10 decimal digits\n",
    "from math import pi\n",
    "fmt = 'The first 10 digits of pi: {:.10f}'\n",
    "fmt.format(pi)"
   ]
  },
  {
   "cell_type": "code",
   "execution_count": 76,
   "metadata": {
    "pycharm": {
     "name": "#%%"
    }
   },
   "outputs": [
    {
     "data": {
      "text/plain": [
       "'exp(10.0) = 2.203e+04'"
      ]
     },
     "execution_count": 76,
     "metadata": {},
     "output_type": "execute_result"
    }
   ],
   "source": [
    "# 4. Print exp(10.0) using three decimal digits and exponential notation\n",
    "from math import exp\n",
    "fmt = 'exp(10.0) = {:.3e}'\n",
    "fmt.format(exp(10.0))\n"
   ]
  },
  {
   "attachments": {},
   "cell_type": "markdown",
   "metadata": {
    "pycharm": {
     "name": "#%% md\n"
    }
   },
   "source": [
    "### Solution for exercise 3\n",
    "\n",
    "We now repeat exercise 2 using f-strings instead of the `format()`\n",
    "method."
   ]
  },
  {
   "cell_type": "code",
   "execution_count": 77,
   "metadata": {
    "pycharm": {
     "name": "#%%\n"
    }
   },
   "outputs": [
    {
     "name": "stdout",
     "output_type": "stream",
     "text": [
      "abc abc\n"
     ]
    }
   ],
   "source": [
    "# 1. String concatenation\n",
    "str1 = 'abc'\n",
    "str2 = 'xyz'\n",
    "\n",
    "# format specification to concatenate two string with a space inbetween\n",
    "s = f'{str1} {str1}'\n",
    "print(s)\n"
   ]
  },
  {
   "cell_type": "code",
   "execution_count": 78,
   "metadata": {
    "pycharm": {
     "name": "#%%\n"
    }
   },
   "outputs": [
    {
     "name": "stdout",
     "output_type": "stream",
     "text": [
      "The current major version of Python is 3\n"
     ]
    }
   ],
   "source": [
    "# 2. Truncate Python version to major version number\n",
    "# To do this, we specify 0 decimal digits!\n",
    "version = 3.10\n",
    "s = f'The current major version of Python is {version:.0f}'\n",
    "print(s)        # does not work as intended!"
   ]
  },
  {
   "attachments": {},
   "cell_type": "markdown",
   "metadata": {},
   "source": [
    "This does not work as intended because formatting with zero\n",
    "decimal digits rounds the\n",
    "floating-point number, instead of just truncating the decimal part.\n",
    "See the previous exercise for one possible solution."
   ]
  },
  {
   "cell_type": "code",
   "execution_count": 79,
   "metadata": {
    "pycharm": {
     "name": "#%%\n"
    }
   },
   "outputs": [
    {
     "name": "stdout",
     "output_type": "stream",
     "text": [
      "The first 10 digits of pi: 3.1415926536\n"
     ]
    }
   ],
   "source": [
    "# 3. Print pi using 10 decimal digits\n",
    "from math import pi\n",
    "s = f'The first 10 digits of pi: {pi:.10f}'\n",
    "print(s)"
   ]
  },
  {
   "cell_type": "code",
   "execution_count": 80,
   "metadata": {
    "pycharm": {
     "name": "#%%\n"
    }
   },
   "outputs": [
    {
     "name": "stdout",
     "output_type": "stream",
     "text": [
      "exp(10.0) = 2.203e+04\n"
     ]
    }
   ],
   "source": [
    "# 4. Print exp(10.0) using three decimal digits and exponential notation\n",
    "from math import exp\n",
    "s = f'exp(10.0) = {exp(10.0):.3e}'\n",
    "print(s)"
   ]
  },
  {
   "attachments": {},
   "cell_type": "markdown",
   "metadata": {
    "pycharm": {
     "name": "#%% md\n"
    }
   },
   "source": [
    "The last example illustrates that f-string expressions can also\n",
    "be function calls, not just variable names!\n"
   ]
  },
  {
   "attachments": {},
   "cell_type": "markdown",
   "metadata": {
    "pycharm": {
     "name": "#%% md\n"
    }
   },
   "source": [
    "### Solution for exercise 4\n",
    "\n",
    "**List operators**"
   ]
  },
  {
   "cell_type": "code",
   "execution_count": 81,
   "metadata": {
    "pycharm": {
     "name": "#%%\n"
    }
   },
   "outputs": [
    {
     "data": {
      "text/plain": [
       "[1, 2, 3, 'a', 'b', 'c']"
      ]
     },
     "execution_count": 81,
     "metadata": {},
     "output_type": "execute_result"
    }
   ],
   "source": [
    "list1 = [1, 2, 3]\n",
    "list2 = ['a', 'b', 'c']\n",
    "\n",
    "# 1. Adding two lists concatenates the second list to the first\n",
    "# and returns a new list object\n",
    "list1 + list2"
   ]
  },
  {
   "cell_type": "code",
   "execution_count": 82,
   "metadata": {
    "pycharm": {
     "name": "#%%\n"
    }
   },
   "outputs": [
    {
     "data": {
      "text/plain": [
       "[1, 2, 3, 1, 2, 3]"
      ]
     },
     "execution_count": 82,
     "metadata": {},
     "output_type": "execute_result"
    }
   ],
   "source": [
    "# 2. multiplication of list and integer replicates the list!\n",
    "list1 * 2"
   ]
  },
  {
   "cell_type": "code",
   "execution_count": 83,
   "metadata": {
    "pycharm": {
     "name": "#%%\n"
    }
   },
   "outputs": [
    {
     "data": {
      "text/plain": [
       "[1, 2, 3, 'x', 'y', 'z']"
      ]
     },
     "execution_count": 83,
     "metadata": {},
     "output_type": "execute_result"
    }
   ],
   "source": [
    "# 3. Extending list in place using +=\n",
    "list1 += ['x', 'y', 'z']\n",
    "list1"
   ]
  },
  {
   "attachments": {},
   "cell_type": "markdown",
   "metadata": {
    "pycharm": {
     "name": "#%% md\n"
    }
   },
   "source": [
    "Note that we cannot append an element to the list that is not a list:"
   ]
  },
  {
   "cell_type": "code",
   "execution_count": 84,
   "metadata": {
    "pycharm": {
     "name": "#%%\n"
    }
   },
   "outputs": [
    {
     "ename": "TypeError",
     "evalue": "'int' object is not iterable",
     "output_type": "error",
     "traceback": [
      "\u001b[0;31mTypeError\u001b[0m\u001b[0;31m:\u001b[0m 'int' object is not iterable\n"
     ]
    }
   ],
   "source": [
    "list1 += 10"
   ]
  },
  {
   "attachments": {},
   "cell_type": "markdown",
   "metadata": {
    "pycharm": {
     "name": "#%% md\n"
    }
   },
   "source": [
    "Instead, we need to wrap a singular element to create a list like this:"
   ]
  },
  {
   "cell_type": "code",
   "execution_count": 85,
   "metadata": {
    "pycharm": {
     "name": "#%%\n"
    }
   },
   "outputs": [
    {
     "data": {
      "text/plain": [
       "[1, 2, 3, 'x', 'y', 'z', 10]"
      ]
     },
     "execution_count": 85,
     "metadata": {},
     "output_type": "execute_result"
    }
   ],
   "source": [
    "list1 += [10]\n",
    "list1"
   ]
  },
  {
   "cell_type": "code",
   "execution_count": 86,
   "metadata": {
    "pycharm": {
     "name": "#%%\n"
    }
   },
   "outputs": [
    {
     "data": {
      "text/plain": [
       "[1, 2, 3, 'x', 'y', 'z', 10, 1, 2, 3, 'x', 'y', 'z', 10]"
      ]
     },
     "execution_count": 86,
     "metadata": {},
     "output_type": "execute_result"
    }
   ],
   "source": [
    "# 4. Replicating list in place using *=\n",
    "list1 *= 2\n",
    "list1\n"
   ]
  },
  {
   "attachments": {},
   "cell_type": "markdown",
   "metadata": {
    "pycharm": {
     "name": "#%% md\n"
    }
   },
   "source": [
    "**Tuple operators**\n"
   ]
  },
  {
   "cell_type": "code",
   "execution_count": 87,
   "metadata": {
    "pycharm": {
     "name": "#%%\n"
    }
   },
   "outputs": [
    {
     "data": {
      "text/plain": [
       "(1, 2, 3, 'a', 'b', 'c')"
      ]
     },
     "execution_count": 87,
     "metadata": {},
     "output_type": "execute_result"
    }
   ],
   "source": [
    "tpl1 = 1, 2, 3\n",
    "tpl2 = 'a', 'b', 'c'\n",
    "\n",
    "# 1. Adding two tuples concatenates the second tuple to the first\n",
    "# and returns a new tuple object\n",
    "tpl1 + tpl2"
   ]
  },
  {
   "cell_type": "code",
   "execution_count": 88,
   "metadata": {
    "pycharm": {
     "name": "#%%\n"
    }
   },
   "outputs": [
    {
     "data": {
      "text/plain": [
       "(1, 2, 3, 1, 2, 3)"
      ]
     },
     "execution_count": 88,
     "metadata": {},
     "output_type": "execute_result"
    }
   ],
   "source": [
    "# 2. multiplication of tuple and integer replicates the tuple!\n",
    "tpl1 * 2"
   ]
  },
  {
   "cell_type": "code",
   "execution_count": 89,
   "metadata": {
    "pycharm": {
     "name": "#%%\n"
    }
   },
   "outputs": [
    {
     "data": {
      "text/plain": [
       "(1, 2, 3, 'x', 'y', 'z')"
      ]
     },
     "execution_count": 89,
     "metadata": {},
     "output_type": "execute_result"
    }
   ],
   "source": [
    "# 3. Extending tuple in place\n",
    "tpl1 += ('x', 'y', 'z')\n",
    "tpl1"
   ]
  },
  {
   "attachments": {},
   "cell_type": "markdown",
   "metadata": {
    "pycharm": {
     "name": "#%% md\n"
    }
   },
   "source": [
    "It might be surprising that this works since a `tuple` is\n",
    "an immutable object. However, what happens is that the original\n",
    "`tuple` is discarded and the reference `tpl1` now points to a\n",
    "newly created `tuple`.\n",
    "\n",
    "The same happens when we replicate a `tuple` with `*=`:"
   ]
  },
  {
   "cell_type": "code",
   "execution_count": 90,
   "metadata": {
    "pycharm": {
     "name": "#%%\n"
    }
   },
   "outputs": [
    {
     "data": {
      "text/plain": [
       "(1, 2, 3, 'x', 'y', 'z', 1, 2, 3, 'x', 'y', 'z')"
      ]
     },
     "execution_count": 90,
     "metadata": {},
     "output_type": "execute_result"
    }
   ],
   "source": [
    "# 4. Replicate tuple in place using *=\n",
    "tpl1 *= 2\n",
    "tpl1"
   ]
  },
  {
   "attachments": {},
   "cell_type": "markdown",
   "metadata": {
    "pycharm": {
     "name": "#%% md\n"
    }
   },
   "source": [
    "**Tuple and list operators**\n",
    "\n",
    "We cannot mix tuples and lists as operands!"
   ]
  },
  {
   "cell_type": "code",
   "execution_count": 91,
   "metadata": {
    "pycharm": {
     "name": "#%%\n"
    }
   },
   "outputs": [
    {
     "ename": "TypeError",
     "evalue": "can only concatenate list (not \"tuple\") to list",
     "output_type": "error",
     "traceback": [
      "\u001b[0;31mTypeError\u001b[0m\u001b[0;31m:\u001b[0m can only concatenate list (not \"tuple\") to list\n"
     ]
    }
   ],
   "source": [
    "lst = [1, 2, 3]\n",
    "tpl = 'a', 'b', 'c'\n",
    "\n",
    "# Cannot concatenate list and tuple!\n",
    "lst + tpl\n"
   ]
  }
 ],
 "metadata": {
  "kernelspec": {
   "display_name": "Python 3.10.4 ('py3-default')",
   "language": "python",
   "name": "python3"
  },
  "language_info": {
   "codemirror_mode": {
    "name": "ipython",
    "version": 3
   },
   "file_extension": ".py",
   "mimetype": "text/x-python",
   "name": "python",
   "nbconvert_exporter": "python",
   "pygments_lexer": "ipython3",
   "version": "3.10.11"
  },
  "vscode": {
   "interpreter": {
    "hash": "89692ee4bd8d7a7842eb7c7050f10ae8c4113955275de7625334d5364ea86119"
   }
  }
 },
 "nbformat": 4,
 "nbformat_minor": 1
}
