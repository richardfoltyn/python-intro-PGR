{
 "cells": [
  {
   "attachments": {},
   "cell_type": "markdown",
   "metadata": {
    "collapsed": true,
    "pycharm": {
     "name": "#%% md\n"
    }
   },
   "source": [
    "# Introduction to Python Programming for Economics & Finance\n",
    "\n",
    "Author: Richard Foltyn, University of Glasgow\n",
    "\n",
    "### Units\n",
    "\n",
    "This introductory course consists of several units. Each unit corresponds\n",
    "to one interactive Jupyter notebook, which is also available\n",
    "as a static PDF file.\n",
    "\n",
    "1.  [Language and NumPy basics](lectures/unit01.ipynb) [[PDF](latex/unit01.pdf)]\n",
    "2.  [Control flow and list comprehensions](lectures/unit02.ipynb) [[PDF](latex/unit02.pdf)]\n",
    "3.  [Reusing code - Functions, modules and packages](lectures/unit03.ipynb) [[PDF](latex/unit03.pdf)]\n",
    "4.  [Plotting](lectures/unit04.ipynb) [[PDF](latex/unit04.pdf)]\n",
    "5.  [Advanced NumPy](lectures/unit05.ipynb) [[PDF](latex/unit05.pdf)]\n",
    "6.  [Handling data with pandas](lectures/unit06.ipynb) [[PDF](latex/unit06.pdf)]\n",
    "7.  [Data input and output](lectures/unit07.ipynb) [[PDF](latex/unit07.pdf)]\n",
    "8.  [Random number generation and statistics](lectures/unit08.ipynb) [[PDF](latex/unit08.pdf)]\n",
    "9.  [Introduction to unsupervised learning](lectures/unit09.ipynb) [[PDF](latex/unit09.pdf)]\n",
    "10.  [Introduction to supervised learning](lectures/unit10.ipynb) [[PDF](latex/unit10.pdf)]\n",
    "11. [Error handling (optional)](lectures/unit09.ipynb) [[PDF](latex/unit11.pdf)]\n",
    "\n",
    "### Templates for lectures\n",
    "\n",
    "1.  [Language and NumPy basics](lectures/templates/unit01.ipynb)\n",
    "2.  [Control flow and list comprehensions](lectures/templates/unit02.ipynb)\n",
    "3.  [Reusing code - Functions, modules and packages](lectures/templates/unit03.ipynb)\n",
    "4.  [Plotting](lectures/templates/unit04.ipynb)\n",
    "5.  [Advanced NumPy](lectures/templates/unit05.ipynb)\n",
    "6.  [Handling data with pandas](lectures/templates/unit06.ipynb)\n",
    "7.  [Data input and output](lectures/templates/unit07.ipynb)\n",
    "8.  [Random number generation and statistics](lectures/templates/unit08.ipynb)\n",
    "9.  [Introduction to unsupervised learning](lectures/templates/unit09.ipynb)\n",
    "10.  [Introduction to supervised learning](lectures/templates/unit10.ipynb)"
   ]
  }
 ],
 "metadata": {
  "kernelspec": {
   "display_name": "Python 3 (ipykernel)",
   "language": "python",
   "name": "python3"
  },
  "language_info": {
   "codemirror_mode": {
    "name": "ipython",
    "version": 3
   },
   "file_extension": ".py",
   "mimetype": "text/x-python",
   "name": "python",
   "nbconvert_exporter": "python",
   "pygments_lexer": "ipython3",
   "version": "3.10.4"
  },
  "vscode": {
   "interpreter": {
    "hash": "89692ee4bd8d7a7842eb7c7050f10ae8c4113955275de7625334d5364ea86119"
   }
  }
 },
 "nbformat": 4,
 "nbformat_minor": 2
}
