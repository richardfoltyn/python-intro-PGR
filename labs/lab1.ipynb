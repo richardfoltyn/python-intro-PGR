{
 "cells": [
  {
   "attachments": {},
   "cell_type": "markdown",
   "metadata": {},
   "source": [
    "# Two-period consumption-savings problem\n",
    "\n",
    "Consider the following standard consumption-savings problem over\n",
    "two periods with lifetime utility $U(c_1, c_2)$ given by\n",
    "$$\n",
    "\\begin{aligned}\n",
    "\\max_{c_1,c_2} \\quad &\\frac{c_1^{1-\\gamma}}{1-\\gamma}\n",
    "    + \\beta \\frac{c_2^{1-\\gamma}}{1-\\gamma} \\\\\n",
    "\\text{s.t.} \\quad c_1 &+ \\frac{c_2}{1+r} = w \\\\\n",
    "    c_1 &\\geq 0, ~ c_2 \\geq 0\n",
    "\\end{aligned}\n",
    "$$\n",
    "where $\\gamma$ is the RRA coefficient, $\\beta$ is the discount factor,\n",
    "$r$ is the interest rate,\n",
    "$w$ is initial wealth, and $(c_1,c_2)$ is the optimal consumption allocation\n",
    "to be determined."
   ]
  },
  {
   "attachments": {},
   "cell_type": "markdown",
   "metadata": {},
   "source": [
    "# Per-period utility function\n",
    "\n",
    "Write a function `util(c, gamma)` which takes as arguments the consumption $c$ and the risk-aversion $\\gamma$ and returns the per-period utility given by\n",
    "$u(c) = \\frac{c^{1-\\gamma}}{1-\\gamma}$. Make sure that the function works with log preferences ($\\gamma = 1$) as well as general CRRA preferences with $\\gamma \\neq 1$.\n",
    "\n",
    "*Hint:* Use `np.log()` from the NumPy package to evaluate logs."
   ]
  },
  {
   "attachments": {},
   "cell_type": "markdown",
   "metadata": {},
   "source": [
    "# Solving the problem using grid search\n",
    "\n",
    "In a first step, you are going to solve the household problem using grid search,\n",
    "a basic algorithm that evaluates the objective function (lifetime utility)\n",
    "for every possible value of $(c_1, c_2)$ on a grid of candidate\n",
    "consumption levels."
   ]
  },
  {
   "attachments": {},
   "cell_type": "markdown",
   "metadata": {},
   "source": [
    "## Objective function (lifetime utility)\n",
    "Write the objective function `objective(c1, c2, beta, gamma)` which takes\n",
    "the candidate consumption choices and parameters as arguments and returns the associated\n",
    "lifetime utility. This function should call the per-period utility function `util(c, gamma)`\n",
    "you wrote above."
   ]
  },
  {
   "attachments": {},
   "cell_type": "markdown",
   "metadata": {},
   "source": [
    "## Candidate consumption grid"
   ]
  },
  {
   "attachments": {},
   "cell_type": "markdown",
   "metadata": {},
   "source": [
    "\n",
    "Assume that the problem is parametrised using the following values:"
   ]
  },
  {
   "cell_type": "code",
   "execution_count": 3,
   "metadata": {},
   "outputs": [],
   "source": [
    "# Parameters\n",
    "r = 0.04\n",
    "beta = 0.96\n",
    "gamma = 1.0\n",
    "\n",
    "# Initial wealth\n",
    "wealth = 1.0"
   ]
  },
  {
   "attachments": {},
   "cell_type": "markdown",
   "metadata": {},
   "source": [
    "Create a uniformly spaced grid for candidate period-1 consumption levels $c_1$ called `c1_grid` with 20 points. What is the interval of feasible values for $c_1$?\n",
    "\n",
    "*Hint:* Use [`np.linspace()`](https://numpy.org/doc/stable/reference/generated/numpy.linspace.html) to create a linearly (uniformly) spaced array."
   ]
  },
  {
   "attachments": {},
   "cell_type": "markdown",
   "metadata": {},
   "source": [
    "## Grid search algorithm\n",
    "\n",
    "Write a function `find_optimum(c1_grid, beta, gamma, r, wealth)` which takes as arguments the candidate first-period consumption levels as well as parameters and returns the following objects:\n",
    "\n",
    "1. An array containing the candidate lifetime utility for each candidate $c_1$.\n",
    "2. An integer index identifying the maximizer on that array.\n",
    "\n",
    "Use this function to find the optimal consumption levels.\n",
    "\n",
    "*Hint:* Loop over the points in `c1_grid`. For each $c_1$ on the grid, use the budget constraint to obtain the implied $c_2$. Then use the `objective(c1, c2, ...)` function to evaluate lifetime utility and keep track of the maximum."
   ]
  },
  {
   "attachments": {},
   "cell_type": "markdown",
   "metadata": {},
   "source": [
    "## Reporting the results\n",
    "\n",
    "Write a loop that prints the allocation $(c_1, c_2)$ and the implied utility\n",
    "level $U(c_1, c_2)$ for each point on the candidate grid."
   ]
  },
  {
   "attachments": {},
   "cell_type": "markdown",
   "metadata": {},
   "source": [
    "# Analytical solution\n",
    "\n",
    "Compute the analytical solution for this problem and contrast it with what you found above. Why are the values not identical?\n",
    "\n",
    "*Hint*: The analytical solution can be trivially derived from the first-order conditions given by the Euler equation and the budget constraint:\n",
    "$$\n",
    "\\begin{aligned}\n",
    "    c_1^{-\\gamma} &= \\beta (1+r) c_2^{-\\gamma} \\\\\n",
    "    c_1 + \\frac{c_2}{1+r} &= w\n",
    "\\end{aligned}\n",
    "$$\n",
    "\n",
    "The optimal $c_1$ is then given by \n",
    "$$\n",
    "c_1 = \\alpha \\cdot w \\qquad\\text{with}\\qquad\n",
    "\\alpha = \\left[1 + \\beta^{\\frac{1}{\\gamma}} (1+r)^{\\frac{1}{\\gamma} - 1}\\right]^{-1}\n",
    "$$\n",
    "where $\\alpha$ is the fraction of initial wealth consumption in period 1."
   ]
  },
  {
   "attachments": {},
   "cell_type": "markdown",
   "metadata": {},
   "source": [
    "# Solving the problem using a minimizer\n",
    "\n",
    "We usually don't use grid search to find an optimum since the method is often slow and imprecise. In this part you will therefore explore how the optimal allocation can be found using SciPy's optimization routines.\n",
    "\n",
    "## Objective function\n",
    "\n",
    "Since this is a scalar maximization problem (in either $c_1$ or $c_2$ as the other is implied by the budget constraint), you first need to write a modified objective function that is compatible with SciPy's optimisation routines. To this end, define a function\n",
    "`objective_scipy(c1, beta, gamma, r, wealth)` which takes $c_1$ and parameters as arguments and evaluates lifetime utility. Because we are going to run a **minimizer** implemented in \n",
    "[`minimize_scalar()`](https://docs.scipy.org/doc/scipy/reference/generated/scipy.optimize.minimize_scalar.html)\n",
    "to find the optimum, your objective function needs to return the **negative** lifetime utility.\n",
    "\n",
    "*Hint:* Use the function `util(c, gamma)` you implemented previously to evaluate the objective function."
   ]
  },
  {
   "attachments": {},
   "cell_type": "markdown",
   "metadata": {},
   "source": [
    "## Running the minimizer\n",
    "\n",
    "To run the scalar minimizer, you need to import the function `minimize_scalar` as follows:\n",
    "\n",
    "```python\n",
    "from scipy.optimize import minimize_scalar\n",
    "```\n",
    "\n",
    "In this particular case, `minimize_scalar()` takes the following arguments:\n",
    "\n",
    "1. The objective function\n",
    "2. The `method` parameter specifying the minimization algorithm (use `method='bounded'`)\n",
    "3. The `bounds` parameter specifying the range of admissible values.\n",
    "\n",
    "Note that because your objective function takes 4 arguments but SciPy expects a function with a single argument, you'll need to use a `lambda` function to pass any additional arguments.\n",
    "\n",
    "Write the call to \n",
    "[`minimize_scalar()`](https://docs.scipy.org/doc/scipy/reference/generated/scipy.optimize.minimize_scalar.html)\n",
    "as follows:\n",
    "\n",
    "```python\n",
    "res = minimize_scalar(..., method='bounded', bounds=... )\n",
    "```\n",
    "\n",
    "Alternatively, you can skip the `lambda` function and pass any additional parameters as a `tuple` using the `args` argument as follows:\n",
    "```python\n",
    "res = minimize_scalar(..., method='bounded', bounds=..., args=...)\n",
    "```\n",
    "\n",
    "\n",
    "Run the minimizer and inspect the attributes of the resulting object `res`. You'll see that the maximizer is returned as `res.x` and the objective is stored in `res.fun`."
   ]
  },
  {
   "attachments": {},
   "cell_type": "markdown",
   "metadata": {},
   "source": [
    "## Reporting the results\n",
    "\n",
    "Print the optimal allocation $(c_1, c_2)$ and the associated lifetime utility obtained by the minimizer. Does it differ from the result you found with grid search?"
   ]
  }
 ],
 "metadata": {
  "kernelspec": {
   "display_name": "python-intro-PGR",
   "language": "python",
   "name": "python3"
  },
  "language_info": {
   "codemirror_mode": {
    "name": "ipython",
    "version": 3
   },
   "file_extension": ".py",
   "mimetype": "text/x-python",
   "name": "python",
   "nbconvert_exporter": "python",
   "pygments_lexer": "ipython3",
   "version": "3.10.11"
  },
  "orig_nbformat": 4
 },
 "nbformat": 4,
 "nbformat_minor": 2
}
