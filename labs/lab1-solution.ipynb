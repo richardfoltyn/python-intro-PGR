{
 "cells": [
  {
   "attachments": {},
   "cell_type": "markdown",
   "metadata": {},
   "source": [
    "# Two-period consumption-savings problem\n",
    "\n",
    "Consider the following standard consumption-savings problem over\n",
    "two periods with lifetime utility $U(c_1, c_2)$ given by\n",
    "$$\n",
    "\\begin{aligned}\n",
    "\\max_{c_1,c_2} \\quad &\\frac{c_1^{1-\\gamma}}{1-\\gamma}\n",
    "    + \\beta \\frac{c_2^{1-\\gamma}}{1-\\gamma} \\\\\n",
    "\\text{s.t.} \\quad c_1 &+ \\frac{c_2}{1+r} = w \\\\\n",
    "    c_1 &\\geq 0, ~ c_2 \\geq 0\n",
    "\\end{aligned}\n",
    "$$\n",
    "where $\\gamma$ is the RRA coefficient, $\\beta$ is the discount factor,\n",
    "$r$ is the interest rate,\n",
    "$w$ is initial wealth, and $(c_1,c_2)$ is the optimal consumption allocation\n",
    "to be determined."
   ]
  },
  {
   "attachments": {},
   "cell_type": "markdown",
   "metadata": {},
   "source": [
    "# Per-period utility function\n",
    "\n",
    "Write a function `util(c, gamma)` which takes as arguments the consumption $c$ and the risk-aversion $\\gamma$ and returns the per-period utility given by\n",
    "$u(c) = \\frac{c^{1-\\gamma}}{1-\\gamma}$. Make sure that the function works with log preferences ($\\gamma = 1$) as well as general CRRA preferences with $\\gamma \\neq 1$.\n",
    "\n",
    "*Hint:* Use `np.log()` from the NumPy package to evaluate logs."
   ]
  },
  {
   "attachments": {},
   "cell_type": "markdown",
   "metadata": {},
   "source": [
    "#### Solution"
   ]
  },
  {
   "cell_type": "code",
   "execution_count": 1,
   "metadata": {},
   "outputs": [],
   "source": [
    "import numpy as np\n",
    "\n",
    "def util(c, gamma):\n",
    "    if gamma == 1:\n",
    "        # Utility for log preferences\n",
    "        u = np.log(c)\n",
    "    else:\n",
    "        # Utility for general CRRA preferences\n",
    "        u = c**(1.0 - gamma) / (1.0 - gamma)\n",
    "\n",
    "    return u"
   ]
  },
  {
   "attachments": {},
   "cell_type": "markdown",
   "metadata": {},
   "source": [
    "# Solving the problem using grid search\n",
    "\n",
    "In a first step, you are going to solve the household problem using grid search,\n",
    "a basic algorithm that evaluates the objective function (lifetime utility)\n",
    "for every possible value of $(c_1, c_2)$ on a grid of candidate\n",
    "consumption levels."
   ]
  },
  {
   "attachments": {},
   "cell_type": "markdown",
   "metadata": {},
   "source": [
    "## Objective function (lifetime utility)\n",
    "Write the objective function `objective(c1, c2, beta, gamma)` which takes\n",
    "the candidate consumption choices and parameters as arguments and returns the associated\n",
    "lifetime utility. This function should call the per-period utility function `util(c, gamma)`\n",
    "you wrote above."
   ]
  },
  {
   "attachments": {},
   "cell_type": "markdown",
   "metadata": {},
   "source": [
    "#### Solution"
   ]
  },
  {
   "cell_type": "code",
   "execution_count": 2,
   "metadata": {},
   "outputs": [],
   "source": [
    "# Objective function for maximisation problem\n",
    "\n",
    "def objective(c1, c2, beta, gamma):\n",
    "    # Use per-period utility functions to compute lifetime utility\n",
    "    U = util(c1, gamma) + beta * util(c2, gamma)\n",
    "\n",
    "    return U"
   ]
  },
  {
   "attachments": {},
   "cell_type": "markdown",
   "metadata": {},
   "source": [
    "## Candidate consumption grid"
   ]
  },
  {
   "attachments": {},
   "cell_type": "markdown",
   "metadata": {},
   "source": [
    "\n",
    "Assume that the problem is parametrised using the following values:"
   ]
  },
  {
   "cell_type": "code",
   "execution_count": 3,
   "metadata": {},
   "outputs": [],
   "source": [
    "# Parameters\n",
    "r = 0.04\n",
    "beta = 0.96\n",
    "gamma = 1.0\n",
    "\n",
    "# Initial wealth\n",
    "wealth = 1.0"
   ]
  },
  {
   "attachments": {},
   "cell_type": "markdown",
   "metadata": {},
   "source": [
    "Create a uniformly spaced grid for candidate period-1 consumption levels $c_1$ called `c1_grid` with 20 points. What is the interval of feasible values for $c_1$?\n",
    "\n",
    "*Hint:* Use [`np.linspace()`](https://numpy.org/doc/stable/reference/generated/numpy.linspace.html) to create a linearly (uniformly) spaced array."
   ]
  },
  {
   "attachments": {},
   "cell_type": "markdown",
   "metadata": {},
   "source": [
    "#### Solution"
   ]
  },
  {
   "cell_type": "code",
   "execution_count": 4,
   "metadata": {},
   "outputs": [],
   "source": [
    "# Grid size\n",
    "N = 20\n",
    "\n",
    "# Candidate grid for period-1 consumption\n",
    "c1_grid = np.linspace(0.0, wealth, N)"
   ]
  },
  {
   "attachments": {},
   "cell_type": "markdown",
   "metadata": {},
   "source": [
    "## Grid search algorithm\n",
    "\n",
    "Write a function `find_optimum(c1_grid, beta, gamma, r, wealth)` which takes as arguments the candidate first-period consumption levels as well as parameters and returns the following objects:\n",
    "\n",
    "1. An array containing the candidate lifetime utility for each candidate $c_1$.\n",
    "2. An integer index identifying the maximizer on that array.\n",
    "\n",
    "Use this function to find the optimal consumption levels.\n",
    "\n",
    "*Hint:* Loop over the points in `c1_grid`. For each $c_1$ on the grid, use the budget constraint to obtain the implied $c_2$. Then use the `objective(c1, c2, ...)` function to evaluate lifetime utility and keep track of the maximum."
   ]
  },
  {
   "attachments": {},
   "cell_type": "markdown",
   "metadata": {},
   "source": [
    "#### Solution"
   ]
  },
  {
   "cell_type": "code",
   "execution_count": 5,
   "metadata": {},
   "outputs": [],
   "source": [
    "# Function to locate optimal consumption allocation\n",
    "def find_optimum(c1_grid, beta, gamma, r, wealth):\n",
    "\n",
    "    imax = 0\n",
    "\n",
    "    # Initialize with -Inf \n",
    "    U_max = - np.inf\n",
    "    \n",
    "    # Lifetime utility evaluated on candidate grid points\n",
    "    U_grid = np.zeros(len(c1_grid))\n",
    "\n",
    "    for i, c1 in enumerate(c1_grid):\n",
    "        # Compute implied period-2 consumption from budget constraint\n",
    "        c2 = (1.0 + r) * (wealth - c1)\n",
    "\n",
    "        # Lifetime utility level for current consumption choice (c1, c2)\n",
    "        U_try = objective(c1, c2, beta, gamma)\n",
    "\n",
    "        # Store lifetime utility in result array\n",
    "        U_grid[i] = U_try\n",
    "\n",
    "        # Check for new maximum\n",
    "        if U_try > U_max:\n",
    "            # Update best allocation\n",
    "            imax = i\n",
    "            U_max = U_try\n",
    "\n",
    "    # Return lifetime utilities for all candidate points and index of max\n",
    "    return U_grid, imax\n"
   ]
  },
  {
   "cell_type": "code",
   "execution_count": 6,
   "metadata": {},
   "outputs": [
    {
     "name": "stderr",
     "output_type": "stream",
     "text": [
      "/tmp/ipykernel_301156/3699509581.py:6: RuntimeWarning: divide by zero encountered in log\n",
      "  u = np.log(c)\n"
     ]
    }
   ],
   "source": [
    "# Evaluate lifetime utility at each grid point and get optimal index\n",
    "U_grid, imax = find_optimum(c1_grid, beta, gamma, r, wealth)"
   ]
  },
  {
   "attachments": {},
   "cell_type": "markdown",
   "metadata": {},
   "source": [
    "## Reporting the results\n",
    "\n",
    "Write a loop that prints the allocation $(c_1, c_2)$ and the implied utility\n",
    "level $U(c_1, c_2)$ for each point on the candidate grid."
   ]
  },
  {
   "attachments": {},
   "cell_type": "markdown",
   "metadata": {},
   "source": [
    "#### Solution"
   ]
  },
  {
   "cell_type": "code",
   "execution_count": 7,
   "metadata": {},
   "outputs": [
    {
     "name": "stdout",
     "output_type": "stream",
     "text": [
      "Utility for c1=0.0000, c2=1.0400: -inf\n",
      "Utility for c1=0.0526, c2=0.9853: -2.95869e+00\n",
      "Utility for c1=0.1053, c2=0.9305: -2.32042e+00\n",
      "Utility for c1=0.1579, c2=0.8758: -1.97315e+00\n",
      "Utility for c1=0.2105, c2=0.8211: -1.74743e+00\n",
      "Utility for c1=0.2632, c2=0.7663: -1.59052e+00\n",
      "Utility for c1=0.3158, c2=0.7116: -1.47934e+00\n",
      "Utility for c1=0.3684, c2=0.6568: -1.40203e+00\n",
      "Utility for c1=0.4211, c2=0.6021: -1.35203e+00\n",
      "Utility for c1=0.4737, c2=0.5474: -1.32574e+00\n",
      "Utility for c1=0.5263, c2=0.4926: -1.32153e+00\n",
      "Utility for c1=0.5789, c2=0.4379: -1.33929e+00\n",
      "Utility for c1=0.6316, c2=0.3832: -1.38047e+00\n",
      "Utility for c1=0.6842, c2=0.3284: -1.44841e+00\n",
      "Utility for c1=0.7368, c2=0.2737: -1.54933e+00\n",
      "Utility for c1=0.7895, c2=0.2189: -1.69456e+00\n",
      "Utility for c1=0.8421, c2=0.1642: -1.90619e+00\n",
      "Utility for c1=0.8947, c2=0.1095: -2.23481e+00\n",
      "Utility for c1=0.9474, c2=0.0547: -2.84308e+00\n",
      "Utility for c1=1.0000, c2=0.0000: -inf\n",
      "Utility at optimal c1=0.5263, c2=0.4926: -1.32153e+00\n"
     ]
    }
   ],
   "source": [
    "# Grid for implied period-2 consumption\n",
    "c2_grid = (1.0 + r) * (wealth - c1_grid)\n",
    "\n",
    "# Print lifetime utility for all candidate levels\n",
    "for i in range(N):\n",
    "    c1, c2, U = c1_grid[i], c2_grid[i], U_grid[i]\n",
    "    # Print consumption using 4 decimal digits, use scientific notation\n",
    "    # for utility\n",
    "    print(f'Utility for c1={c1:.4f}, c2={c2:.4f}: {U:.5e}')\n",
    "\n",
    "# Print optimal allocation\n",
    "c1_opt, c2_opt, U_opt = c1_grid[imax], c2_grid[imax], U_grid[imax]\n",
    "print(f'Utility at optimal c1={c1_opt:.4f}, c2={c2_opt:.4f}: {U_opt:.5e}')"
   ]
  },
  {
   "attachments": {},
   "cell_type": "markdown",
   "metadata": {},
   "source": [
    "## Vectorized solution method\n",
    "\n",
    "In \"proper\" quantitative work we hardly ever want to loop over elements of an array and perform computations individually. Instead, we prefer to operate on the whole array at once which is called *vectorization*. This is an essential technique when using languages such as Python and Matlab.\n",
    "\n",
    "To illustrate the vectorized grid search algorithm, we proceed as follows:\n",
    "\n",
    "1. Compute grid of implied period-2 consumption levels using the budget constraint.\n",
    "2. Evaluate the lifetime utility for each point of the grid.\n",
    "3. Locate the maximum on this grid of lifetime utilities."
   ]
  },
  {
   "cell_type": "code",
   "execution_count": 8,
   "metadata": {},
   "outputs": [
    {
     "name": "stderr",
     "output_type": "stream",
     "text": [
      "/tmp/ipykernel_301156/3699509581.py:6: RuntimeWarning: divide by zero encountered in log\n",
      "  u = np.log(c)\n"
     ]
    }
   ],
   "source": [
    "# Grid of period-2 consumption levels\n",
    "c2_grid = (1.0 + r) * (wealth - c1_grid)\n",
    "\n",
    "# Array of implied lifetime utilities\n",
    "U_grid = objective(c1_grid, c2_grid, beta, gamma)"
   ]
  },
  {
   "attachments": {},
   "cell_type": "markdown",
   "metadata": {},
   "source": [
    "Note that we have already coded the function `objective()` in a way that it supports array-valued arguments for consumption.\n",
    "\n",
    "Once we have the lifetime utility for each candidate consumption allocation, we can find the maximum and its location using \n",
    "[`np.amax()`](https://numpy.org/doc/stable/reference/generated/numpy.amax.html)\n",
    "and \n",
    "[`np.argmax()`](https://numpy.org/doc/stable/reference/generated/numpy.argmax.html):"
   ]
  },
  {
   "cell_type": "code",
   "execution_count": 9,
   "metadata": {},
   "outputs": [],
   "source": [
    "# max. lifetime utility\n",
    "U_opt = np.amax(U_grid)\n",
    "\n",
    "# Index where max. lifetime utility is attained\n",
    "imax = np.argmax(U_grid)"
   ]
  },
  {
   "attachments": {},
   "cell_type": "markdown",
   "metadata": {},
   "source": [
    "Reassuringly, the results are identical to what we found using loops:"
   ]
  },
  {
   "cell_type": "code",
   "execution_count": 10,
   "metadata": {},
   "outputs": [
    {
     "name": "stdout",
     "output_type": "stream",
     "text": [
      "Utility at optimal c1=0.5263, c2=0.4926: -1.32153e+00\n"
     ]
    }
   ],
   "source": [
    "# Print optimal allocation\n",
    "c1_opt, c2_opt = c1_grid[imax], c2_grid[imax]\n",
    "print(f'Utility at optimal c1={c1_opt:.4f}, c2={c2_opt:.4f}: {U_opt:.5e}')"
   ]
  },
  {
   "attachments": {},
   "cell_type": "markdown",
   "metadata": {},
   "source": [
    "# Analytical solution\n",
    "\n",
    "Compute the analytical solution for this problem and contrast it with what you found above. Why are the values not identical?\n",
    "\n",
    "*Hint*: The analytical solution can be trivially derived from the first-order conditions given by the Euler equation and the budget constraint:\n",
    "$$\n",
    "\\begin{aligned}\n",
    "    c_1^{-\\gamma} &= \\beta (1+r) c_2^{-\\gamma} \\\\\n",
    "    c_1 + \\frac{c_2}{1+r} &= w\n",
    "\\end{aligned}\n",
    "$$\n",
    "\n",
    "The optimal $c_1$ is then given by \n",
    "$$\n",
    "c_1 = \\alpha \\cdot w \\qquad\\text{with}\\qquad\n",
    "\\alpha = \\left[1 + \\beta^{\\frac{1}{\\gamma}} (1+r)^{\\frac{1}{\\gamma} - 1}\\right]^{-1}\n",
    "$$\n",
    "where $\\alpha$ is the fraction of initial wealth consumption in period 1."
   ]
  },
  {
   "attachments": {},
   "cell_type": "markdown",
   "metadata": {},
   "source": [
    "#### Solution"
   ]
  },
  {
   "cell_type": "code",
   "execution_count": 11,
   "metadata": {},
   "outputs": [
    {
     "name": "stdout",
     "output_type": "stream",
     "text": [
      "Utility at optimal c1=0.5102, c2=0.5094: -1.32051e+00\n"
     ]
    }
   ],
   "source": [
    "# Fraction of wealth consumed in period 1\n",
    "alpha = (1.0 + beta**(1.0/gamma) * (1.0 + r)**(1.0/gamma - 1.0))**(-1.0)\n",
    "\n",
    "# Optimal period-1 consumption\n",
    "c1_opt = alpha * wealth\n",
    "\n",
    "# Optimal period-2 consumption follows from Euler equation\n",
    "# or from budget constraint\n",
    "c2_opt = (beta * (1.0 + r))**(1.0/gamma) * c1_opt\n",
    "\n",
    "# Implied lifetime utility\n",
    "U_opt = objective(c1_opt, c2_opt, beta, gamma)\n",
    "\n",
    "print(f'Utility at optimal c1={c1_opt:.4f}, c2={c2_opt:.4f}: {U_opt:.5e}')"
   ]
  },
  {
   "attachments": {},
   "cell_type": "markdown",
   "metadata": {},
   "source": [
    "The values are unlikely to be identical to the result we found using grid search since it is unlikely that the optimal $c_1$ was included in the grid. We can of course get closer to the analytical value by increasing the grid size which is trivial in this setting but might not be computationally feasible in a more realistic problem."
   ]
  },
  {
   "attachments": {},
   "cell_type": "markdown",
   "metadata": {},
   "source": [
    "# Solving the problem using a minimizer\n",
    "\n",
    "We usually don't use grid search to find an optimum since the method is often slow and imprecise. In this part you will therefore explore how the optimal allocation can be found using SciPy's optimization routines.\n",
    "\n",
    "## Objective function\n",
    "\n",
    "Since this is a scalar maximization problem (in either $c_1$ or $c_2$ as the other is implied by the budget constraint), you first need to write a modified objective function that is compatible with SciPy's optimisation routines. To this end, define a function\n",
    "`objective_scipy(c1, beta, gamma, r, wealth)` which takes $c_1$ and parameters as arguments and evaluates lifetime utility. Because we are going to run a **minimizer** implemented in \n",
    "[`minimize_scalar()`](https://docs.scipy.org/doc/scipy/reference/generated/scipy.optimize.minimize_scalar.html)\n",
    "to find the optimum, your objective function needs to return the **negative** lifetime utility.\n",
    "\n",
    "*Hint:* Use the function `util(c, gamma)` you implemented previously to evaluate the objective function."
   ]
  },
  {
   "attachments": {},
   "cell_type": "markdown",
   "metadata": {},
   "source": [
    "#### Solution"
   ]
  },
  {
   "cell_type": "code",
   "execution_count": 12,
   "metadata": {},
   "outputs": [],
   "source": [
    "def objective_scipy(c1, beta, gamma, r, wealth):\n",
    "\n",
    "    # Implied period-2 consumption\n",
    "    c2 = (1.0 + r) * (wealth - c1)\n",
    "    if c1 < 0.0 or c2 < 0.0:\n",
    "        return - np.inf\n",
    "\n",
    "    U = util(c1, gamma) + beta * util(c2, gamma)\n",
    "\n",
    "    # Return negative utility since we are running minimizer\n",
    "    return -U"
   ]
  },
  {
   "attachments": {},
   "cell_type": "markdown",
   "metadata": {},
   "source": [
    "## Running the minimizer\n",
    "\n",
    "To run the scalar minimizer, you need to import the function `minimize_scalar` as follows:\n",
    "\n",
    "```python\n",
    "from scipy.optimize import minimize_scalar\n",
    "```\n",
    "\n",
    "In this particular case, `minimize_scalar()` takes the following arguments:\n",
    "\n",
    "1. The objective function\n",
    "2. The `method` parameter specifying the minimization algorithm (use `method='bounded'`)\n",
    "3. The `bounds` parameter specifying the range of admissible values.\n",
    "\n",
    "Note that because your objective function takes 4 arguments but SciPy expects a function with a single argument, you'll need to use a `lambda` function to pass any additional arguments.\n",
    "\n",
    "Write the call to \n",
    "[`minimize_scalar()`](https://docs.scipy.org/doc/scipy/reference/generated/scipy.optimize.minimize_scalar.html)\n",
    "as follows:\n",
    "\n",
    "```python\n",
    "res = minimize_scalar(..., method='bounded', bounds=... )\n",
    "```\n",
    "\n",
    "Alternatively, you can skip the `lambda` function and pass any additional parameters as a `tuple` using the `args` argument as follows:\n",
    "```python\n",
    "res = minimize_scalar(..., method='bounded', bounds=..., args=...)\n",
    "```\n",
    "\n",
    "\n",
    "Run the minimizer and inspect the attributes of the resulting object `res`. You'll see that the maximizer is returned as `res.x` and the objective is stored in `res.fun`."
   ]
  },
  {
   "attachments": {},
   "cell_type": "markdown",
   "metadata": {},
   "source": [
    "#### Solution"
   ]
  },
  {
   "cell_type": "code",
   "execution_count": 13,
   "metadata": {},
   "outputs": [],
   "source": [
    "from scipy.optimize import minimize_scalar\n",
    "\n",
    "# Variant 1: Call the minimizer wrapping the objective inside \n",
    "# a lambda expression\n",
    "res = minimize_scalar(\n",
    "    lambda x: objective_scipy(x, beta, gamma, r, wealth),\n",
    "    method='bounded',\n",
    "    bounds=[0.0, wealth]\n",
    ")"
   ]
  },
  {
   "cell_type": "code",
   "execution_count": 14,
   "metadata": {},
   "outputs": [],
   "source": [
    "# Variant 2: Use args to pass any additional arguments \n",
    "# to objective function\n",
    "res = minimize_scalar(\n",
    "    objective_scipy,\n",
    "    method='bounded',\n",
    "    bounds=[0.0, wealth],\n",
    "    args=(beta, gamma, r, wealth)\n",
    ")"
   ]
  },
  {
   "cell_type": "code",
   "execution_count": 15,
   "metadata": {},
   "outputs": [
    {
     "data": {
      "text/plain": [
       " message: Solution found.\n",
       " success: True\n",
       "  status: 0\n",
       "     fun: 1.3205083976674494\n",
       "       x: 0.5102040863551822\n",
       "     nit: 9\n",
       "    nfev: 9"
      ]
     },
     "execution_count": 15,
     "metadata": {},
     "output_type": "execute_result"
    }
   ],
   "source": [
    "# Inspect attributes of result object\n",
    "res"
   ]
  },
  {
   "attachments": {},
   "cell_type": "markdown",
   "metadata": {},
   "source": [
    "From the output we see the minimizer (or maximizer), the objective, the number of iterations (`nit`) and function evaluations (`nfev`) and the exit status."
   ]
  },
  {
   "attachments": {},
   "cell_type": "markdown",
   "metadata": {},
   "source": [
    "## Reporting the results\n",
    "\n",
    "Print the optimal allocation $(c_1, c_2)$ and the associated lifetime utility obtained by the minimizer. Does it differ from the result you found with grid search?"
   ]
  },
  {
   "attachments": {},
   "cell_type": "markdown",
   "metadata": {},
   "source": [
    "#### Solution"
   ]
  },
  {
   "cell_type": "code",
   "execution_count": 16,
   "metadata": {},
   "outputs": [
    {
     "name": "stdout",
     "output_type": "stream",
     "text": [
      "Utility at optimal c1=0.5102, c2=0.5094: -1.32051e+00\n"
     ]
    }
   ],
   "source": [
    "c1_opt = res.x\n",
    "c2_opt = (1.0 + r) * (wealth - c1_opt)\n",
    "U_opt = - res.fun\n",
    "\n",
    "print(f'Utility at optimal c1={c1_opt:.4f}, c2={c2_opt:.4f}: {U_opt:.5e}')"
   ]
  },
  {
   "attachments": {},
   "cell_type": "markdown",
   "metadata": {},
   "source": [
    "These results are somewhat different from those we found using grid search. In fact, they are very close to the analytical solution."
   ]
  }
 ],
 "metadata": {
  "kernelspec": {
   "display_name": "python-intro-PGR",
   "language": "python",
   "name": "python3"
  },
  "language_info": {
   "codemirror_mode": {
    "name": "ipython",
    "version": 3
   },
   "file_extension": ".py",
   "mimetype": "text/x-python",
   "name": "python",
   "nbconvert_exporter": "python",
   "pygments_lexer": "ipython3",
   "version": "3.10.11"
  },
  "orig_nbformat": 4
 },
 "nbformat": 4,
 "nbformat_minor": 2
}
