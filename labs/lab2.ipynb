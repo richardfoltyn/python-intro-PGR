{
 "cells": [
  {
   "attachments": {},
   "cell_type": "markdown",
   "metadata": {},
   "source": [
    "# Portfolio choice problem\n",
    "\n",
    "Consider a portfolio choice problem where an investor chooses the fraction $\\alpha$ to invest in a risky asset in order to maximise expected utility,\n",
    "$$\n",
    "\\max_{\\alpha \\in [0, 1]} E_t\\left[u(W_{t+1})\\right]\n",
    "$$\n",
    "Assume that the investor consumes all of next-period's wealth $W_{t+1}$ which is given by\n",
    "$$\n",
    "W_{t+1} = R_{t+1} \\alpha W_t + R_f (1-\\alpha) W_t\n",
    "$$\n",
    "where $W_t$ is the initial investable wealth in period $t$, $R_{t+1}$ is the gross return on the risky investment and $R_f$ is the risk-free return on the fraction of the portfolio which is invested a risk-free asset (e.g., a bank deposit).\n",
    "The utility function $u(\\bullet)$ has a constant relative risk aversion (CRRA) form and is given by\n",
    "$$\n",
    "u(W) = \\begin{cases}\n",
    "\\frac{W^{1-\\gamma}}{1-\\gamma} & \\text{if } \\gamma \\neq 1 \\\\\n",
    "\\log(W) & \\text{if } \\gamma = 1\n",
    "\\end{cases}\n",
    "$$\n",
    "where $\\gamma$ is a parameter governing the investor's risk aversion (higher values of $\\gamma$ imply that the investor is more averse to taking risk).\n",
    "\n",
    "For simplicity, let the gross risk-free return be $R_f = 1$.\n",
    "Finally, assume that the risky return can take on two realisations, high and low, with equal probability,\n",
    "$$\n",
    "R_{t+1} = \\begin{cases}\n",
    "1 + \\mu + \\epsilon & \\text{with probability } \\frac{1}{2} \\\\\n",
    "1 + \\mu - \\epsilon & \\text{with probability } \\frac{1}{2} \\\\\n",
    "\\end{cases}\n",
    "$$\n",
    "where $\\mu > 0$ is the risk premium and $\\epsilon > 0$ parametrises the volatility of risky returns."
   ]
  },
  {
   "attachments": {},
   "cell_type": "markdown",
   "metadata": {},
   "source": [
    "# Expected utility function\n",
    "\n",
    "Write a Python function that takes as arguments the risky share $\\alpha$, the initial wealth $W_t$, and the parameters $\\mu$, $\\epsilon$ and $\\gamma$, and returns the expected utility associated with the given values.\n",
    "Your function signature should look like this:"
   ]
  },
  {
   "cell_type": "code",
   "execution_count": 1,
   "metadata": {},
   "outputs": [],
   "source": [
    "def expected_util(alpha, W, mu, epsilon, gamma):\n",
    "    # Compute the associated expected utility\n",
    "    # eu = ...\n",
    "    return eu"
   ]
  },
  {
   "attachments": {},
   "cell_type": "markdown",
   "metadata": {},
   "source": [
    "Make sure that your function works correctly for both $\\gamma = 1$ and $\\gamma \\neq 1$. Moreover, the function should allow for the arguments $\\alpha$ and $W$ to be passed as both scalar values as well as NumPy arrays!"
   ]
  },
  {
   "attachments": {},
   "cell_type": "markdown",
   "metadata": {},
   "source": [
    "# Plot expected utility against the risky share\n",
    "\n",
    "Use the function you wrote above to plot expected utility for 100 values of $\\alpha$ on the unit interval $[0, 1]$. Assume the following values for the remaining parameters:"
   ]
  },
  {
   "cell_type": "code",
   "execution_count": 2,
   "metadata": {},
   "outputs": [],
   "source": [
    "import numpy as np\n",
    "\n",
    "W = 1.0             # Initial wealth\n",
    "gamma = 2.0         # Relative risk aversion\n",
    "mu = 0.04           # Risk premium\n",
    "epsilon = 0.2       # Standard deviation of risky return\n",
    "\n",
    "# List of risky shares (alpha) for which to plot expected utility\n",
    "alpha = np.linspace(0.0, 1.0, 100)"
   ]
  },
  {
   "attachments": {},
   "cell_type": "markdown",
   "metadata": {},
   "source": [
    "Label both axes and add a legend to your plot."
   ]
  },
  {
   "attachments": {},
   "cell_type": "markdown",
   "metadata": {},
   "source": [
    "# Optimal risky share\n",
    "\n",
    "In the above section, you plotted expected utility for all possible risky shares. As a next step, you are asked to compute the *optimal* risky share for a given set of parameters and initial wealth $W_t$.\n",
    "\n",
    "You can find the optimal $\\alpha$ numerically using one of the minimiser function included in SciPy's [optimization package](https://docs.scipy.org/doc/scipy/reference/optimize.html). Specifically, for this task you should use the function\n",
    "[`minimize_scalar()`](https://docs.scipy.org/doc/scipy/reference/optimize.minimize_scalar-bounded.html) with the argument `method='bounded'` since the risky share is a scalar variable which is bounded between $[0,1]$.\n",
    "Use the `expected_util()` function from the previous question as the minimiser's objective. \n",
    "\n",
    "The following code illustrates how to set up the minimisation for a specific set of parameters:"
   ]
  },
  {
   "cell_type": "code",
   "execution_count": null,
   "metadata": {},
   "outputs": [],
   "source": [
    "from scipy.optimize import minimize_scalar\n",
    "\n",
    "W = 1.0             # Initial wealth\n",
    "gamma = 2.0         # Relative risk aversion\n",
    "mu = 0.04           # Risk premium\n",
    "epsilon = 0.2       # Standard deviation of risky return\n",
    "\n",
    "# Compute optimal risky share for given parameters\n",
    "result = minimize_scalar(\n",
    "    # SciPy minimiser passes a single argument (alpha), which we plug into \n",
    "    # expected_util() together with any other parameters.\n",
    "    lambda alpha: - expected_util(alpha, W, mu, epsilon, gamma),\n",
    "    method='bounded',\n",
    "    bounds=[0, 1]\n",
    ")\n",
    "\n",
    "# Print optimal risky share\n",
    "print(f'Optimal risky share: {result.x}')"
   ]
  },
  {
   "attachments": {},
   "cell_type": "markdown",
   "metadata": {},
   "source": [
    "The following comments should help you understand what the above code does:\n",
    "\n",
    "- SciPy's routines all perform _minimisation_, whereas we need to _maximise_ expected utility. We get around this problem by using a lambda expression and returning _negative_ expected utility.\n",
    "- The `expected_util()` function you wrote requires several arguments, SciPy's `minimize_scalar()`, however, expects a function that takes only a single argument. We can again get around this using the lambda expression as shown above.\n",
    "- The maximisation result is returned as an [`OptimizeResult`](https://docs.scipy.org/doc/scipy/reference/generated/scipy.optimize.OptimizeResult.html#scipy.optimize.OptimizeResult) object. The only thing you need to know about this object is that the optimal value is stored in the attribute `x` and can be retrieved as illustrated above."
   ]
  },
  {
   "attachments": {},
   "cell_type": "markdown",
   "metadata": {},
   "source": [
    "## Optimal risky share by wealth\n",
    "\n",
    "Consider a set of initial wealth levels $W_t$ uniformly spread over the interval $[1, 10]$,"
   ]
  },
  {
   "cell_type": "code",
   "execution_count": null,
   "metadata": {},
   "outputs": [],
   "source": [
    "W = np.linspace(1.0, 10.0, 100)"
   ]
  },
  {
   "attachments": {},
   "cell_type": "markdown",
   "metadata": {},
   "source": [
    "Write a loop that computes the optimal risky share for each of these wealth levels, using the same values for the remaining parameters as above:"
   ]
  },
  {
   "cell_type": "code",
   "execution_count": null,
   "metadata": {},
   "outputs": [],
   "source": [
    "gamma = 2.0         # Relative risk aversion\n",
    "mu = 0.04           # Risk premium\n",
    "epsilon = 0.2       # Standard deviation of risky return"
   ]
  },
  {
   "attachments": {},
   "cell_type": "markdown",
   "metadata": {},
   "source": [
    "Plot the optimal risky share against initial wealth. Set the plot range to the interval $[0,1.1]$ using `plt.ylim((0.0, 1.1))` to clearly see the results. How does the optimal risky share depend on initial wealth?"
   ]
  },
  {
   "attachments": {},
   "cell_type": "markdown",
   "metadata": {},
   "source": [
    "## Optimal risky share by relative risk aversion (RRA)\n",
    "\n",
    "Now consider a set of RRA parameters $\\gamma$ uniformly spread over the interval $[1, 5]$,"
   ]
  },
  {
   "cell_type": "code",
   "execution_count": null,
   "metadata": {},
   "outputs": [],
   "source": [
    "gammas = np.linspace(1.0, 5.0, 100)"
   ]
  },
  {
   "attachments": {},
   "cell_type": "markdown",
   "metadata": {},
   "source": [
    "Write a loop that computes the optimal risky share for each $\\gamma$, using the following values for initial wealth and the remaining parameters:"
   ]
  },
  {
   "cell_type": "code",
   "execution_count": null,
   "metadata": {},
   "outputs": [],
   "source": [
    "W = 1.0             # Initial wealth\n",
    "mu = 0.04           # Risk premium\n",
    "epsilon = 0.2       # Standard deviation of risky return"
   ]
  },
  {
   "attachments": {},
   "cell_type": "markdown",
   "metadata": {},
   "source": [
    "Plot the optimal risky share as a function of these RRA values. How does the optimal risky share depend on risk aversion $\\gamma$?"
   ]
  }
 ],
 "metadata": {
  "kernelspec": {
   "display_name": "Python 3.10.4 ('py3-default')",
   "language": "python",
   "name": "python3"
  },
  "language_info": {
   "codemirror_mode": {
    "name": "ipython",
    "version": 3
   },
   "file_extension": ".py",
   "mimetype": "text/x-python",
   "name": "python",
   "nbconvert_exporter": "python",
   "pygments_lexer": "ipython3",
   "version": "3.10.11"
  },
  "orig_nbformat": 4,
  "vscode": {
   "interpreter": {
    "hash": "89692ee4bd8d7a7842eb7c7050f10ae8c4113955275de7625334d5364ea86119"
   }
  }
 },
 "nbformat": 4,
 "nbformat_minor": 2
}
