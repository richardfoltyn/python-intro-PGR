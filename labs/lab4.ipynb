{
 "cells": [
  {
   "attachments": {},
   "cell_type": "markdown",
   "metadata": {},
   "source": [
    "# Predicting house prices with linear models\n",
    "\n",
    "In this project, you will work with the Ames house data set which we already encountered in the lectures. Your task is to evaluate the following three linear models in terms of their performance when predicting house prices:\n",
    "\n",
    "1. Linear regression\n",
    "2. Ridge regression\n",
    "3. Lasso"
   ]
  },
  {
   "attachments": {},
   "cell_type": "markdown",
   "metadata": {},
   "source": [
    "*General hints:*\n",
    "\n",
    "1. Whenever a computation involves random number generation, initialise the seed to `123` to get reproducible results. Specifically, for `scikit-learn` functions this requires passing `random_state=123` where applicable."
   ]
  },
  {
   "attachments": {},
   "cell_type": "markdown",
   "metadata": {},
   "source": [
    "## Data description\n",
    "\n",
    "The data is stored in [`data/ames_houses.csv`](../data/ames_houses.csv) in the course [GitHub repository](https://github.com/richardfoltyn/python-intro-PGR) and can be downloaded using the link\n",
    "[https://raw.githubusercontent.com/richardfoltyn/python-intro-PGR/main/data/ames_houses.csv](https://raw.githubusercontent.com/richardfoltyn/python-intro-PGR/main/data/ames_houses.csv).\n",
    "\n",
    "To load the data, you need to specify the file path depending on your computing environment:"
   ]
  },
  {
   "cell_type": "code",
   "execution_count": 1,
   "metadata": {},
   "outputs": [],
   "source": [
    "# Use this path to use the CSV file from the data/ directory\n",
    "file = '../data/ames_houses.csv'\n",
    "\n",
    "# Use this path if you want to download the file directly from Github\n",
    "# file = 'https://raw.githubusercontent.com/richardfoltyn/python-intro-PGR/main/data/ames_houses.csv'"
   ]
  },
  {
   "attachments": {},
   "cell_type": "markdown",
   "metadata": {},
   "source": [
    "You can load the CSV file as a pandas `DataFrame` as follows:"
   ]
  },
  {
   "cell_type": "code",
   "execution_count": 2,
   "metadata": {},
   "outputs": [
    {
     "name": "stdout",
     "output_type": "stream",
     "text": [
      "<class 'pandas.core.frame.DataFrame'>\n",
      "RangeIndex: 1460 entries, 0 to 1459\n",
      "Data columns (total 13 columns):\n",
      " #   Column            Non-Null Count  Dtype  \n",
      "---  ------            --------------  -----  \n",
      " 0   SalePrice         1460 non-null   float64\n",
      " 1   LotArea           1460 non-null   float64\n",
      " 2   Neighborhood      1460 non-null   object \n",
      " 3   BuildingType      1386 non-null   object \n",
      " 4   OverallQuality    1460 non-null   int64  \n",
      " 5   OverallCondition  1460 non-null   int64  \n",
      " 6   YearBuilt         1460 non-null   int64  \n",
      " 7   CentralAir        1460 non-null   object \n",
      " 8   LivingArea        1460 non-null   float64\n",
      " 9   Bathrooms         1460 non-null   int64  \n",
      " 10  Bedrooms          1460 non-null   int64  \n",
      " 11  Fireplaces        1460 non-null   int64  \n",
      " 12  HasGarage         1460 non-null   int64  \n",
      "dtypes: float64(3), int64(7), object(3)\n",
      "memory usage: 148.4+ KB\n"
     ]
    }
   ],
   "source": [
    "import pandas as pd\n",
    "\n",
    "df = pd.read_csv(file, sep=',')\n",
    "\n",
    "# Display columns in the data set\n",
    "df.info()"
   ]
  },
  {
   "attachments": {},
   "cell_type": "markdown",
   "metadata": {},
   "source": [
    "The included variables are a simplified subset of the data available at [openml.org](https://www.openml.org/d/42165):\n",
    "\n",
    "- `SalePrice`: House price in US dollars (float)\n",
    "- `LotArea`: Size of the lot in m² (float)\n",
    "- `Neighborhood`: Name of the neighborhood (string)\n",
    "- `BuildingType`: Type of building (categorical stored as string)\n",
    "- `OverallQuality`: Rates the overall condition of the house from (1) \"very poor\" to (10) \"excellent\" (integer)\n",
    "- `OverallCondition`: Rates the overall material and finish of the house from (1) \"very poor\" to (10) \"excellent\" (integer)\n",
    "- `YearBuilt`: Original construction date (integer)\n",
    "- `CentralAir`: Central air conditioning: Yes/No (categorical string)\n",
    "- `LivingArea`: Above-ground living area in m² (float)\n",
    "- `Bathrooms`: Number of bathrooms (integer)\n",
    "- `Bedrooms`: Number of bedrooms (integer)\n",
    "- `Fireplaces`: Number of fireplaces (integer)\n",
    "- `HasGarage`: Indicator whether house has a garage (integer)"
   ]
  },
  {
   "attachments": {},
   "cell_type": "markdown",
   "metadata": {},
   "source": [
    "# Data preprocessing\n",
    "\n",
    "Apply the following steps to preprocess the data before estimation:\n",
    "\n",
    "1. Drop all rows which contain any missing values (`NaN`)\n",
    "\n",
    "    *Hint:* Use [`dropna()`](https://pandas.pydata.org/docs/reference/api/pandas.DataFrame.dropna.html)\n",
    "    to remove rows with missing observations.\n",
    "\n",
    "2. Recode the string values in column `CentralAir` into numbers such that \n",
    "    `'N'` is mapped to 0 and `'Y'` is mapped to 1. Store this numerical variable\n",
    "    using the column name `HasCentralAir`.\n",
    "\n",
    "    *Hint:* You can use boolean operators such as `==` to create arrays\n",
    "    containing `True` and `False`. You can then convert these to integer\n",
    "    values 0 and 1 using `.astype(int)`:\n",
    "\n",
    "    ```python\n",
    "    (df['CentralAir] == 'Y').astype(int)\n",
    "    ```\n",
    "3. Recode the values in column `Fireplaces` and create the new variable `HasFireplace`\n",
    "    so that `HasFireplace = 1` whenever at least one fireplace is present and \n",
    "    `HasFireplace = 0` otherwise.\n",
    "4. Recode the string values in column `BuildingType` and create the new variable\n",
    "    `IsSingleFamily` which takes on the value 1 whenever a house is a \n",
    "    single-family home and 0 otherwise.\n",
    "5. Convert the variables `SalePrice`, `LivingArea` and `LotArea` to (natural) logs.\n",
    "    Name the transformed columns `logSalePrice`, `logLivingArea` and `logLotArea`."
   ]
  },
  {
   "attachments": {},
   "cell_type": "markdown",
   "metadata": {},
   "source": [
    "# Estimation\n",
    "\n",
    "## Model specification\n",
    "\n",
    "You are now asked to estimate the following model of house prices\n",
    "as a function of house characteristics:\n",
    "$$\n",
    "\\begin{aligned}\n",
    "\\log(SalePrice_i) \n",
    "    &= \\alpha + f\\Bigl(\\log(LivingArea_i), ~\n",
    "        \\log(LotArea_i), ~OverallCondition_i, \\\\\n",
    "    & \\qquad \\qquad \\qquad  OverallQuality_i,~ \n",
    "    Bathrooms_i,~ Bedrooms_i\\Bigr) \\\\\n",
    "    &+ \\gamma_0 YearBuilt_i + \n",
    "    \\gamma_1 HasCentralAir_i + \n",
    "    \\gamma_2 HasFireplace_i + \n",
    "    \\gamma_3 IsSingleFamily_i + \n",
    "    \\epsilon_i\n",
    "\\end{aligned}\n",
    "$$\n",
    "where $i$ indexes observations and $\\epsilon$ is an additive error term.\n",
    "The function $f(\\bullet)$ is a *polynomial of degree 3* in its\n",
    "arguments, i.e., it includes all terms and interactions of the given variables\n",
    "where the exponents sum to 3 or less:\n",
    "$$\n",
    "\\begin{aligned}\n",
    "f(\\log(LivingArea_i), \\log(LotArea_i), \\dots)\n",
    "    &= \\beta_0 \\log(LivingArea_i) \n",
    "    + \\beta_1 \\log(LivingArea_i)^2 \\\\\n",
    "    &+ \\beta_2 \\log(LivingArea_i)^3 \n",
    "    + \\beta_3 \\log(LotArea_i) \\\\\n",
    "    &+ \\beta_4 \\log(LotArea_i)^2\n",
    "    + \\beta_5 \\log(LotArea_i)^3 \\\\\n",
    "    &+ \\beta_6 \\log(LivingArea_i)\\log(LotArea_i) \\\\\n",
    "    &+ \\beta_7 \\log(LivingArea_i)^2 \\log(LotArea_i) \\\\\n",
    "    &+ \\beta_8 \\log(LivingArea_i) \\log(LotArea_i)^2 \\\\\n",
    "    &+ \\cdots \n",
    "\\end{aligned}\n",
    "$$"
   ]
  },
  {
   "attachments": {},
   "cell_type": "markdown",
   "metadata": {},
   "source": [
    "Create a feature matrix `X` which contains all polynomial interactions as well as the remaining non-interacted variables.\n",
    "\n",
    "*Hints:* \n",
    "\n",
    "- Use the \n",
    "[`PolynomialFeatures`](https://scikit-learn.org/stable/modules/generated/sklearn.preprocessing.PolynomialFeatures.html)\n",
    "transformation to create the polynomial terms and interactions from the columns\n",
    "    `logLivingArea`, `logLotArea`, \n",
    "    `OverallCondition`, `OverallQuality`, \n",
    "    `Bathrooms` and  `Bedrooms`.\n",
    "- Make sure that the generated polynomial does *not* contain a \n",
    "constant (\"bias\"). You should include the intercept when estimating a model instead.\n",
    "- You can use [`np.hstack()`](https://numpy.org/doc/stable/reference/generated/numpy.hstack.html) to concatenate two matrices (the polynomials and the remaining covariates) along the column dimension.\n",
    "- The complete feature matrix `X` should contain a total of 87 columns (83 polynomial interactions and 4 non-polynomial features)."
   ]
  },
  {
   "attachments": {},
   "cell_type": "markdown",
   "metadata": {},
   "source": [
    "## Train-test sample split\n",
    "\n",
    "Split the data into a training and a test subset such that the training\n",
    "sample contains 70% of observations.\n",
    "\n",
    "*Hint:* \n",
    "\n",
    "- Use the function [`train_test_split()`](https://scikit-learn.org/stable/modules/generated/sklearn.model_selection.train_test_split.html) to split the sample.\n",
    "    Pass the argument `random_state=123` to get reproducible results.\n",
    "- Make sure to define the training and test samples only *once* so that they are identical for all estimators used below. "
   ]
  },
  {
   "attachments": {},
   "cell_type": "markdown",
   "metadata": {},
   "source": [
    "## Linear regression\n",
    "\n",
    "Perform the following tasks:\n",
    "\n",
    "1. Do you need to standardise features before estimating a linear regression model? Does the linear regression model have any hyperparameters?\n",
    "2. Estimate the above model specification using a linear regression model on the training sub-set. \n",
    "3. Compute and report the mean squared error (MSE) on the test sample.\n",
    "\n",
    "*Hints:*\n",
    "\n",
    "- Use the [`LinearRegression`](https://scikit-learn.org/stable/modules/generated/sklearn.linear_model.LinearRegression.html) class to estimate the model.\n",
    "- The mean squared error can be computed with [`mean_squared_error()`](https://scikit-learn.org/stable/modules/generated/sklearn.metrics.mean_squared_error.html)."
   ]
  },
  {
   "attachments": {},
   "cell_type": "markdown",
   "metadata": {},
   "source": [
    "## Ridge regression\n",
    "\n",
    "Perform the following tasks:\n",
    "\n",
    "1. Does Ridge regression require feature standardisation? If so, don't forget to apply it before fitting the model.\n",
    "2. Use [`RidgeCV`](https://scikit-learn.org/stable/modules/generated/sklearn.linear_model.RidgeCV.html)\n",
    "    to determine the best regularisation strength $\\alpha$ on the training sub-sample.\n",
    "    You can use the MSE metric (the default) to find the optimal $\\alpha$.\n",
    "    Report the optimal $\\alpha$ and the corresponding MSE.\n",
    "3. Plot the MSE (averaged over folds on the training sub-sample) against the regularisation strength $\\alpha$ on the $x$-axis (use a log scale for the $x$-axis).\n",
    "4. Compute and report the MSE on the test sample.\n",
    "\n",
    "*Hints:* \n",
    "\n",
    "- When running `RidgeCV`, use a grid of 500 $\\alpha$'s which are spaced uniformly in logs:\n",
    "    ```python\n",
    "    alphas = np.logspace(np.log10(1.0e-6), np.log10(100), 500)\n",
    "    ```\n",
    "- Recall that the (negative!) best MSE is stored in the attribute `best_score_` after cross-validation is complete."
   ]
  },
  {
   "attachments": {},
   "cell_type": "markdown",
   "metadata": {},
   "source": [
    "## Lasso\n",
    "\n",
    "Perform the following tasks:\n",
    "\n",
    "1. Does Lasso require feature standardisation? If so, don't forget to apply it before fitting the model.\n",
    "2. Use [`LassoCV`](https://scikit-learn.org/stable/modules/generated/sklearn.linear_model.LassoCV.html)\n",
    "    to determine the best regularisation strength $\\alpha$ on the training sub-sample\n",
    "    using cross-validation with 5 folds.\n",
    "    You can use the MSE metric (the default) to find the optimal $\\alpha$.\n",
    "    Report the optimal $\\alpha$ and the corresponding MSE.\n",
    "3. Plot the MSE (averaged over folds on the training sub-sample) against the regularisation strength $\\alpha$ on the $x$-axis (use a log scale for the $x$-axis).\n",
    "4. Compute and report the MSE on the test sample for the model using the optimal $\\alpha$.\n",
    "5. Report the number of non-zero coefficients for the model using the optimal $\\alpha$.\n",
    "\n",
    "*Hints:* \n",
    "\n",
    "- Getting Lasso to converge may require some experimentation. The following settings should help: increase the max. number of iterations to `max_iter=1000000` and use `selection='random'`. Set `random_state=123` to get reproducible results:\n",
    "\n",
    "    ```python\n",
    "    LassoCV(..., max_iter=1000000, selection='random', random_state=123)\n",
    "    ```\n",
    "- Use `eps=1.0e-4` as an argument to `LassoCV` to specify the ratio of the smallest to the largest $\\alpha$.\n",
    "- After cross-validation is complete, the MSE for each value of $\\alpha$ and each fold are stored in the attribute `mse_path_` which is an array with shape `(N_ALPHA, N_FOLDS)`."
   ]
  },
  {
   "attachments": {},
   "cell_type": "markdown",
   "metadata": {},
   "source": [
    "## Compare estimation results\n",
    "\n",
    "Create a table which contains the MSE computed on the test sample for all three models (using their optimal hyperparameters). Which model yields the lowest MSE?"
   ]
  }
 ],
 "metadata": {
  "kernelspec": {
   "display_name": "Python 3.10.4 ('py3-default')",
   "language": "python",
   "name": "python3"
  },
  "language_info": {
   "codemirror_mode": {
    "name": "ipython",
    "version": 3
   },
   "file_extension": ".py",
   "mimetype": "text/x-python",
   "name": "python",
   "nbconvert_exporter": "python",
   "pygments_lexer": "ipython3",
   "version": "3.10.11"
  },
  "orig_nbformat": 4,
  "vscode": {
   "interpreter": {
    "hash": "89692ee4bd8d7a7842eb7c7050f10ae8c4113955275de7625334d5364ea86119"
   }
  }
 },
 "nbformat": 4,
 "nbformat_minor": 2
}
