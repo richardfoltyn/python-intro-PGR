{
 "cells": [
  {
   "attachments": {},
   "cell_type": "markdown",
   "metadata": {},
   "source": [
    "# Daily returns of US stock market indices\n",
    "\n",
    "In this lab, we examine how the three major US stock market indices performed this year using data from Yahoo! Finance."
   ]
  },
  {
   "attachments": {},
   "cell_type": "markdown",
   "metadata": {},
   "source": [
    "# Download data from Yahoo! Finance\n",
    "\n",
    "Use the [`yfinance`](https://pypi.org/project/yfinance/) library and its `download()` \n",
    "function to obtain the time series of daily observations for the \n",
    "[S&P 500](https://en.wikipedia.org/wiki/S%26P_500), the \n",
    "[Dow Jones Industrial Average (DJIA)](https://en.wikipedia.org/wiki/Dow_Jones_Industrial_Average) \n",
    "and the \n",
    "[NASDAQ Composite](https://en.wikipedia.org/wiki/Nasdaq_Composite) \n",
    "indices. \n",
    "Restrict the sample to the period from 2023-01-01 to 2023-04-30\n",
    "and keep only the closing price stored in column `Close`.\n",
    "\n",
    "_Hint_: The corresponding ticker symbols are `^GSPC`, `^DJI`, `^IXIC`, respectively.\n",
    "\n",
    "Rename the DataFrame columns to `'SP500'`, `'Dow Jones'` and `'NASDAQ'` using the \n",
    "[`rename()`](https://pandas.pydata.org/docs/reference/api/pandas.DataFrame.rename.html) \n",
    "method.\n",
    "\n",
    "_Hint_: You may need to first install `yfinance` as follows (in particular when running on Google Colab):"
   ]
  },
  {
   "cell_type": "code",
   "execution_count": 1,
   "metadata": {},
   "outputs": [],
   "source": [
    "# Uncomment this to install yfinance in your Python environment\n",
    "#! pip install yfinance"
   ]
  },
  {
   "attachments": {},
   "cell_type": "markdown",
   "metadata": {},
   "source": [
    "*Note:* If you cannot import `yfinance`, e.g., because you are using the Jupyter Lite environment, you can load the data from a the CSV file located in the same directory as this notebook as follows:\n",
    "\n",
    "```python\n",
    "import pandas as pd\n",
    "\n",
    "# Uncomment this to use file in local directory\n",
    "DATA_PATH = '.'\n",
    "\n",
    "# Uncomment this to load data directly from GitHub\n",
    "# DATA_PATH = 'https://raw.githubusercontent.com/richardfoltyn/python-intro-PGR/main/labs'\n",
    "\n",
    "data = pd.read_csv(\n",
    "    f'{DATA_PATH}/US-stock-indices.csv', \n",
    "    index_col='Date', \n",
    "    parse_dates=True\n",
    ")\n",
    "```"
   ]
  },
  {
   "attachments": {},
   "cell_type": "markdown",
   "metadata": {},
   "source": [
    "# Plot daily closing prices\n",
    "\n",
    "Plot the three time series (one for each index) in a single graph. Label all axes and make sure your graph contains a legend.\n",
    "\n",
    "_Hint:_ You can directly use the [`DataFrame.plot()`](https://pandas.pydata.org/docs/reference/api/pandas.DataFrame.plot.html) \n",
    "method implemented in `pandas`."
   ]
  },
  {
   "attachments": {},
   "cell_type": "markdown",
   "metadata": {},
   "source": [
    "# Plot normalised daily closing prices\n",
    "\n",
    "The graph you created in the previous sub-question is not well-suited to illustrate how each index developed in 2023 since the indices are reported on vastly different scales (the S&P500 appears to be an almost flat line).\n",
    "\n",
    "To get a better idea about how each index fared in 2023 relative to its value at the beginning of the year, normalize each index by its value on the first trading day in 2023 (which was 2023-01-03). Plot the resulting normalised indices."
   ]
  },
  {
   "attachments": {},
   "cell_type": "markdown",
   "metadata": {},
   "source": [
    "# Compute and plot the daily returns\n",
    "\n",
    "For each index, compute the daily returns, i.e., the relative change vs. the previous closing price in percent.\n",
    "\n",
    "Create a plot of the daily returns for all indices."
   ]
  },
  {
   "attachments": {},
   "cell_type": "markdown",
   "metadata": {},
   "source": [
    "# Plot the distributions of daily returns\n",
    "\n",
    "Compute the average daily returns and the volatility (standard deviation) for each index. Create a histogram of daily returns for each index using 25 bins (i.e., create a figure with 3 panels). \n",
    "For each histogram, add the density of a normal distribution that has the same mean and variance.\n",
    "\n",
    "*Hint:* You can either use [`DataFrame.hist()`](https://pandas.pydata.org/docs/reference/api/pandas.DataFrame.hist.html) to plot the histogram, or Matplotlib's [`hist()`](https://matplotlib.org/stable/api/_as_gen/matplotlib.pyplot.hist.html#matplotlib.pyplot.hist) function. In either case, you should add `density=True` such that the histogram is appropriately rescaled and comparable to the normal density.\n",
    "\n",
    "*Hint:* Use the `pdf()` method of the [`scipy.stats.norm`](https://docs.scipy.org/doc/scipy/reference/generated/scipy.stats.norm.html#scipy.stats.norm) class to compute the normal density."
   ]
  },
  {
   "attachments": {},
   "cell_type": "markdown",
   "metadata": {},
   "source": [
    "# Compute and plot the pairwise correlations\n",
    "\n",
    "Compute the pairwise correlations between the daily returns of each index pair. Create a 3-by-3 graph where each panel contains a bivariate scatter plot of the daily returns of one index vs. another.\n",
    "\n",
    "*Hint:* You can use the function [`scatter_matrix()`](https://pandas.pydata.org/docs/reference/api/pandas.plotting.scatter_matrix.html) to accomplish this task. Alternatively, you can create a figure with 3-by-3 subplots using Matplotlib's \n",
    "[`subplots()`](https://matplotlib.org/stable/api/_as_gen/matplotlib.pyplot.subplots.html), iterate over all rows and columns and add a [`scatter()`](https://matplotlib.org/stable/api/_as_gen/matplotlib.pyplot.scatter.html) plot to each `axes` object."
   ]
  }
 ],
 "metadata": {
  "kernelspec": {
   "display_name": "Python 3.10.4 ('py3-default')",
   "language": "python",
   "name": "python3"
  },
  "language_info": {
   "codemirror_mode": {
    "name": "ipython",
    "version": 3
   },
   "file_extension": ".py",
   "mimetype": "text/x-python",
   "name": "python",
   "nbconvert_exporter": "python",
   "pygments_lexer": "ipython3",
   "version": "3.10.11"
  },
  "orig_nbformat": 4,
  "vscode": {
   "interpreter": {
    "hash": "89692ee4bd8d7a7842eb7c7050f10ae8c4113955275de7625334d5364ea86119"
   }
  }
 },
 "nbformat": 4,
 "nbformat_minor": 2
}
