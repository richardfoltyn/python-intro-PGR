{
 "cells": [
  {
   "attachments": {},
   "cell_type": "markdown",
   "metadata": {},
   "source": [
    "# Predicting house prices with linear models\n",
    "\n",
    "In this project, you will work with the Ames house data set which we already encountered in the lectures. Your task is to evaluate the following three linear models in terms of their performance when predicting house prices:\n",
    "\n",
    "1. Linear regression\n",
    "2. Ridge regression\n",
    "3. Lasso"
   ]
  },
  {
   "attachments": {},
   "cell_type": "markdown",
   "metadata": {},
   "source": [
    "*General hints:*\n",
    "\n",
    "1. Whenever a computation involves random number generation, initialise the seed to `123` to get reproducible results. Specifically, for `scikit-learn` functions this requires passing `random_state=123` where applicable."
   ]
  },
  {
   "attachments": {},
   "cell_type": "markdown",
   "metadata": {},
   "source": [
    "## Data description\n",
    "\n",
    "The data is stored in [`data/ames_houses.csv`](../data/ames_houses.csv) in the course [GitHub repository](https://github.com/richardfoltyn/python-intro-PGR) and can be downloaded using the link\n",
    "[https://raw.githubusercontent.com/richardfoltyn/python-intro-PGR/main/data/ames_houses.csv](https://raw.githubusercontent.com/richardfoltyn/python-intro-PGR/main/data/ames_houses.csv).\n",
    "\n",
    "To load the data, you need to specify the file path depending on your computing environment:"
   ]
  },
  {
   "cell_type": "code",
   "execution_count": 1,
   "metadata": {},
   "outputs": [],
   "source": [
    "# Use this path to use the CSV file from the data/ directory\n",
    "file = '../data/ames_houses.csv'\n",
    "\n",
    "# Use this path if you want to download the file directly from Github\n",
    "# file = 'https://raw.githubusercontent.com/richardfoltyn/python-intro-PGR/main/data/ames_houses.csv'"
   ]
  },
  {
   "attachments": {},
   "cell_type": "markdown",
   "metadata": {},
   "source": [
    "You can load the CSV file as a pandas `DataFrame` as follows:"
   ]
  },
  {
   "cell_type": "code",
   "execution_count": 2,
   "metadata": {},
   "outputs": [
    {
     "name": "stdout",
     "output_type": "stream",
     "text": [
      "<class 'pandas.core.frame.DataFrame'>\n",
      "RangeIndex: 1460 entries, 0 to 1459\n",
      "Data columns (total 13 columns):\n",
      " #   Column            Non-Null Count  Dtype  \n",
      "---  ------            --------------  -----  \n",
      " 0   SalePrice         1460 non-null   float64\n",
      " 1   LotArea           1460 non-null   float64\n",
      " 2   Neighborhood      1460 non-null   object \n",
      " 3   BuildingType      1386 non-null   object \n",
      " 4   OverallQuality    1460 non-null   int64  \n",
      " 5   OverallCondition  1460 non-null   int64  \n",
      " 6   YearBuilt         1460 non-null   int64  \n",
      " 7   CentralAir        1460 non-null   object \n",
      " 8   LivingArea        1460 non-null   float64\n",
      " 9   Bathrooms         1460 non-null   int64  \n",
      " 10  Bedrooms          1460 non-null   int64  \n",
      " 11  Fireplaces        1460 non-null   int64  \n",
      " 12  HasGarage         1460 non-null   int64  \n",
      "dtypes: float64(3), int64(7), object(3)\n",
      "memory usage: 148.4+ KB\n"
     ]
    }
   ],
   "source": [
    "import pandas as pd\n",
    "\n",
    "df = pd.read_csv(file, sep=',')\n",
    "\n",
    "# Display columns in the data set\n",
    "df.info()"
   ]
  },
  {
   "attachments": {},
   "cell_type": "markdown",
   "metadata": {},
   "source": [
    "The included variables are a simplified subset of the data available at [openml.org](https://www.openml.org/d/42165):\n",
    "\n",
    "- `SalePrice`: House price in US dollars (float)\n",
    "- `LotArea`: Size of the lot in m² (float)\n",
    "- `Neighborhood`: Name of the neighborhood (string)\n",
    "- `BuildingType`: Type of building (categorical stored as string)\n",
    "- `OverallQuality`: Rates the overall condition of the house from (1) \"very poor\" to (10) \"excellent\" (integer)\n",
    "- `OverallCondition`: Rates the overall material and finish of the house from (1) \"very poor\" to (10) \"excellent\" (integer)\n",
    "- `YearBuilt`: Original construction date (integer)\n",
    "- `CentralAir`: Central air conditioning: Yes/No (categorical string)\n",
    "- `LivingArea`: Above-ground living area in m² (float)\n",
    "- `Bathrooms`: Number of bathrooms (integer)\n",
    "- `Bedrooms`: Number of bedrooms (integer)\n",
    "- `Fireplaces`: Number of fireplaces (integer)\n",
    "- `HasGarage`: Indicator whether house has a garage (integer)"
   ]
  },
  {
   "attachments": {},
   "cell_type": "markdown",
   "metadata": {},
   "source": [
    "# Data preprocessing\n",
    "\n",
    "Apply the following steps to preprocess the data before estimation:\n",
    "\n",
    "1. Drop all rows which contain any missing values (`NaN`)\n",
    "\n",
    "    *Hint:* Use [`dropna()`](https://pandas.pydata.org/docs/reference/api/pandas.DataFrame.dropna.html)\n",
    "    to remove rows with missing observations.\n",
    "\n",
    "2. Recode the string values in column `CentralAir` into numbers such that \n",
    "    `'N'` is mapped to 0 and `'Y'` is mapped to 1. Store this numerical variable\n",
    "    using the column name `HasCentralAir`.\n",
    "\n",
    "    *Hint:* You can use boolean operators such as `==` to create arrays\n",
    "    containing `True` and `False`. You can then convert these to integer\n",
    "    values 0 and 1 using `.astype(int)`:\n",
    "\n",
    "    ```python\n",
    "    (df['CentralAir] == 'Y').astype(int)\n",
    "    ```\n",
    "3. Recode the values in column `Fireplaces` and create the new variable `HasFireplace`\n",
    "    so that `HasFireplace = 1` whenever at least one fireplace is present and \n",
    "    `HasFireplace = 0` otherwise.\n",
    "4. Recode the string values in column `BuildingType` and create the new variable\n",
    "    `IsSingleFamily` which takes on the value 1 whenever a house is a \n",
    "    single-family home and 0 otherwise.\n",
    "5. Convert the variables `SalePrice`, `LivingArea` and `LotArea` to (natural) logs.\n",
    "    Name the transformed columns `logSalePrice`, `logLivingArea` and `logLotArea`."
   ]
  },
  {
   "attachments": {},
   "cell_type": "markdown",
   "metadata": {},
   "source": [
    "#### Solution\n",
    "\n",
    "1. Drop missing observations:"
   ]
  },
  {
   "cell_type": "code",
   "execution_count": 3,
   "metadata": {},
   "outputs": [
    {
     "name": "stdout",
     "output_type": "stream",
     "text": [
      "Number of observations dropped: 74\n"
     ]
    }
   ],
   "source": [
    "# Initial number of observations\n",
    "Nobs = len(df)\n",
    "\n",
    "# Drop rows with any missing observation\n",
    "df = df.dropna()\n",
    "\n",
    "print(f'Number of observations dropped: {Nobs - len(df)}')"
   ]
  },
  {
   "attachments": {},
   "cell_type": "markdown",
   "metadata": {},
   "source": [
    "2. Recode string variable `CentralAir`:"
   ]
  },
  {
   "cell_type": "code",
   "execution_count": 4,
   "metadata": {},
   "outputs": [
    {
     "data": {
      "text/plain": [
       "Y    1306\n",
       "N      80\n",
       "Name: CentralAir, dtype: int64"
      ]
     },
     "execution_count": 4,
     "metadata": {},
     "output_type": "execute_result"
    }
   ],
   "source": [
    "# Tabulate frequency of string values\n",
    "df['CentralAir'].value_counts(dropna=False)"
   ]
  },
  {
   "attachments": {},
   "cell_type": "markdown",
   "metadata": {},
   "source": [
    "One way to convert categorical strings to an indicator variable is as follows:"
   ]
  },
  {
   "cell_type": "code",
   "execution_count": 5,
   "metadata": {},
   "outputs": [
    {
     "data": {
      "text/html": [
       "<div>\n",
       "<style scoped>\n",
       "    .dataframe tbody tr th:only-of-type {\n",
       "        vertical-align: middle;\n",
       "    }\n",
       "\n",
       "    .dataframe tbody tr th {\n",
       "        vertical-align: top;\n",
       "    }\n",
       "\n",
       "    .dataframe thead th {\n",
       "        text-align: right;\n",
       "    }\n",
       "</style>\n",
       "<table border=\"1\" class=\"dataframe\">\n",
       "  <thead>\n",
       "    <tr style=\"text-align: right;\">\n",
       "      <th>CentralAir</th>\n",
       "      <th>N</th>\n",
       "      <th>Y</th>\n",
       "    </tr>\n",
       "    <tr>\n",
       "      <th>HasCentralAir</th>\n",
       "      <th></th>\n",
       "      <th></th>\n",
       "    </tr>\n",
       "  </thead>\n",
       "  <tbody>\n",
       "    <tr>\n",
       "      <th>0</th>\n",
       "      <td>80</td>\n",
       "      <td>0</td>\n",
       "    </tr>\n",
       "    <tr>\n",
       "      <th>1</th>\n",
       "      <td>0</td>\n",
       "      <td>1306</td>\n",
       "    </tr>\n",
       "  </tbody>\n",
       "</table>\n",
       "</div>"
      ],
      "text/plain": [
       "CentralAir      N     Y\n",
       "HasCentralAir          \n",
       "0              80     0\n",
       "1               0  1306"
      ]
     },
     "execution_count": 5,
     "metadata": {},
     "output_type": "execute_result"
    }
   ],
   "source": [
    "\n",
    "\n",
    "# Convert to indicator variable\n",
    "df['HasCentralAir'] = (df['CentralAir'] == 'Y').astype(int)\n",
    "\n",
    "# Cross-tabulate to make sure recoding worked as intended\n",
    "pd.crosstab(df['HasCentralAir'], df['CentralAir'])\n"
   ]
  },
  {
   "attachments": {},
   "cell_type": "markdown",
   "metadata": {},
   "source": [
    "3. Recode `Fireplaces` to an indicator variable:"
   ]
  },
  {
   "cell_type": "code",
   "execution_count": 6,
   "metadata": {},
   "outputs": [
    {
     "data": {
      "text/html": [
       "<div>\n",
       "<style scoped>\n",
       "    .dataframe tbody tr th:only-of-type {\n",
       "        vertical-align: middle;\n",
       "    }\n",
       "\n",
       "    .dataframe tbody tr th {\n",
       "        vertical-align: top;\n",
       "    }\n",
       "\n",
       "    .dataframe thead th {\n",
       "        text-align: right;\n",
       "    }\n",
       "</style>\n",
       "<table border=\"1\" class=\"dataframe\">\n",
       "  <thead>\n",
       "    <tr style=\"text-align: right;\">\n",
       "      <th>Fireplaces</th>\n",
       "      <th>0</th>\n",
       "      <th>1</th>\n",
       "      <th>2</th>\n",
       "      <th>3</th>\n",
       "    </tr>\n",
       "    <tr>\n",
       "      <th>HasFireplace</th>\n",
       "      <th></th>\n",
       "      <th></th>\n",
       "      <th></th>\n",
       "      <th></th>\n",
       "    </tr>\n",
       "  </thead>\n",
       "  <tbody>\n",
       "    <tr>\n",
       "      <th>0</th>\n",
       "      <td>637</td>\n",
       "      <td>0</td>\n",
       "      <td>0</td>\n",
       "      <td>0</td>\n",
       "    </tr>\n",
       "    <tr>\n",
       "      <th>1</th>\n",
       "      <td>0</td>\n",
       "      <td>632</td>\n",
       "      <td>112</td>\n",
       "      <td>5</td>\n",
       "    </tr>\n",
       "  </tbody>\n",
       "</table>\n",
       "</div>"
      ],
      "text/plain": [
       "Fireplaces      0    1    2  3\n",
       "HasFireplace                  \n",
       "0             637    0    0  0\n",
       "1               0  632  112  5"
      ]
     },
     "execution_count": 6,
     "metadata": {},
     "output_type": "execute_result"
    }
   ],
   "source": [
    "# Any positive number of fireplaces is mapped to 1\n",
    "df['HasFireplace'] = (df['Fireplaces'] > 0).astype(int)\n",
    "\n",
    "# Cross-tabulate to make sure recoding worked as intended\n",
    "pd.crosstab(df['HasFireplace'], df['Fireplaces'])"
   ]
  },
  {
   "attachments": {},
   "cell_type": "markdown",
   "metadata": {},
   "source": [
    "4. Recode `BuildingType` to an indicator for single-family home:"
   ]
  },
  {
   "cell_type": "code",
   "execution_count": 7,
   "metadata": {},
   "outputs": [
    {
     "data": {
      "text/plain": [
       "Single-family    1220\n",
       "Townhouse         114\n",
       "Two-family         52\n",
       "Name: BuildingType, dtype: int64"
      ]
     },
     "execution_count": 7,
     "metadata": {},
     "output_type": "execute_result"
    }
   ],
   "source": [
    "# Tabulate original string values\n",
    "df['BuildingType'].value_counts(dropna=False)"
   ]
  },
  {
   "cell_type": "code",
   "execution_count": 8,
   "metadata": {},
   "outputs": [
    {
     "data": {
      "text/html": [
       "<div>\n",
       "<style scoped>\n",
       "    .dataframe tbody tr th:only-of-type {\n",
       "        vertical-align: middle;\n",
       "    }\n",
       "\n",
       "    .dataframe tbody tr th {\n",
       "        vertical-align: top;\n",
       "    }\n",
       "\n",
       "    .dataframe thead th {\n",
       "        text-align: right;\n",
       "    }\n",
       "</style>\n",
       "<table border=\"1\" class=\"dataframe\">\n",
       "  <thead>\n",
       "    <tr style=\"text-align: right;\">\n",
       "      <th>BuildingType</th>\n",
       "      <th>Single-family</th>\n",
       "      <th>Townhouse</th>\n",
       "      <th>Two-family</th>\n",
       "    </tr>\n",
       "    <tr>\n",
       "      <th>IsSingleFamily</th>\n",
       "      <th></th>\n",
       "      <th></th>\n",
       "      <th></th>\n",
       "    </tr>\n",
       "  </thead>\n",
       "  <tbody>\n",
       "    <tr>\n",
       "      <th>0</th>\n",
       "      <td>0</td>\n",
       "      <td>114</td>\n",
       "      <td>52</td>\n",
       "    </tr>\n",
       "    <tr>\n",
       "      <th>1</th>\n",
       "      <td>1220</td>\n",
       "      <td>0</td>\n",
       "      <td>0</td>\n",
       "    </tr>\n",
       "  </tbody>\n",
       "</table>\n",
       "</div>"
      ],
      "text/plain": [
       "BuildingType    Single-family  Townhouse  Two-family\n",
       "IsSingleFamily                                      \n",
       "0                           0        114          52\n",
       "1                        1220          0           0"
      ]
     },
     "execution_count": 8,
     "metadata": {},
     "output_type": "execute_result"
    }
   ],
   "source": [
    "# Create indicator variable\n",
    "df['IsSingleFamily'] = (df['BuildingType'] == 'Single-family').astype(int)\n",
    "\n",
    "# Cross-tabulate to make sure recoding worked as intended\n",
    "pd.crosstab(df['IsSingleFamily'], df['BuildingType'])"
   ]
  },
  {
   "attachments": {},
   "cell_type": "markdown",
   "metadata": {},
   "source": [
    "5. Create logged variables"
   ]
  },
  {
   "cell_type": "code",
   "execution_count": 9,
   "metadata": {},
   "outputs": [],
   "source": [
    "import numpy as np\n",
    "\n",
    "columns = ['SalePrice', 'LivingArea', 'LotArea']\n",
    "\n",
    "# Create logged values\n",
    "for col in columns:\n",
    "    df[f'log{col}'] = np.log(df[col])\n",
    "    # Make sure that no NaNs were generated \n",
    "    # (otherwise we'd need to drop those rows)\n",
    "    assert df[f'log{col}'].notna().all()"
   ]
  },
  {
   "attachments": {},
   "cell_type": "markdown",
   "metadata": {},
   "source": [
    "# Estimation\n",
    "\n",
    "## Model specification\n",
    "\n",
    "You are now asked to estimate the following model of house prices\n",
    "as a function of house characteristics:\n",
    "$$\n",
    "\\begin{aligned}\n",
    "\\log(SalePrice_i) \n",
    "    &= \\alpha + f\\Bigl(\\log(LivingArea_i), ~\n",
    "        \\log(LotArea_i), ~OverallCondition_i, \\\\\n",
    "    & \\qquad \\qquad \\qquad  OverallQuality_i,~ \n",
    "    Bathrooms_i,~ Bedrooms_i\\Bigr) \\\\\n",
    "    &+ \\gamma_0 YearBuilt_i + \n",
    "    \\gamma_1 HasCentralAir_i + \n",
    "    \\gamma_2 HasFireplace_i + \n",
    "    \\gamma_3 IsSingleFamily_i + \n",
    "    \\epsilon_i\n",
    "\\end{aligned}\n",
    "$$\n",
    "where $i$ indexes observations and $\\epsilon$ is an additive error term.\n",
    "The function $f(\\bullet)$ is a *polynomial of degree 3* in its\n",
    "arguments, i.e., it includes all terms and interactions of the given variables\n",
    "where the exponents sum to 3 or less:\n",
    "$$\n",
    "\\begin{aligned}\n",
    "f(\\log(LivingArea_i), \\log(LotArea_i), \\dots)\n",
    "    &= \\beta_0 \\log(LivingArea_i) \n",
    "    + \\beta_1 \\log(LivingArea_i)^2 \\\\\n",
    "    &+ \\beta_2 \\log(LivingArea_i)^3 \n",
    "    + \\beta_3 \\log(LotArea_i) \\\\\n",
    "    &+ \\beta_4 \\log(LotArea_i)^2\n",
    "    + \\beta_5 \\log(LotArea_i)^3 \\\\\n",
    "    &+ \\beta_6 \\log(LivingArea_i)\\log(LotArea_i) \\\\\n",
    "    &+ \\beta_7 \\log(LivingArea_i)^2 \\log(LotArea_i) \\\\\n",
    "    &+ \\beta_8 \\log(LivingArea_i) \\log(LotArea_i)^2 \\\\\n",
    "    &+ \\cdots \n",
    "\\end{aligned}\n",
    "$$"
   ]
  },
  {
   "attachments": {},
   "cell_type": "markdown",
   "metadata": {},
   "source": [
    "Create a feature matrix `X` which contains all polynomial interactions as well as the remaining non-interacted variables.\n",
    "\n",
    "*Hints:* \n",
    "\n",
    "- Use the \n",
    "[`PolynomialFeatures`](https://scikit-learn.org/stable/modules/generated/sklearn.preprocessing.PolynomialFeatures.html)\n",
    "transformation to create the polynomial terms and interactions from the columns\n",
    "    `logLivingArea`, `logLotArea`, \n",
    "    `OverallCondition`, `OverallQuality`, \n",
    "    `Bathrooms` and  `Bedrooms`.\n",
    "- Make sure that the generated polynomial does *not* contain a \n",
    "constant (\"bias\"). You should include the intercept when estimating a model instead.\n",
    "- You can use [`np.hstack()`](https://numpy.org/doc/stable/reference/generated/numpy.hstack.html) to concatenate two matrices (the polynomials and the remaining covariates) along the column dimension.\n",
    "- The complete feature matrix `X` should contain a total of 87 columns (83 polynomial interactions and 4 non-polynomial features)."
   ]
  },
  {
   "attachments": {},
   "cell_type": "markdown",
   "metadata": {},
   "source": [
    "#### Solution"
   ]
  },
  {
   "cell_type": "code",
   "execution_count": 10,
   "metadata": {},
   "outputs": [
    {
     "name": "stdout",
     "output_type": "stream",
     "text": [
      "Number of polynomial features: 83\n",
      "Number of non-polynomial features: 4\n",
      "Number of observations: 1386\n"
     ]
    }
   ],
   "source": [
    "from sklearn.preprocessing import PolynomialFeatures\n",
    "\n",
    "# Endogenous (target) variable\n",
    "target = 'logSalePrice'\n",
    "\n",
    "# Features included as polynomials\n",
    "features_poly = [\n",
    "    'logLivingArea', 'logLotArea', \n",
    "    'OverallCondition', 'OverallQuality', \n",
    "    'Bathrooms', 'Bedrooms'\n",
    "]\n",
    "\n",
    "# Other features not included in polynomials\n",
    "features_other = [\n",
    "    'YearBuilt',\n",
    "    'HasCentralAir', 'HasFireplace', 'IsSingleFamily'\n",
    "]\n",
    "\n",
    "# Keep only columns that are used to estimate model\n",
    "columns = [target] + features_poly + features_other\n",
    "df = df[columns]\n",
    "\n",
    "# Response variable\n",
    "y = df[target].to_numpy()\n",
    "\n",
    "# Create polynomials of degree 3 or less, excluding intercept\n",
    "poly = PolynomialFeatures(degree=3, include_bias=False)\n",
    "X_poly = poly.fit_transform(df[features_poly].to_numpy())\n",
    "print(f'Number of polynomial features: {X_poly.shape[1]}')\n",
    "\n",
    "# Remaining features that are not use in polynomial\n",
    "X_other = df[features_other].to_numpy()\n",
    "print(f'Number of non-polynomial features: {X_other.shape[1]}')\n",
    "\n",
    "# Create final feature matrix\n",
    "X = np.hstack((X_poly, X_other))\n",
    "\n",
    "# Print number of observations in final sample\n",
    "print(f'Number of observations: {X.shape[0]}')"
   ]
  },
  {
   "attachments": {},
   "cell_type": "markdown",
   "metadata": {},
   "source": [
    "## Train-test sample split\n",
    "\n",
    "Split the data into a training and a test subset such that the training\n",
    "sample contains 70% of observations.\n",
    "\n",
    "*Hint:* \n",
    "\n",
    "- Use the function [`train_test_split()`](https://scikit-learn.org/stable/modules/generated/sklearn.model_selection.train_test_split.html) to split the sample.\n",
    "    Pass the argument `random_state=123` to get reproducible results.\n",
    "- Make sure to define the training and test samples only *once* so that they are identical for all estimators used below. "
   ]
  },
  {
   "attachments": {},
   "cell_type": "markdown",
   "metadata": {},
   "source": [
    "#### Solution\n",
    "\n",
    "Define global variables applicable to all estimators:"
   ]
  },
  {
   "cell_type": "code",
   "execution_count": 11,
   "metadata": {},
   "outputs": [],
   "source": [
    "# Global configuration\n",
    "\n",
    "RANDOM_STATE = 123      # Random state (for train/test split and cross-validation)"
   ]
  },
  {
   "attachments": {},
   "cell_type": "markdown",
   "metadata": {},
   "source": [
    "The helper function \n",
    "[`train_test_split()`](https://scikit-learn.org/stable/modules/generated/sklearn.model_selection.train_test_split.html)\n",
    "can be used to randomly assign 70% of observations to the training sub-set."
   ]
  },
  {
   "cell_type": "code",
   "execution_count": 12,
   "metadata": {},
   "outputs": [
    {
     "name": "stdout",
     "output_type": "stream",
     "text": [
      "Number of observation in training sample: 970\n",
      "Number of observation in test sample: 416\n"
     ]
    }
   ],
   "source": [
    "from sklearn.model_selection import train_test_split\n",
    "\n",
    "# Fraction assigned to test sub-set\n",
    "test_size = 0.3\n",
    "\n",
    "# Split feature matrix and target variable\n",
    "X_train, X_test, y_train, y_test  = train_test_split(\n",
    "    X, y, \n",
    "    test_size=test_size,\n",
    "    random_state=RANDOM_STATE\n",
    ")\n",
    "\n",
    "print(f'Number of observation in training sample: {X_train.shape[0]}')\n",
    "print(f'Number of observation in test sample: {X_test.shape[0]}')"
   ]
  },
  {
   "attachments": {},
   "cell_type": "markdown",
   "metadata": {},
   "source": [
    "## Linear regression\n",
    "\n",
    "Perform the following tasks:\n",
    "\n",
    "1. Do you need to standardise features before estimating a linear regression model? Does the linear regression model have any hyperparameters?\n",
    "2. Estimate the above model specification using a linear regression model on the training sub-set. \n",
    "3. Compute and report the mean squared error (MSE) on the test sample.\n",
    "\n",
    "*Hints:*\n",
    "\n",
    "- Use the [`LinearRegression`](https://scikit-learn.org/stable/modules/generated/sklearn.linear_model.LinearRegression.html) class to estimate the model.\n",
    "- The mean squared error can be computed with [`mean_squared_error()`](https://scikit-learn.org/stable/modules/generated/sklearn.metrics.mean_squared_error.html)."
   ]
  },
  {
   "attachments": {},
   "cell_type": "markdown",
   "metadata": {},
   "source": [
    "#### Solution\n",
    "\n",
    "A plain linear regression model can be estimated using\n",
    "[`LinearRegression`](https://scikit-learn.org/stable/modules/generated/sklearn.linear_model.LinearRegression.html). \n",
    "\n",
    "- No standardisation is needed for plain linear regression models.\n",
    "- The linear regression model in general does not have any hyperparameters. We could view the polynomial degree used to create the feature matrix as a hyperparameter, but we don't tune this parameter in this exercise."
   ]
  },
  {
   "cell_type": "code",
   "execution_count": 13,
   "metadata": {},
   "outputs": [],
   "source": [
    "from sklearn.linear_model import LinearRegression\n",
    "\n",
    "lr = LinearRegression(fit_intercept=True)\n",
    "lr.fit(X_train, y_train)\n",
    "\n",
    "y_test_hat = lr.predict(X_test)"
   ]
  },
  {
   "attachments": {},
   "cell_type": "markdown",
   "metadata": {},
   "source": [
    "To compute the MSE on the test sample, we use the helper function\n",
    "[`mean_squared_error()`](https://scikit-learn.org/stable/modules/generated/sklearn.metrics.mean_squared_error.html)."
   ]
  },
  {
   "cell_type": "code",
   "execution_count": 14,
   "metadata": {},
   "outputs": [
    {
     "name": "stdout",
     "output_type": "stream",
     "text": [
      "MSE for linear regression (test sample): 0.03264\n"
     ]
    }
   ],
   "source": [
    "from sklearn.metrics import mean_squared_error\n",
    "\n",
    "# Compute MSE on test sample\n",
    "mse_lr = mean_squared_error(y_test, y_test_hat)\n",
    "\n",
    "print(f'MSE for linear regression (test sample): {mse_lr:,.5g}')"
   ]
  },
  {
   "attachments": {},
   "cell_type": "markdown",
   "metadata": {},
   "source": [
    "## Ridge regression\n",
    "\n",
    "Perform the following tasks:\n",
    "\n",
    "1. Does Ridge regression require feature standardisation? If so, don't forget to apply it before fitting the model.\n",
    "2. Use [`RidgeCV`](https://scikit-learn.org/stable/modules/generated/sklearn.linear_model.RidgeCV.html)\n",
    "    to determine the best regularisation strength $\\alpha$ on the training sub-sample.\n",
    "    You can use the MSE metric (the default) to find the optimal $\\alpha$.\n",
    "    Report the optimal $\\alpha$ and the corresponding MSE.\n",
    "3. Plot the MSE (averaged over folds on the training sub-sample) against the regularisation strength $\\alpha$ on the $x$-axis (use a log scale for the $x$-axis).\n",
    "4. Compute and report the MSE on the test sample.\n",
    "\n",
    "*Hints:* \n",
    "\n",
    "- When running `RidgeCV`, use a grid of 500 $\\alpha$'s which are spaced uniformly in logs:\n",
    "    ```python\n",
    "    alphas = np.logspace(np.log10(1.0e-6), np.log10(100), 500)\n",
    "    ```\n",
    "- Recall that the (negative!) best MSE is stored in the attribute `best_score_` after cross-validation is complete."
   ]
  },
  {
   "attachments": {},
   "cell_type": "markdown",
   "metadata": {},
   "source": [
    "#### Solution\n",
    "\n",
    "The Ridge regression model can be sensitive to scaling so we standardise the features before fitting the model."
   ]
  },
  {
   "cell_type": "code",
   "execution_count": 15,
   "metadata": {},
   "outputs": [],
   "source": [
    "from sklearn.preprocessing import StandardScaler\n",
    "from sklearn.linear_model import RidgeCV\n",
    "from sklearn.pipeline import make_pipeline\n",
    "\n",
    "transform = make_pipeline(\n",
    "    StandardScaler()\n",
    ")\n",
    "\n",
    "X_train_trans = transform.fit_transform(X_train)\n",
    "\n",
    "alphas = np.logspace(np.log10(1.0e-6), np.log10(100), 500)\n",
    "\n",
    "rcv = RidgeCV(alphas=alphas, store_cv_values=True).fit(X_train_trans, y_train)"
   ]
  },
  {
   "cell_type": "code",
   "execution_count": 16,
   "metadata": {},
   "outputs": [
    {
     "name": "stdout",
     "output_type": "stream",
     "text": [
      "Best alpha: 0.0229 (MSE: 0.025092)\n"
     ]
    }
   ],
   "source": [
    "# Recover best alpha that minimizes MSE\n",
    "alpha_best = rcv.alpha_\n",
    "\n",
    "# Best MSE is stored as negative score!\n",
    "MSE_best = - rcv.best_score_\n",
    "\n",
    "print(f'Best alpha: {alpha_best:.3g} (MSE: {MSE_best:,.5g})')"
   ]
  },
  {
   "cell_type": "code",
   "execution_count": 17,
   "metadata": {},
   "outputs": [
    {
     "data": {
      "application/pdf": "[encoded data removed]",
      "image/png": "[encoded data removed]",
      "text/plain": [
       "<Figure size 400x300 with 1 Axes>"
      ]
     },
     "metadata": {},
     "output_type": "display_data"
    }
   ],
   "source": [
    "import matplotlib.pyplot as plt\n",
    "\n",
    "# Compute average MSE for each alpha value across all folds\n",
    "rmse_mean = np.mean(rcv.cv_values_, axis=0)\n",
    "\n",
    "# Index of MSE-minimising alpha\n",
    "imin = np.argmin(rmse_mean)\n",
    "\n",
    "# Plot MSE against alphas, highlight minimum MSE\n",
    "plt.plot(alphas, rmse_mean)\n",
    "plt.xlabel(r'Regularisation strength $\\alpha$ (log scale)')\n",
    "plt.ylabel('Cross-validated RMSE')\n",
    "plt.scatter(alphas[imin], rmse_mean[imin], s=15, c='black', zorder=100)\n",
    "plt.axvline(alphas[imin], ls=':', lw=0.75, c='black')\n",
    "plt.title('Ridge: cross-validated MSE')\n",
    "plt.xscale('log')"
   ]
  },
  {
   "cell_type": "code",
   "execution_count": 18,
   "metadata": {},
   "outputs": [
    {
     "name": "stdout",
     "output_type": "stream",
     "text": [
      "MSE for Ridge regression (test sample): 0.030267\n"
     ]
    }
   ],
   "source": [
    "from sklearn.linear_model import Ridge\n",
    "\n",
    "pipe_ridge = make_pipeline(\n",
    "    StandardScaler(), \n",
    "    Ridge(alpha=alpha_best, fit_intercept=True)\n",
    ")\n",
    "\n",
    "pipe_ridge.fit(X_train, y_train)\n",
    "\n",
    "y_test_hat = pipe_ridge.predict(X_test)\n",
    "mse_ridge = mean_squared_error(y_test, y_test_hat)\n",
    "\n",
    "print(f'MSE for Ridge regression (test sample): {mse_ridge:,.5g}')"
   ]
  },
  {
   "attachments": {},
   "cell_type": "markdown",
   "metadata": {},
   "source": [
    "## Lasso\n",
    "\n",
    "Perform the following tasks:\n",
    "\n",
    "1. Does Lasso require feature standardisation? If so, don't forget to apply it before fitting the model.\n",
    "2. Use [`LassoCV`](https://scikit-learn.org/stable/modules/generated/sklearn.linear_model.LassoCV.html)\n",
    "    to determine the best regularisation strength $\\alpha$ on the training sub-sample\n",
    "    using cross-validation with 5 folds.\n",
    "    You can use the MSE metric (the default) to find the optimal $\\alpha$.\n",
    "    Report the optimal $\\alpha$ and the corresponding MSE.\n",
    "3. Plot the MSE (averaged over folds on the training sub-sample) against the regularisation strength $\\alpha$ on the $x$-axis (use a log scale for the $x$-axis).\n",
    "4. Compute and report the MSE on the test sample for the model using the optimal $\\alpha$.\n",
    "5. Report the number of non-zero coefficients for the model using the optimal $\\alpha$.\n",
    "\n",
    "*Hints:* \n",
    "\n",
    "- Getting Lasso to converge may require some experimentation. The following settings should help: increase the max. number of iterations to `max_iter=1000000` and use `selection='random'`. Set `random_state=123` to get reproducible results:\n",
    "\n",
    "    ```python\n",
    "    LassoCV(..., max_iter=1000000, selection='random', random_state=123)\n",
    "    ```\n",
    "- Use `eps=1.0e-4` as an argument to `LassoCV` to specify the ratio of the smallest to the largest $\\alpha$.\n",
    "- After cross-validation is complete, the MSE for each value of $\\alpha$ and each fold are stored in the attribute `mse_path_` which is an array with shape `(N_ALPHA, N_FOLDS)`."
   ]
  },
  {
   "attachments": {},
   "cell_type": "markdown",
   "metadata": {},
   "source": [
    "#### Solution"
   ]
  },
  {
   "cell_type": "code",
   "execution_count": 19,
   "metadata": {},
   "outputs": [],
   "source": [
    "# Global configuration\n",
    "\n",
    "NFOLDS = 5              # Number of folds for cross-validation (for Lasso)\n",
    "MAXITER = 1000000       # Max. iterations (for Lasso)\n",
    "SELECTION = 'random'    # Selection of component to update (for Lasso)"
   ]
  },
  {
   "attachments": {},
   "cell_type": "markdown",
   "metadata": {},
   "source": [
    "Just like Ridge regression, Lasso can be sensitive to scaling and we thus need to standardise the features before fitting the model.\n",
    "`LassoCV` does all the work for us, so we only need to specify the grid of candidate $\\alpha$ values. Using `eps=1.0e-4` instead of the default value increases the range of candidate $\\alpha$."
   ]
  },
  {
   "cell_type": "code",
   "execution_count": 20,
   "metadata": {},
   "outputs": [],
   "source": [
    "from sklearn.linear_model import LassoCV\n",
    "\n",
    "# Define and fit Lasso CV\n",
    "lcv = LassoCV(eps=1.0e-4, \n",
    "    n_alphas=200,\n",
    "    max_iter=MAXITER, \n",
    "    cv=NFOLDS, \n",
    "    random_state=RANDOM_STATE, \n",
    "    selection=SELECTION,\n",
    ").fit(X_train_trans, y_train)\n"
   ]
  },
  {
   "attachments": {},
   "cell_type": "markdown",
   "metadata": {},
   "source": [
    "We can recover the optional $\\alpha$ and the mean MSE from the fitted object as follows:"
   ]
  },
  {
   "cell_type": "code",
   "execution_count": 21,
   "metadata": {},
   "outputs": [
    {
     "name": "stdout",
     "output_type": "stream",
     "text": [
      "Best alpha: 7.5e-05 (MSE: 0.025038)\n"
     ]
    }
   ],
   "source": [
    "# Recover best alpha that minimizes MSE\n",
    "alpha_best = lcv.alpha_\n",
    "\n",
    "# MSE for each alpha, averaged over folds\n",
    "mse_mean = np.mean(lcv.mse_path_, axis=1)\n",
    "\n",
    "# Index of min. MSE\n",
    "imin = np.argmin(mse_mean)\n",
    "\n",
    "mse_best = mse_mean[imin]\n",
    "\n",
    "print(f'Best alpha: {alpha_best:.4g} (MSE: {mse_best:.5g})')"
   ]
  },
  {
   "cell_type": "code",
   "execution_count": 22,
   "metadata": {},
   "outputs": [
    {
     "data": {
      "application/pdf": "[encoded data removed]",
      "image/png": "[encoded data removed]",
      "text/plain": [
       "<Figure size 400x300 with 1 Axes>"
      ]
     },
     "metadata": {},
     "output_type": "display_data"
    }
   ],
   "source": [
    "import matplotlib.pyplot as plt\n",
    "\n",
    "# Plot MSE against alphas, highlight minimum MSE\n",
    "plt.plot(lcv.alphas_, mse_mean)\n",
    "plt.xlabel(r'Regularisation strength $\\alpha$ (log scale)')\n",
    "plt.ylabel('Cross-validated MSE')\n",
    "plt.scatter(lcv.alphas_[imin], mse_mean[imin], s=15, c='black', zorder=100)\n",
    "plt.axvline(lcv.alphas_[imin], ls=':', lw=0.75, c='black')\n",
    "plt.title('Lasso: cross-validated MSE')\n",
    "plt.xscale('log')"
   ]
  },
  {
   "attachments": {},
   "cell_type": "markdown",
   "metadata": {},
   "source": [
    "Once the optional $\\alpha$ is identified, we re-estimate the Lasso and compute the predicted values on the test sample as well as the MSE."
   ]
  },
  {
   "cell_type": "code",
   "execution_count": 23,
   "metadata": {},
   "outputs": [
    {
     "name": "stdout",
     "output_type": "stream",
     "text": [
      "MSE for Lasso regression (test sample): 0.024137\n"
     ]
    }
   ],
   "source": [
    "from sklearn.linear_model import Lasso\n",
    "\n",
    "pipe_lasso = make_pipeline(\n",
    "    StandardScaler(), \n",
    "    Lasso(alpha=alpha_best, \n",
    "        fit_intercept=True, \n",
    "        max_iter=MAXITER,\n",
    "        selection=SELECTION,\n",
    "        random_state=RANDOM_STATE\n",
    "    )\n",
    ")\n",
    "\n",
    "pipe_lasso.fit(X_train, y_train)\n",
    "\n",
    "y_test_hat = pipe_lasso.predict(X_test)\n",
    "mse_lasso = mean_squared_error(y_test, y_test_hat)\n",
    "\n",
    "print(f'MSE for Lasso regression (test sample): {mse_lasso:,.5g}')"
   ]
  },
  {
   "attachments": {},
   "cell_type": "markdown",
   "metadata": {},
   "source": [
    "The number of non-zero coefficients can be recovered as follows:"
   ]
  },
  {
   "cell_type": "code",
   "execution_count": 24,
   "metadata": {},
   "outputs": [
    {
     "name": "stdout",
     "output_type": "stream",
     "text": [
      "Number of non-zero coefficients: 45 (out of 87)\n"
     ]
    }
   ],
   "source": [
    "Ncoefs = len(pipe_lasso.named_steps.lasso.coef_)\n",
    "Ncoefs_nonz = np.sum(np.abs(pipe_lasso.named_steps.lasso.coef_) > 1.0e-8)\n",
    "print(f'Number of non-zero coefficients: {Ncoefs_nonz} (out of {Ncoefs})')"
   ]
  },
  {
   "attachments": {},
   "cell_type": "markdown",
   "metadata": {},
   "source": [
    "## Compare estimation results\n",
    "\n",
    "Create a table which contains the MSE computed on the test sample for all three models (using their optimal hyperparameters). Which model yields the lowest MSE?"
   ]
  },
  {
   "attachments": {},
   "cell_type": "markdown",
   "metadata": {},
   "source": [
    "#### Solution\n",
    "\n",
    "The following code combines the MSEs computed in the previous sections and tabulates them by estimator. As can be seen, the Lasso performs best among the three estimators, yielding the smallest MSE on the test sub-sample."
   ]
  },
  {
   "cell_type": "code",
   "execution_count": 25,
   "metadata": {},
   "outputs": [
    {
     "data": {
      "text/html": [
       "<div>\n",
       "<style scoped>\n",
       "    .dataframe tbody tr th:only-of-type {\n",
       "        vertical-align: middle;\n",
       "    }\n",
       "\n",
       "    .dataframe tbody tr th {\n",
       "        vertical-align: top;\n",
       "    }\n",
       "\n",
       "    .dataframe thead th {\n",
       "        text-align: right;\n",
       "    }\n",
       "</style>\n",
       "<table border=\"1\" class=\"dataframe\">\n",
       "  <thead>\n",
       "    <tr style=\"text-align: right;\">\n",
       "      <th></th>\n",
       "      <th>MSE</th>\n",
       "    </tr>\n",
       "    <tr>\n",
       "      <th>Estimator</th>\n",
       "      <th></th>\n",
       "    </tr>\n",
       "  </thead>\n",
       "  <tbody>\n",
       "    <tr>\n",
       "      <th>Linear Reg</th>\n",
       "      <td>0.032640</td>\n",
       "    </tr>\n",
       "    <tr>\n",
       "      <th>Ridge</th>\n",
       "      <td>0.030267</td>\n",
       "    </tr>\n",
       "    <tr>\n",
       "      <th>Lasso</th>\n",
       "      <td>0.024137</td>\n",
       "    </tr>\n",
       "  </tbody>\n",
       "</table>\n",
       "</div>"
      ],
      "text/plain": [
       "                 MSE\n",
       "Estimator           \n",
       "Linear Reg  0.032640\n",
       "Ridge       0.030267\n",
       "Lasso       0.024137"
      ]
     },
     "execution_count": 25,
     "metadata": {},
     "output_type": "execute_result"
    }
   ],
   "source": [
    "# Create Table with results\n",
    "\n",
    "# Compute all previously estimated MSE\n",
    "MSE_all = [mse_lr, mse_ridge, mse_lasso]\n",
    "\n",
    "# Model labels\n",
    "labels = ['Linear Reg', 'Ridge', 'Lasso']\n",
    "\n",
    "# Create DataFrame, allows for pretty printing of results\n",
    "results = pd.DataFrame({'MSE': MSE_all}, index=pd.Index(labels, name='Estimator'))\n",
    "\n",
    "results"
   ]
  }
 ],
 "metadata": {
  "kernelspec": {
   "display_name": "Python 3.10.4 ('py3-default')",
   "language": "python",
   "name": "python3"
  },
  "language_info": {
   "codemirror_mode": {
    "name": "ipython",
    "version": 3
   },
   "file_extension": ".py",
   "mimetype": "text/x-python",
   "name": "python",
   "nbconvert_exporter": "python",
   "pygments_lexer": "ipython3",
   "version": "3.10.11"
  },
  "orig_nbformat": 4,
  "vscode": {
   "interpreter": {
    "hash": "89692ee4bd8d7a7842eb7c7050f10ae8c4113955275de7625334d5364ea86119"
   }
  }
 },
 "nbformat": 4,
 "nbformat_minor": 2
}
