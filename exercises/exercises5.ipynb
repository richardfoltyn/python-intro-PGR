{
 "cells": [
  {
   "attachments": {},
   "cell_type": "markdown",
   "metadata": {},
   "source": [
    "# Optimisation with interpolation\n",
    "\n",
    "In this exercise you are asked to find the maximum of a function that\n",
    "is defined by a handful of points defined on a grid:"
   ]
  },
  {
   "cell_type": "code",
   "execution_count": 1,
   "metadata": {},
   "outputs": [],
   "source": [
    "grid = [0., 1., 2., 3., 4., 5.]\n",
    "values = [-1.625, -1.225, -1.025, -1.025, -1.225, -1.625]"
   ]
  },
  {
   "attachments": {},
   "cell_type": "markdown",
   "metadata": {},
   "source": [
    "You will use interpolation to evaluate the function at values that are not on this grid.\n",
    "\n",
    "Perform the following points:\n",
    "\n",
    "1. Plot `values` against `grid` using a line plot.\n",
    "2. Write an objective function that can be used to find the maximum of this\n",
    "    function:\n",
    "\n",
    "    ```python\n",
    "    def objective(x, grid, values):\n",
    "        ...\n",
    "    ```\n",
    "    It should take a scalar argument `x` and evaluate the function value\n",
    "    using interpolation.\n",
    "\n",
    "    *Hint:* You can use [`np.interp()`](https://numpy.org/doc/stable/reference/generated/numpy.interp.html)\n",
    "    to perform *linear* interpolation.\n",
    "3.  Use SciPy's [`minimize_scalar()`](https://docs.scipy.org/doc/scipy/reference/generated/scipy.optimize.minimize_scalar.html)\n",
    "    to perform the maximisation. You can pick a specific method or just use the default settings. \n",
    "    Report the maximum and the maximiser at which it is attained.\n",
    "\n",
    "    *Hint:* You need to pass the additional arguments to `objective` using the `args` argument:\n",
    "    \n",
    "    ```python\n",
    "    minimize_scalar(..., args=(grid, values))\n",
    "    ```\n",
    "\n",
    "    *Hint:* The minimum is stored in the `fun` attribute of the object returns by the minimiser, while\n",
    "    the value at which the minimum it attained is stored in the `x` attribute.\n",
    "4. **[Advanced]** NumPy's `np.interp()` only supports linear interpolation (and does not allow for extrapolation, which, however, is not needed\n",
    "    in this case.)\n",
    "    Rewrite your objective function using SciPy's [`interp1d()`](https://docs.scipy.org/doc/scipy/reference/generated/scipy.interpolate.interp1d.html)\n",
    "    to perform *quadratic* interpolation by specifying `kind='quadratic'`.\n",
    "\n",
    "    *Hint:* Unlike NumPy's `np.interp()`, the SciPy variant returns a *function* which can be used to interpolate arbitrary points."
   ]
  }
 ],
 "metadata": {
  "kernelspec": {
   "display_name": "python-intro-PGR",
   "language": "python",
   "name": "python3"
  },
  "language_info": {
   "codemirror_mode": {
    "name": "ipython",
    "version": 3
   },
   "file_extension": ".py",
   "mimetype": "text/x-python",
   "name": "python",
   "nbconvert_exporter": "python",
   "pygments_lexer": "ipython3",
   "version": "3.10.11"
  },
  "orig_nbformat": 4
 },
 "nbformat": 4,
 "nbformat_minor": 2
}
