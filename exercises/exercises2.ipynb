{
 "cells": [
  {
   "attachments": {},
   "cell_type": "markdown",
   "metadata": {},
   "source": [
    "# Plotting lifetime utility\n",
    "\n",
    "In the first lab, we considered the the following two-period consumption/savings problem\n",
    "$$\n",
    "\\begin{aligned}\n",
    "\\max_{c_1,c_2} \\quad &\\frac{c_1^{1-\\gamma}}{1-\\gamma}\n",
    "    + \\beta \\frac{c_2^{1-\\gamma}}{1-\\gamma} \\\\\n",
    "\\text{s.t.} \\quad c_1 &+ \\frac{c_2}{1+r} = w \\\\\n",
    "    c_1 &\\geq 0, ~ c_2 \\geq 0\n",
    "\\end{aligned}\n",
    "$$\n",
    "where the solution was given by\n",
    "$$\n",
    "\\begin{aligned}\n",
    "c_1 &= \\alpha \\cdot w \\\\\n",
    "c_2 &= (1 + r)(1-\\alpha) w \\\\\n",
    "\\text{with} \\quad \\alpha &= \\left[1 + \\beta^{\\frac{1}{\\gamma}} (1+r)^{\\frac{1}{\\gamma} - 1}\\right]^{-1}\n",
    "\\end{aligned}\n",
    "$$\n",
    "\n",
    "Using the parameters $\\beta = 0.96$ and $r = 0.04$, plot the lifetime utility implied by the optimal allocation for \n",
    "100 uniformly spaced wealth levels $w$ on the interval $[0.1, 1.0]$.\n",
    "Plot two lines (in a single plot) for two values of the relative risk aversion parameter $\\gamma$:\n",
    "\n",
    "1. $\\gamma = 1$ with color `'blue'`\n",
    "2. $\\gamma = 2$ with color `'red'` using a dashed line.\n",
    "\n",
    "Label both axes and include a legend to distinguish these two scenarios.\n",
    "\n",
    "You can use the following functions to compute the lifetime utility:"
   ]
  },
  {
   "cell_type": "code",
   "execution_count": 1,
   "metadata": {},
   "outputs": [],
   "source": [
    "import numpy as np\n",
    "\n",
    "# Function to compute per-period utility\n",
    "def util(c, gamma):\n",
    "    if gamma == 1:\n",
    "        u = np.log(c)\n",
    "    else:\n",
    "        u = c**(1.0 - gamma) / (1.0 - gamma)\n",
    "    return u\n",
    "\n",
    "# Function to compute lifetime utility\n",
    "def lifetime_util(c1, c2, beta, gamma):\n",
    "    return util(c1, gamma) + beta * util(c2, gamma)"
   ]
  },
  {
   "attachments": {},
   "cell_type": "markdown",
   "metadata": {},
   "source": [
    "# Markov processes\n",
    "\n",
    "Consider the following Markov process defined on two states with transition matrix\n",
    "$$\n",
    "\\Pi = \\begin{bmatrix} 0.9 & 0.1 \\\\ 0.1 & 0.9 \\end{bmatrix}\n",
    "$$\n",
    "Let $\\mu_t = \\begin{bmatrix} x \\\\ 1-x \\end{bmatrix}$ denote the distribution of a large number (a unit mass) of households over these two states at time $t$. The distribution in period $t+1$ is then given by\n",
    "$$\n",
    "\\mu_{t+1}^\\top = \\mu_t^\\top \\Pi\n",
    "$$\n",
    "Assume that at time zero the distribution is given by \n",
    "$\\mu_0 = \\begin{bmatrix} 1 \\\\ 0 \\end{bmatrix}$.\n",
    "Simulate the Markov process for $T=50$ periods and plot the fraction of households in state 1.\n",
    "\n",
    "*Hint:* You need to perform matrix multiplication in a loop and save the value of $\\mu_t$ for each period."
   ]
  },
  {
   "attachments": {},
   "cell_type": "markdown",
   "metadata": {},
   "source": [
    "# Custom function to compute averages\n",
    "\n",
    "Implement the function `myaverage()` defined as \n",
    "\n",
    "```python\n",
    "def myaverage(x):\n",
    "    # Compute and return average of values in x\n",
    "```\n",
    "\n",
    "which takes an array (or list, tuple) `x` containing numerical values and \n",
    "returns its average. Implement this function using a `for` loop.\n",
    "\n",
    "Time your function using `%timeit` and compare the run time to the NumPy's\n",
    "[`np.average()`](https://numpy.org/doc/stable/reference/generated/numpy.average.html).\n",
    "Perform these tests for two arrays:\n",
    "\n",
    "1. An array of ones with 100 elements.\n",
    "2. An array of ones with 10,000 elements.\n",
    "\n",
    "Does the relative run time depend on the array size?"
   ]
  }
 ],
 "metadata": {
  "kernelspec": {
   "display_name": "python-intro-PGR",
   "language": "python",
   "name": "python3"
  },
  "language_info": {
   "codemirror_mode": {
    "name": "ipython",
    "version": 3
   },
   "file_extension": ".py",
   "mimetype": "text/x-python",
   "name": "python",
   "nbconvert_exporter": "python",
   "pygments_lexer": "ipython3",
   "version": "3.10.11"
  },
  "orig_nbformat": 4
 },
 "nbformat": 4,
 "nbformat_minor": 2
}
