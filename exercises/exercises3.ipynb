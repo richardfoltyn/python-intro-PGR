{
 "cells": [
  {
   "attachments": {},
   "cell_type": "markdown",
   "metadata": {},
   "source": [
    "# Decade averages of US aggregate data\n",
    "\n",
    "Using the data from the CSV file `FRED.csv`, perform the following tasks:\n",
    "\n",
    "1.  Load the data using [`read_csv(..., sep=',')`](https://pandas.pydata.org/docs/reference/api/pandas.read_csv.html)\n",
    "1.  Compute the GDP growth rate and inflation as the percentage changes\n",
    "    of the columns `GDP` and `CPI` using \n",
    "    [`pct_change()`](https://pandas.pydata.org/docs/reference/api/pandas.DataFrame.pct_change.html).\n",
    "2.  Add the column `Decade` which contains the decade for every observation.\n",
    "    Use 1940 to code the 40s, 1950 for the 50s, etc.\n",
    "3.  Compute the decade averages for annual GDP growth, inflation and the unemployment rate (`UNRATE`).\n",
    "    To do this, you need to `groupby()` the `Decade` column you just created."
   ]
  },
  {
   "attachments": {},
   "cell_type": "markdown",
   "metadata": {},
   "source": [
    "# Federal Funds Rate\n",
    "\n",
    "In this exercise, you are asked to retrieve and plot the US Federal Funds Rate.\n",
    "\n",
    "1. Using `pandas_datareader`, download the time series from\n",
    "    [FRED](https://fred.stlouisfed.org/series/DFF) starting from 2000-01-01.\n",
    "\n",
    "    If you are unable to install `pandas_datareader`, e.g., because you\n",
    "    are using Jupyter Lite, you can instead load the data from the file\n",
    "    `FFR.csv` as follows:\n",
    "\n",
    "    ```python\n",
    "    pd.read_csv('FFR.csv', index_col='DATE', parse_dates=True)\n",
    "    ```\n",
    "\n",
    "2. The data you just retrieved is at daily frequency, but the FFR usually   \n",
    "    remains fairly constant for several weeks (or even months).\n",
    "    Resample the data to monthly frequency using \n",
    "    [`resample()`](https://pandas.pydata.org/pandas-docs/stable/reference/api/pandas.DataFrame.resample.html),\n",
    "    averaging over daily observations.\n",
    "3. Plot the monthly FFR using pandas's plotting routines. Add a title\n",
    "    and label both axes."
   ]
  }
 ],
 "metadata": {
  "kernelspec": {
   "display_name": "python-intro-PGR",
   "language": "python",
   "name": "python3"
  },
  "language_info": {
   "codemirror_mode": {
    "name": "ipython",
    "version": 3
   },
   "file_extension": ".py",
   "mimetype": "text/x-python",
   "name": "python",
   "nbconvert_exporter": "python",
   "pygments_lexer": "ipython3",
   "version": "3.10.11"
  },
  "orig_nbformat": 4
 },
 "nbformat": 4,
 "nbformat_minor": 2
}
